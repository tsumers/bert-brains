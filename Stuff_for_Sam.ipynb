{
 "cells": [
  {
   "cell_type": "code",
   "execution_count": 1,
   "metadata": {},
   "outputs": [],
   "source": [
    "import numpy as np \n",
    "import nibabel as nib \n",
    "import matplotlib.pyplot as plt \n",
    "import nilearn.plotting as niplt\n",
    "%matplotlib inline \n",
    "import os \n",
    "import seaborn as sns \n",
    "from scipy.special import softmax \n",
    "from scipy.stats import ttest_rel\n",
    "import pandas as pd "
   ]
  },
  {
   "cell_type": "code",
   "execution_count": 3,
   "metadata": {},
   "outputs": [
    {
     "ename": "NameError",
     "evalue": "name 'story' is not defined",
     "output_type": "error",
     "traceback": [
      "\u001b[0;31m---------------------------------------------------------------------------\u001b[0m",
      "\u001b[0;31mNameError\u001b[0m                                 Traceback (most recent call last)",
      "\u001b[0;32m<ipython-input-3-53f06a87348b>\u001b[0m in \u001b[0;36m<module>\u001b[0;34m\u001b[0m\n\u001b[1;32m      1\u001b[0m \u001b[0mparcellation_nii\u001b[0m\u001b[0;34m=\u001b[0m\u001b[0mnib\u001b[0m\u001b[0;34m.\u001b[0m\u001b[0mload\u001b[0m\u001b[0;34m(\u001b[0m\u001b[0;34m'/jukebox/griffiths/bert-brains/slumlordreach_data/Schaefer1000_3mm.nii.gz'\u001b[0m\u001b[0;34m)\u001b[0m\u001b[0;34m\u001b[0m\u001b[0;34m\u001b[0m\u001b[0m\n\u001b[1;32m      2\u001b[0m \u001b[0mparcellation\u001b[0m\u001b[0;34m=\u001b[0m\u001b[0mparcellation_nii\u001b[0m\u001b[0;34m.\u001b[0m\u001b[0mget_fdata\u001b[0m\u001b[0;34m(\u001b[0m\u001b[0;34m)\u001b[0m\u001b[0;34m.\u001b[0m\u001b[0mastype\u001b[0m\u001b[0;34m(\u001b[0m\u001b[0;34m'int'\u001b[0m\u001b[0;34m)\u001b[0m\u001b[0;34m\u001b[0m\u001b[0;34m\u001b[0m\u001b[0m\n\u001b[0;32m----> 3\u001b[0;31m \u001b[0mroi_mapping\u001b[0m\u001b[0;34m=\u001b[0m\u001b[0mnp\u001b[0m\u001b[0;34m.\u001b[0m\u001b[0mload\u001b[0m\u001b[0;34m(\u001b[0m\u001b[0;34m'/jukebox/griffiths/bert-brains/'\u001b[0m\u001b[0;34m+\u001b[0m\u001b[0mstory\u001b[0m\u001b[0;34m+\u001b[0m\u001b[0;34m'_data/Parcel2ROI_new.npy'\u001b[0m\u001b[0;34m)\u001b[0m\u001b[0;34m\u001b[0m\u001b[0;34m\u001b[0m\u001b[0m\n\u001b[0m",
      "\u001b[0;31mNameError\u001b[0m: name 'story' is not defined"
     ]
    }
   ],
   "source": [
    "parcellation_nii=nib.load('/jukebox/griffiths/bert-brains/slumlordreach_data/Schaefer1000_3mm.nii.gz')\n",
    "parcellation=parcellation_nii.get_fdata().astype('int')\n"
   ]
  },
  {
   "cell_type": "code",
   "execution_count": 5,
   "metadata": {},
   "outputs": [],
   "source": [
    "layers=nib.load('layerwise_performances.nii').get_fdata()\n",
    "zs=nib.load('zwise_performances.nii').get_fdata()"
   ]
  },
  {
   "cell_type": "code",
   "execution_count": 8,
   "metadata": {},
   "outputs": [
    {
     "data": {
      "text/plain": [
       "(65, 77, 49, 12)"
      ]
     },
     "execution_count": 8,
     "metadata": {},
     "output_type": "execute_result"
    }
   ],
   "source": [
    "layers.shape"
   ]
  },
  {
   "cell_type": "code",
   "execution_count": 13,
   "metadata": {},
   "outputs": [],
   "source": [
    "layers_parcels=np.zeros((1000,12))\n",
    "z_parcels=np.zeros((1000,12))\n",
    "for p in range(1000):\n",
    "    layers_parcels[p,:]=layers[np.where(parcellation==p+1)].mean(axis=0)\n",
    "    z_parcels[p,:]=zs[np.where(parcellation==p+1)].mean(axis=0)"
   ]
  },
  {
   "cell_type": "code",
   "execution_count": 16,
   "metadata": {},
   "outputs": [
    {
     "data": {
      "text/plain": [
       "(1000, 12)"
      ]
     },
     "execution_count": 16,
     "metadata": {},
     "output_type": "execute_result"
    }
   ],
   "source": [
    "layers_parcels.shape"
   ]
  },
  {
   "cell_type": "code",
   "execution_count": 19,
   "metadata": {},
   "outputs": [],
   "source": [
    "np.save('layer_parcels.npy',layers_parcels)\n",
    "np.save('z_parcels.npy',z_parcels)"
   ]
  },
  {
   "cell_type": "code",
   "execution_count": 10,
   "metadata": {},
   "outputs": [
    {
     "name": "stdout",
     "output_type": "stream",
     "text": [
      "0\n",
      "1\n",
      "2\n",
      "3\n",
      "4\n",
      "5\n",
      "6\n",
      "7\n",
      "8\n",
      "9\n",
      "10\n",
      "11\n"
     ]
    },
    {
     "data": {
      "text/plain": [
       "([<matplotlib.axis.YTick at 0x7f4dc4670b10>,\n",
       "  <matplotlib.axis.YTick at 0x7f4dc4670250>,\n",
       "  <matplotlib.axis.YTick at 0x7f4dc4657510>,\n",
       "  <matplotlib.axis.YTick at 0x7f4dc45e9310>,\n",
       "  <matplotlib.axis.YTick at 0x7f4dc45e9890>,\n",
       "  <matplotlib.axis.YTick at 0x7f4dc45e97d0>,\n",
       "  <matplotlib.axis.YTick at 0x7f4dc45ee590>,\n",
       "  <matplotlib.axis.YTick at 0x7f4dc45ee4d0>,\n",
       "  <matplotlib.axis.YTick at 0x7f4dc45f5290>,\n",
       "  <matplotlib.axis.YTick at 0x7f4dc45f5890>,\n",
       "  <matplotlib.axis.YTick at 0x7f4dc45f5710>,\n",
       "  <matplotlib.axis.YTick at 0x7f4dc45f5350>],\n",
       " <a list of 12 Text yticklabel objects>)"
      ]
     },
     "execution_count": 10,
     "metadata": {},
     "output_type": "execute_result"
    },
    {
     "data": {
      "image/png": "[encoded data removed]",
      "text/plain": [
       "<Figure size 432x288 with 2 Axes>"
      ]
     },
     "metadata": {
      "needs_background": "light"
     },
     "output_type": "display_data"
    }
   ],
   "source": [
    "from scipy.stats import pearsonr \n",
    "embeddings=[]\n",
    "for layer in range(12):\n",
    "    embeddings.append(np.load('data/black/bert-base-uncased/raw_embeddings/black_bert-base-uncased_layer_'+str(layer)+\"_activations.npy\"))\n",
    "embeddings=np.asarray(embeddings)\n",
    "corrs=np.zeros((12,12))\n",
    "for i in range(12):\n",
    "    print(i)\n",
    "    for j in range(12):\n",
    "        if i!=j: \n",
    "            layer1=embeddings[i]\n",
    "            layer2=embeddings[j]\n",
    "            c=[]\n",
    "            for tr in range(534):\n",
    "                c.append(pearsonr(layer1[tr],layer2[tr])[0])\n",
    "            corrs[i,j]=np.mean(c)\n",
    "        else:\n",
    "            corrs[i,j]=1.0\n",
    "\n",
    "plt.imshow(corrs,cmap='coolwarm',vmin=-1,vmax=1)\n",
    "plt.colorbar()\n",
    "plt.title(\"Embedding Similarity by Layer\")\n",
    "plt.xlabel(\"Layer\")\n",
    "plt.ylabel(\"Layer\")\n",
    "plt.xticks(list(range(12)),list(range(1,13)))\n",
    "plt.yticks(list(range(12)),list(range(1,13)))"
   ]
  },
  {
   "cell_type": "code",
   "execution_count": 11,
   "metadata": {},
   "outputs": [
    {
     "data": {
      "text/plain": [
       "(array([ 8.,  2.,  8., 12., 14., 14., 18., 16., 20., 20.]),\n",
       " array([0.24594847, 0.31439207, 0.38283567, 0.45127928, 0.51972288,\n",
       "        0.58816648, 0.65661008, 0.72505368, 0.79349729, 0.86194089,\n",
       "        0.93038449]),\n",
       " <a list of 10 Patch objects>)"
      ]
     },
     "execution_count": 11,
     "metadata": {},
     "output_type": "execute_result"
    },
    {
     "data": {
      "image/png": "[encoded data removed]",
      "text/plain": [
       "<Figure size 432x288 with 1 Axes>"
      ]
     },
     "metadata": {
      "needs_background": "light"
     },
     "output_type": "display_data"
    }
   ],
   "source": [
    "plt.hist(corrs[corrs!=1])"
   ]
  },
  {
   "cell_type": "code",
   "execution_count": 3,
   "metadata": {},
   "outputs": [
    {
     "name": "stdout",
     "output_type": "stream",
     "text": [
      "0\n",
      "1\n",
      "2\n",
      "3\n",
      "4\n",
      "5\n",
      "6\n",
      "7\n",
      "8\n",
      "9\n",
      "10\n",
      "11\n"
     ]
    },
    {
     "data": {
      "text/plain": [
       "([<matplotlib.axis.YTick at 0x7f4dc4ad1a50>,\n",
       "  <matplotlib.axis.YTick at 0x7f4dc4ad1190>,\n",
       "  <matplotlib.axis.YTick at 0x7f4dc173d410>,\n",
       "  <matplotlib.axis.YTick at 0x7f4dc4a4e4d0>,\n",
       "  <matplotlib.axis.YTick at 0x7f4dc4a4e3d0>,\n",
       "  <matplotlib.axis.YTick at 0x7f4dc4a551d0>,\n",
       "  <matplotlib.axis.YTick at 0x7f4dc4a55810>,\n",
       "  <matplotlib.axis.YTick at 0x7f4dc4a556d0>,\n",
       "  <matplotlib.axis.YTick at 0x7f4dc4a55cd0>,\n",
       "  <matplotlib.axis.YTick at 0x7f4dc4a495d0>,\n",
       "  <matplotlib.axis.YTick at 0x7f4dc4a5c3d0>,\n",
       "  <matplotlib.axis.YTick at 0x7f4dc4a5c9d0>],\n",
       " <a list of 12 Text yticklabel objects>)"
      ]
     },
     "execution_count": 3,
     "metadata": {},
     "output_type": "execute_result"
    },
    {
     "data": {
      "image/png": "[encoded data removed]",
      "text/plain": [
       "<Figure size 432x288 with 2 Axes>"
      ]
     },
     "metadata": {
      "needs_background": "light"
     },
     "output_type": "display_data"
    }
   ],
   "source": [
    "from scipy.stats import pearsonr \n",
    "embeddings=[]\n",
    "for layer in range(12):\n",
    "    embeddings.append(np.load('data/black/bert-base-uncased/raw_embeddings/black_bert-base-uncased_layer_'+str(layer)+\"_z_representations.npy\"))\n",
    "embeddings=np.asarray(embeddings)\n",
    "corrs=np.zeros((12,12))\n",
    "for i in range(12):\n",
    "    print(i)\n",
    "    for j in range(12):\n",
    "        if i!=j: \n",
    "            layer1=embeddings[i]\n",
    "            layer2=embeddings[j]\n",
    "            c=[]\n",
    "            for tr in range(534):\n",
    "                c.append(pearsonr(layer1[tr],layer2[tr])[0])\n",
    "            corrs[i,j]=np.mean(c)\n",
    "        else:\n",
    "            corrs[i,j]=1.0\n",
    "\n",
    "plt.imshow(corrs,cmap='coolwarm',vmin=-1,vmax=1)\n",
    "plt.colorbar()\n",
    "plt.title(\"Transformation Similarity by Layer\")\n",
    "plt.xlabel(\"Layer\")\n",
    "plt.ylabel(\"Layer\")\n",
    "plt.xticks(list(range(12)),list(range(1,13)))\n",
    "plt.yticks(list(range(12)),list(range(1,13)))"
   ]
  },
  {
   "cell_type": "code",
   "execution_count": null,
   "metadata": {},
   "outputs": [],
   "source": []
  },
  {
   "cell_type": "code",
   "execution_count": 9,
   "metadata": {},
   "outputs": [
    {
     "data": {
      "text/plain": [
       "(array([18., 18., 30., 20., 30.,  8.,  2.,  4.,  0.,  2.]),\n",
       " array([-0.02526094, -0.01775015, -0.01023936, -0.00272857,  0.00478222,\n",
       "         0.012293  ,  0.01980379,  0.02731458,  0.03482537,  0.04233616,\n",
       "         0.04984695]),\n",
       " <a list of 10 Patch objects>)"
      ]
     },
     "execution_count": 9,
     "metadata": {},
     "output_type": "execute_result"
    },
    {
     "data": {
      "image/png": "[encoded data removed]",
      "text/plain": [
       "<Figure size 432x288 with 1 Axes>"
      ]
     },
     "metadata": {
      "needs_background": "light"
     },
     "output_type": "display_data"
    }
   ],
   "source": [
    "plt.hist(corrs[corrs!=1])"
   ]
  },
  {
   "cell_type": "code",
   "execution_count": 23,
   "metadata": {},
   "outputs": [
    {
     "data": {
      "text/plain": [
       "(10, 9216)"
      ]
     },
     "execution_count": 23,
     "metadata": {},
     "output_type": "execute_result"
    }
   ],
   "source": [
    "embeddings=[]\n",
    "black_subs=['sub-300', 'sub-304', 'sub-293', 'sub-273', 'sub-265', 'sub-307', 'sub-283', 'sub-275', \n",
    "'sub-291', 'sub-297', 'sub-303', 'sub-294', 'sub-286', 'sub-282', 'sub-310', 'sub-302', 'sub-312', \n",
    "'sub-301', 'sub-287', 'sub-298', 'sub-313', 'sub-285', 'sub-290', 'sub-288', 'sub-281', 'sub-276', 'sub-277', 'sub-299', 'sub-308',\n",
    "'sub-272', 'sub-284', 'sub-289', 'sub-280', 'sub-309', 'sub-306', 'sub-127', 'sub-279', \n",
    "'sub-315', 'sub-314','sub-292', 'sub-311', 'sub-267', 'sub-295', 'sub-305', 'sub-274'] \n",
    "slumlordreach_subs=['sub-145', 'sub-143', 'sub-016', 'sub-142', 'sub-141', 'sub-133', 'sub-140', 'sub-136', \n",
    "'sub-084', 'sub-135', 'sub-137', 'sub-138', 'sub-111', 'sub-106', 'sub-134', 'sub-132', 'sub-144']\n",
    "rois=['PostTemp','AntTemp','AngG','IFG','MFG','IFGorb','vmPFC','dmPFC','PMC','HG','V1']\n",
    "embeddings=[]\n",
    "\n",
    "for story in ['black','slumlordreach']:\n",
    "    roi_mapping=np.load('/jukebox/griffiths/bert-brains/'+story+'_data/Parcel2ROI_new.npy')\n",
    "    if story=='black':\n",
    "        subs=black_subs\n",
    "    else:\n",
    "        subs=slumlordreach_subs\n",
    "    for sub in subs:\n",
    "        weights_sub=np.load('/jukebox/griffiths/bert-brains/results/'+story+'/encoding_full/'+sub+\"_parcelwise_results_banded_ridge_weights.npy\")\n",
    "        weights_sub_rois=[]\n",
    "        for roi in range(10):\n",
    "            weights_sub_rois.append(weights_sub[:,roi_mapping==roi+1].mean(axis=1))\n",
    "        weights_sub_rois=np.asarray(weights_sub_rois)\n",
    "        embeddings.append(weights_sub_rois)\n",
    "embeddings=np.asarray(embeddings).mean(axis=0)\n",
    "embeddings.shape \n",
    "         "
   ]
  },
  {
   "cell_type": "code",
   "execution_count": 51,
   "metadata": {},
   "outputs": [
    {
     "data": {
      "text/plain": [
       "(10, 9216)"
      ]
     },
     "execution_count": 51,
     "metadata": {},
     "output_type": "execute_result"
    }
   ],
   "source": [
    "transformations=[]\n",
    "black_subs=['sub-300', 'sub-304', 'sub-293', 'sub-273', 'sub-265', 'sub-307', 'sub-283', 'sub-275', \n",
    "'sub-291', 'sub-297', 'sub-303', 'sub-294', 'sub-286', 'sub-282', 'sub-310', 'sub-302', 'sub-312', \n",
    "'sub-301', 'sub-287', 'sub-298', 'sub-313', 'sub-285', 'sub-290', 'sub-288', 'sub-281', 'sub-276', 'sub-277', 'sub-299', 'sub-308',\n",
    "'sub-272', 'sub-284', 'sub-289', 'sub-280', 'sub-309', 'sub-306', 'sub-127', 'sub-279', \n",
    "'sub-315', 'sub-314','sub-292', 'sub-311', 'sub-267', 'sub-295', 'sub-305', 'sub-274'] \n",
    "slumlordreach_subs=['sub-145', 'sub-143', 'sub-016', 'sub-142', 'sub-141', 'sub-133', 'sub-140', 'sub-136', \n",
    "'sub-084', 'sub-135', 'sub-137', 'sub-138', 'sub-111', 'sub-106', 'sub-134', 'sub-132', 'sub-144']\n",
    "rois=['PostTemp','AntTemp','AngG','IFG','MFG','IFGorb','vmPFC','dmPFC','PMC','HG','V1']\n",
    "\n",
    "for story in ['black','slumlordreach']:\n",
    "    roi_mapping=np.load('/jukebox/griffiths/bert-brains/'+story+'_data/Parcel2ROI_new.npy')\n",
    "    if story=='black':\n",
    "        subs=black_subs\n",
    "    else:\n",
    "        subs=slumlordreach_subs\n",
    "    for sub in subs:\n",
    "        weights_sub=np.load('/jukebox/griffiths/bert-brains/results/'+story+'/encoding_full_z/'+sub+\"_parcelwise_results_banded_ridge_weights.npy\")\n",
    "        weights_sub_rois=[]\n",
    "        for roi in range(10):\n",
    "            weights_sub_rois.append(weights_sub[:,roi_mapping==roi+1].mean(axis=1))\n",
    "        weights_sub_rois=np.asarray(weights_sub_rois)\n",
    "        transformations.append(weights_sub_rois)\n",
    "transformations=np.asarray(transformations).mean(axis=0)\n",
    "transformations.shape \n",
    "         "
   ]
  },
  {
   "cell_type": "code",
   "execution_count": 32,
   "metadata": {},
   "outputs": [
    {
     "data": {
      "text/plain": [
       "Text(0.5, 1.0, 'Embedddings')"
      ]
     },
     "execution_count": 32,
     "metadata": {},
     "output_type": "execute_result"
    },
    {
     "data": {
      "image/png": "[encoded data removed]",
      "text/plain": [
       "<Figure size 432x288 with 2 Axes>"
      ]
     },
     "metadata": {
      "needs_background": "light"
     },
     "output_type": "display_data"
    }
   ],
   "source": [
    "plt.figure()\n",
    "plt.imshow(np.corrcoef(embeddings),cmap='coolwarm')\n",
    "plt.colorbar()\n",
    "plt.xticks(list(range(10)),rois,rotation=90)\n",
    "plt.yticks(list(range(10)),rois)\n",
    "plt.title(\"Embedddings\")"
   ]
  },
  {
   "cell_type": "code",
   "execution_count": 33,
   "metadata": {},
   "outputs": [
    {
     "data": {
      "text/plain": [
       "Text(0.5, 1.0, 'Transformations')"
      ]
     },
     "execution_count": 33,
     "metadata": {},
     "output_type": "execute_result"
    },
    {
     "data": {
      "image/png": "[encoded data removed]",
      "text/plain": [
       "<Figure size 432x288 with 2 Axes>"
      ]
     },
     "metadata": {
      "needs_background": "light"
     },
     "output_type": "display_data"
    }
   ],
   "source": [
    "plt.figure()\n",
    "plt.imshow(np.corrcoef(transformations),cmap='coolwarm')\n",
    "plt.colorbar()\n",
    "plt.xticks(list(range(10)),rois,rotation=90)\n",
    "plt.yticks(list(range(10)),rois)\n",
    "plt.title(\"Transformations\")"
   ]
  },
  {
   "cell_type": "code",
   "execution_count": 35,
   "metadata": {},
   "outputs": [
    {
     "data": {
      "text/plain": [
       "array([[ 1.        ,  0.89272444,  0.51398738,  0.73176544,  0.81051057,\n",
       "         0.79686796, -0.47320848,  0.70926967,  0.10071486,  0.50231633],\n",
       "       [ 0.89272444,  1.        ,  0.52165537,  0.57954714,  0.61999989,\n",
       "         0.70670119, -0.46145474,  0.73436474,  0.31105462,  0.48006678],\n",
       "       [ 0.51398738,  0.52165537,  1.        ,  0.33867133,  0.32013681,\n",
       "         0.23792751, -0.17193595,  0.43579542,  0.58611307,  0.06242946],\n",
       "       [ 0.73176544,  0.57954714,  0.33867133,  1.        ,  0.66548567,\n",
       "         0.72185857, -0.2767533 ,  0.52151573, -0.02548264,  0.36787016],\n",
       "       [ 0.81051057,  0.61999989,  0.32013681,  0.66548567,  1.        ,\n",
       "         0.7158255 , -0.29132725,  0.59810276, -0.09531997,  0.44653491],\n",
       "       [ 0.79686796,  0.70670119,  0.23792751,  0.72185857,  0.7158255 ,\n",
       "         1.        , -0.31107672,  0.74398687, -0.04947362,  0.44325129],\n",
       "       [-0.47320848, -0.46145474, -0.17193595, -0.2767533 , -0.29132725,\n",
       "        -0.31107672,  1.        , -0.07616336,  0.10189822, -0.37477795],\n",
       "       [ 0.70926967,  0.73436474,  0.43579542,  0.52151573,  0.59810276,\n",
       "         0.74398687, -0.07616336,  1.        ,  0.2498508 ,  0.3267484 ],\n",
       "       [ 0.10071486,  0.31105462,  0.58611307, -0.02548264, -0.09531997,\n",
       "        -0.04947362,  0.10189822,  0.2498508 ,  1.        , -0.13691947],\n",
       "       [ 0.50231633,  0.48006678,  0.06242946,  0.36787016,  0.44653491,\n",
       "         0.44325129, -0.37477795,  0.3267484 , -0.13691947,  1.        ]])"
      ]
     },
     "execution_count": 35,
     "metadata": {},
     "output_type": "execute_result"
    }
   ],
   "source": [
    "np.corrcoef(transformations)"
   ]
  },
  {
   "cell_type": "code",
   "execution_count": 36,
   "metadata": {},
   "outputs": [
    {
     "data": {
      "text/plain": [
       "array([[ 1.        ,  0.89191166,  0.48756705,  0.73488692,  0.84335749,\n",
       "         0.79878851, -0.46001983,  0.72448607,  0.10088476,  0.50623041],\n",
       "       [ 0.89191166,  1.        ,  0.51360298,  0.56230402,  0.66249534,\n",
       "         0.71014918, -0.45468424,  0.7421637 ,  0.29493912,  0.47038711],\n",
       "       [ 0.48756705,  0.51360298,  1.        ,  0.26832912,  0.35084764,\n",
       "         0.22874244, -0.14265958,  0.43336489,  0.61858756,  0.00276364],\n",
       "       [ 0.73488692,  0.56230402,  0.26832912,  1.        ,  0.69578385,\n",
       "         0.727769  , -0.24227278,  0.54236367, -0.06675383,  0.36971907],\n",
       "       [ 0.84335749,  0.66249534,  0.35084764,  0.69578385,  1.        ,\n",
       "         0.76549771, -0.28064946,  0.65288903, -0.03755314,  0.44459236],\n",
       "       [ 0.79878851,  0.71014918,  0.22874244,  0.727769  ,  0.76549771,\n",
       "         1.        , -0.29331532,  0.75455244, -0.03918896,  0.4571954 ],\n",
       "       [-0.46001983, -0.45468424, -0.14265958, -0.24227278, -0.28064946,\n",
       "        -0.29331532,  1.        , -0.0757707 ,  0.15030085, -0.34482981],\n",
       "       [ 0.72448607,  0.7421637 ,  0.43336489,  0.54236367,  0.65288903,\n",
       "         0.75455244, -0.0757707 ,  1.        ,  0.27114809,  0.32773703],\n",
       "       [ 0.10088476,  0.29493912,  0.61858756, -0.06675383, -0.03755314,\n",
       "        -0.03918896,  0.15030085,  0.27114809,  1.        , -0.16474291],\n",
       "       [ 0.50623041,  0.47038711,  0.00276364,  0.36971907,  0.44459236,\n",
       "         0.4571954 , -0.34482981,  0.32773703, -0.16474291,  1.        ]])"
      ]
     },
     "execution_count": 36,
     "metadata": {},
     "output_type": "execute_result"
    }
   ],
   "source": [
    "np.corrcoef(embeddings)"
   ]
  },
  {
   "cell_type": "code",
   "execution_count": 37,
   "metadata": {},
   "outputs": [
    {
     "data": {
      "text/plain": [
       "array([[-3.60724920e-09, -7.63260508e-08,  2.02581724e-09, ...,\n",
       "        -4.03828883e-05, -1.89122074e-05, -4.64471149e-06],\n",
       "       [ 3.21074164e-09,  3.82395975e-08, -1.84058296e-09, ...,\n",
       "        -1.08049017e-07, -8.74541869e-06,  2.87902902e-06],\n",
       "       [-5.64076387e-09, -9.94596357e-08, -1.45823047e-09, ...,\n",
       "         5.10881520e-05,  3.88650940e-05,  2.66196247e-06],\n",
       "       ...,\n",
       "       [-9.96828881e-09, -3.89041105e-07, -3.15660634e-09, ...,\n",
       "         2.85518988e-05,  2.03060051e-05,  3.77944576e-06],\n",
       "       [-4.57526501e-09, -4.85158302e-07,  2.53999637e-09, ...,\n",
       "        -1.19419868e-05, -8.85675090e-06,  1.36021679e-06],\n",
       "       [ 1.83581209e-09, -2.80964068e-07,  3.01729342e-09, ...,\n",
       "        -1.13304948e-05,  5.84676848e-06,  1.68166594e-07]])"
      ]
     },
     "execution_count": 37,
     "metadata": {},
     "output_type": "execute_result"
    }
   ],
   "source": [
    "weights_sub=np.load('/jukebox/griffiths/bert-brains/results/'+story+'/encoding_full_z/'+sub+\"_parcelwise_results_banded_ridge_weights.npy\")\n",
    "weights_sub"
   ]
  },
  {
   "cell_type": "code",
   "execution_count": 48,
   "metadata": {},
   "outputs": [
    {
     "name": "stdout",
     "output_type": "stream",
     "text": [
      "[[ 8.96667316e-06  6.74228938e-06 -1.38558110e-06 ...  1.55553971e-05\n",
      "   3.85271292e-06 -2.29515845e-06]\n",
      " [ 5.14183501e-06  4.86806753e-06  8.99938762e-07 ...  1.49036900e-05\n",
      "   1.79757661e-06  8.74449454e-07]\n",
      " [ 6.76017268e-06  8.28755321e-06 -3.06875470e-06 ... -1.35887148e-05\n",
      "   1.41067564e-06 -3.22229369e-06]\n",
      " ...\n",
      " [ 1.40309026e-06 -2.96522918e-06 -1.67203419e-06 ...  1.24662021e-05\n",
      "   1.76240568e-07 -5.42269862e-06]\n",
      " [-3.42847211e-06  1.63548131e-07 -1.60477527e-07 ... -1.40101008e-06\n",
      "   4.60844542e-06  4.80925259e-07]\n",
      " [ 7.30150056e-07 -7.73726637e-07 -5.46136305e-07 ...  1.08728963e-06\n",
      "   8.57118206e-07  9.11978006e-07]]\n"
     ]
    }
   ],
   "source": [
    "print(embeddings)"
   ]
  },
  {
   "cell_type": "code",
   "execution_count": 52,
   "metadata": {},
   "outputs": [
    {
     "name": "stdout",
     "output_type": "stream",
     "text": [
      "[[ 5.73836309e-06 -1.30285480e-06  2.97517662e-05 ... -9.22887786e-06\n",
      "  -2.07156844e-05  7.91899269e-06]\n",
      " [ 1.25267936e-05  8.30763862e-07  2.47662946e-05 ... -4.81907395e-08\n",
      "  -1.90789460e-05  6.15264066e-06]\n",
      " [-6.27544740e-06  2.75713740e-06  2.53494524e-05 ...  6.45092896e-06\n",
      "  -1.69097889e-05  1.23695626e-05]\n",
      " ...\n",
      " [ 3.96319676e-06 -1.02691807e-06  1.58861644e-05 ... -4.36845713e-06\n",
      "  -6.99871636e-06  1.24860186e-06]\n",
      " [ 1.04814245e-06  6.62176819e-06  7.07079284e-06 ...  7.76428154e-06\n",
      "  -5.30209406e-06  6.00502814e-06]\n",
      " [ 9.43541192e-06  6.38348060e-06  1.45829289e-05 ... -8.40286715e-06\n",
      "  -9.08073678e-06  1.28914789e-06]]\n"
     ]
    }
   ],
   "source": [
    "print(transformations)"
   ]
  },
  {
   "cell_type": "code",
   "execution_count": 55,
   "metadata": {},
   "outputs": [
    {
     "data": {
      "text/plain": [
       "<matplotlib.colorbar.Colorbar at 0x7fc57c4c3150>"
      ]
     },
     "execution_count": 55,
     "metadata": {},
     "output_type": "execute_result"
    },
    {
     "data": {
      "image/png": "[encoded data removed]",
      "text/plain": [
       "<Figure size 432x288 with 2 Axes>"
      ]
     },
     "metadata": {
      "needs_background": "light"
     },
     "output_type": "display_data"
    }
   ],
   "source": [
    "plt.imshow(np.abs(np.corrcoef(embeddings)-np.corrcoef(transformations)))\n",
    "plt.colorbar()"
   ]
  },
  {
   "cell_type": "code",
   "execution_count": 64,
   "metadata": {},
   "outputs": [
    {
     "name": "stdout",
     "output_type": "stream",
     "text": [
      "(0.0027638771788032895, 0.7907808867508714)\n",
      "(0.007179876934359418, 0.49070775224502033)\n",
      "(-0.014755303286587425, 0.15666015719272247)\n",
      "(0.006619164447484888, 0.5251932885458167)\n",
      "(-0.0003446283737171549, 0.9736109214904294)\n",
      "(0.01344457554276536, 0.19685542481159332)\n",
      "(-0.011011837798313589, 0.2905001406477487)\n",
      "(0.008195417538687765, 0.4314770754318661)\n",
      "(-0.01205466457403392, 0.2472180803928869)\n",
      "(0.014340854035957749, 0.16863408586962808)\n"
     ]
    }
   ],
   "source": [
    "from scipy.stats import pearsonr \n",
    "for i in range(10):\n",
    "    print(pearsonr(embeddings[i],transformations[i]))"
   ]
  },
  {
   "cell_type": "code",
   "execution_count": 59,
   "metadata": {},
   "outputs": [
    {
     "data": {
      "text/plain": [
       "(10, 9216)"
      ]
     },
     "execution_count": 59,
     "metadata": {},
     "output_type": "execute_result"
    }
   ],
   "source": [
    "embeddings.shape"
   ]
  },
  {
   "cell_type": "code",
   "execution_count": null,
   "metadata": {},
   "outputs": [],
   "source": []
  }
 ],
 "metadata": {
  "interpreter": {
   "hash": "955b2acae79c1d849ae190a1194ad702c2079e5a92984e875c87cc3ca011a3e2"
  },
  "kernelspec": {
   "display_name": "Python 3.7.9 ('fmri')",
   "language": "python",
   "name": "python3"
  },
  "language_info": {
   "codemirror_mode": {
    "name": "ipython",
    "version": 3
   },
   "file_extension": ".py",
   "mimetype": "text/x-python",
   "name": "python",
   "nbconvert_exporter": "python",
   "pygments_lexer": "ipython3",
   "version": "3.7.9"
  },
  "orig_nbformat": 4
 },
 "nbformat": 4,
 "nbformat_minor": 2
}
