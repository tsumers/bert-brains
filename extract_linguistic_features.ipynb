{
 "cells": [
  {
   "cell_type": "markdown",
   "metadata": {},
   "source": [
    "### Extract linguistic features"
   ]
  },
  {
   "cell_type": "code",
   "execution_count": 1,
   "metadata": {},
   "outputs": [],
   "source": [
    "import numpy as np\n",
    "import csv\n",
    "import pandas as pd\n",
    "import spacy"
   ]
  },
  {
   "cell_type": "code",
   "execution_count": 2,
   "metadata": {},
   "outputs": [],
   "source": [
    "nlp = spacy.load('en_core_web_lg')"
   ]
  },
  {
   "cell_type": "code",
   "execution_count": 3,
   "metadata": {},
   "outputs": [],
   "source": [
    "with open('data/21st_year/21st_year.csv', 'r') as f:\n",
    "    reader = csv.reader(f)\n",
    "    file = [row for row in reader]\n",
    "    head = file[1]\n",
    "    text = file[2:]\n",
    "sentences = [row[head.index('Sentence')].replace('\\xa0', ' ') for row in text]\n",
    "TR_ids = [row[head.index('Index')] for row in text]"
   ]
  },
  {
   "cell_type": "code",
   "execution_count": 4,
   "metadata": {},
   "outputs": [],
   "source": [
    "doc = nlp.pipe(sentences)\n",
    "ling_features = []\n",
    "for TR ,line in zip(TR_ids, doc):\n",
    "    for token in line:\n",
    "        if token.pos_ != 'SPACE':\n",
    "            ling_features.append([TR,token.text,token.lemma_,token.pos_,token.tag_,token.dep_,token.head.text])"
   ]
  },
  {
   "cell_type": "code",
   "execution_count": 5,
   "metadata": {},
   "outputs": [],
   "source": [
    "ling_features = pd.DataFrame(ling_features,columns=[\"index\",\"token\",\"lemma\",\"pos\",\"tag\",\"dep_rel\",\"dep_head\"])"
   ]
  },
  {
   "cell_type": "code",
   "execution_count": 6,
   "metadata": {},
   "outputs": [
    {
     "data": {
      "text/html": [
       "<div>\n",
       "<style scoped>\n",
       "    .dataframe tbody tr th:only-of-type {\n",
       "        vertical-align: middle;\n",
       "    }\n",
       "\n",
       "    .dataframe tbody tr th {\n",
       "        vertical-align: top;\n",
       "    }\n",
       "\n",
       "    .dataframe thead th {\n",
       "        text-align: right;\n",
       "    }\n",
       "</style>\n",
       "<table border=\"1\" class=\"dataframe\">\n",
       "  <thead>\n",
       "    <tr style=\"text-align: right;\">\n",
       "      <th></th>\n",
       "      <th>index</th>\n",
       "      <th>token</th>\n",
       "      <th>lemma</th>\n",
       "      <th>pos</th>\n",
       "      <th>tag</th>\n",
       "      <th>dep_rel</th>\n",
       "      <th>dep_head</th>\n",
       "    </tr>\n",
       "  </thead>\n",
       "  <tbody>\n",
       "    <tr>\n",
       "      <th>0</th>\n",
       "      <td>A1.1</td>\n",
       "      <td>This</td>\n",
       "      <td>this</td>\n",
       "      <td>DET</td>\n",
       "      <td>DT</td>\n",
       "      <td>nsubj</td>\n",
       "      <td>is</td>\n",
       "    </tr>\n",
       "    <tr>\n",
       "      <th>1</th>\n",
       "      <td>A1.1</td>\n",
       "      <td>is</td>\n",
       "      <td>be</td>\n",
       "      <td>AUX</td>\n",
       "      <td>VBZ</td>\n",
       "      <td>ROOT</td>\n",
       "      <td>is</td>\n",
       "    </tr>\n",
       "    <tr>\n",
       "      <th>2</th>\n",
       "      <td>A1.1</td>\n",
       "      <td>Los</td>\n",
       "      <td>Los</td>\n",
       "      <td>PROPN</td>\n",
       "      <td>NNP</td>\n",
       "      <td>compound</td>\n",
       "      <td>Angeles</td>\n",
       "    </tr>\n",
       "    <tr>\n",
       "      <th>3</th>\n",
       "      <td>A1.1</td>\n",
       "      <td>Angeles</td>\n",
       "      <td>Angeles</td>\n",
       "      <td>PROPN</td>\n",
       "      <td>NNP</td>\n",
       "      <td>attr</td>\n",
       "      <td>is</td>\n",
       "    </tr>\n",
       "    <tr>\n",
       "      <th>4</th>\n",
       "      <td>A1.1</td>\n",
       "      <td>.</td>\n",
       "      <td>.</td>\n",
       "      <td>PUNCT</td>\n",
       "      <td>.</td>\n",
       "      <td>punct</td>\n",
       "      <td>is</td>\n",
       "    </tr>\n",
       "    <tr>\n",
       "      <th>...</th>\n",
       "      <td>...</td>\n",
       "      <td>...</td>\n",
       "      <td>...</td>\n",
       "      <td>...</td>\n",
       "      <td>...</td>\n",
       "      <td>...</td>\n",
       "      <td>...</td>\n",
       "    </tr>\n",
       "    <tr>\n",
       "      <th>11069</th>\n",
       "      <td>C15.24</td>\n",
       "      <td>birth</td>\n",
       "      <td>birth</td>\n",
       "      <td>NOUN</td>\n",
       "      <td>NN</td>\n",
       "      <td>pobj</td>\n",
       "      <td>Like</td>\n",
       "    </tr>\n",
       "    <tr>\n",
       "      <th>11070</th>\n",
       "      <td>C15.24</td>\n",
       "      <td>.</td>\n",
       "      <td>.</td>\n",
       "      <td>PUNCT</td>\n",
       "      <td>.</td>\n",
       "      <td>punct</td>\n",
       "      <td>Like</td>\n",
       "    </tr>\n",
       "    <tr>\n",
       "      <th>11071</th>\n",
       "      <td>C15.24</td>\n",
       "      <td>Each</td>\n",
       "      <td>each</td>\n",
       "      <td>DET</td>\n",
       "      <td>DT</td>\n",
       "      <td>det</td>\n",
       "      <td>day</td>\n",
       "    </tr>\n",
       "    <tr>\n",
       "      <th>11072</th>\n",
       "      <td>C15.24</td>\n",
       "      <td>day</td>\n",
       "      <td>day</td>\n",
       "      <td>NOUN</td>\n",
       "      <td>NN</td>\n",
       "      <td>ROOT</td>\n",
       "      <td>day</td>\n",
       "    </tr>\n",
       "    <tr>\n",
       "      <th>11073</th>\n",
       "      <td>C15.24</td>\n",
       "      <td>.</td>\n",
       "      <td>.</td>\n",
       "      <td>PUNCT</td>\n",
       "      <td>.</td>\n",
       "      <td>punct</td>\n",
       "      <td>day</td>\n",
       "    </tr>\n",
       "  </tbody>\n",
       "</table>\n",
       "<p>11074 rows × 7 columns</p>\n",
       "</div>"
      ],
      "text/plain": [
       "        index    token    lemma    pos  tag   dep_rel dep_head\n",
       "0        A1.1     This     this    DET   DT     nsubj       is\n",
       "1        A1.1       is       be    AUX  VBZ      ROOT       is\n",
       "2        A1.1      Los      Los  PROPN  NNP  compound  Angeles\n",
       "3        A1.1  Angeles  Angeles  PROPN  NNP      attr       is\n",
       "4        A1.1        .        .  PUNCT    .     punct       is\n",
       "...       ...      ...      ...    ...  ...       ...      ...\n",
       "11069  C15.24    birth    birth   NOUN   NN      pobj     Like\n",
       "11070  C15.24        .        .  PUNCT    .     punct     Like\n",
       "11071  C15.24     Each     each    DET   DT       det      day\n",
       "11072  C15.24      day      day   NOUN   NN      ROOT      day\n",
       "11073  C15.24        .        .  PUNCT    .     punct      day\n",
       "\n",
       "[11074 rows x 7 columns]"
      ]
     },
     "execution_count": 6,
     "metadata": {},
     "output_type": "execute_result"
    }
   ],
   "source": [
    "ling_features"
   ]
  },
  {
   "cell_type": "code",
   "execution_count": 7,
   "metadata": {},
   "outputs": [],
   "source": [
    "ling_features.to_csv('data/21st_year/ling_features.csv')"
   ]
  },
  {
   "cell_type": "markdown",
   "metadata": {},
   "source": [
    "### Align with the TRs"
   ]
  },
  {
   "cell_type": "code",
   "execution_count": 8,
   "metadata": {},
   "outputs": [],
   "source": [
    "with open('data/21st_year/ling_features.csv', 'r') as f:\n",
    "    reader = csv.reader(f)\n",
    "    file = [row for row in reader]\n",
    "    head = file[0]\n",
    "    text = file[1:]"
   ]
  },
  {
   "cell_type": "code",
   "execution_count": 9,
   "metadata": {},
   "outputs": [],
   "source": [
    "with open('data/21st_year/tr_tokens.csv', 'r') as f:\n",
    "    reader = csv.reader(f)\n",
    "    TR_file = [row for row in reader]\n",
    "    TR_head = TR_file[0]\n",
    "    TR_text = TR_file[1:]"
   ]
  },
  {
   "cell_type": "code",
   "execution_count": 10,
   "metadata": {},
   "outputs": [],
   "source": [
    "bridging_TRs = ['A1.7','B1.19','A2.5','A3.12','A5.20','A6.9','B6.4','A7.6','A7.13','A7.16',\\\n",
    "                'B7.2','B10.8','B11.9','B11.16','A12.5','B13.24','B14.12','C1.2','C2.5','C12.3']\n",
    "with open('data/21st_year/tr_tokens_new.csv','w') as f:\n",
    "    writer = csv.writer(f)\n",
    "    TR_head.extend([\"lemma\",\"pos\",\"tag\",\"dep_rel\",\"dep_head\"])\n",
    "    writer.writerow(TR_head)\n",
    "    current_id = 0\n",
    "    for TR_line in TR_text:\n",
    "        TR_tokens = TR_line[TR_head.index('Sentence')]\n",
    "        TR_index = TR_line[TR_head.index('index')]\n",
    "        if TR_tokens != \"\":\n",
    "            TR_tokens = TR_tokens.replace('\\xa0', ' ')\n",
    "            token_list = [token.text for token in nlp(TR_tokens)]\n",
    "            lemma_list = []\n",
    "            pos_list = []\n",
    "            tag_list = []\n",
    "            dep_rel_list = []\n",
    "            dep_head_list = []\n",
    "            while text[current_id][head.index('token')] in token_list and \\\n",
    "            (text[current_id][head.index('index')] == TR_index or \\\n",
    "             text[current_id][head.index('index')] in bridging_TRs):\n",
    "                line = text[current_id]\n",
    "                lemma_list.append(line[head.index('lemma')])\n",
    "                pos_list.append(line[head.index('pos')])\n",
    "                tag_list.append(line[head.index('tag')])\n",
    "                dep_rel_list.append(line[head.index('dep_rel')])\n",
    "                dep_head_list.append(line[head.index('dep_head')])\n",
    "                if current_id == len(text)-1:\n",
    "                    break\n",
    "                current_id += 1\n",
    "            TR_line.extend([lemma_list,pos_list,tag_list,dep_rel_list,dep_head_list])\n",
    "            writer.writerow(TR_line)\n",
    "        else:\n",
    "            TR_line.extend([[],[],[],[],[]])\n",
    "            writer.writerow(TR_line)"
   ]
  },
  {
   "cell_type": "code",
   "execution_count": 105,
   "metadata": {},
   "outputs": [],
   "source": []
  }
 ],
 "metadata": {
  "kernelspec": {
   "display_name": "Python 3",
   "language": "python",
   "name": "python3"
  },
  "language_info": {
   "codemirror_mode": {
    "name": "ipython",
    "version": 3
   },
   "file_extension": ".py",
   "mimetype": "text/x-python",
   "name": "python",
   "nbconvert_exporter": "python",
   "pygments_lexer": "ipython3",
   "version": "3.7.4"
  }
 },
 "nbformat": 4,
 "nbformat_minor": 4
}
