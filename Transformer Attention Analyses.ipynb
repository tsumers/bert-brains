{
 "cells": [
  {
   "cell_type": "code",
   "execution_count": 106,
   "metadata": {},
   "outputs": [
    {
     "name": "stdout",
     "output_type": "stream",
     "text": [
      "The autoreload extension is already loaded. To reload it, use:\n",
      "  %reload_ext autoreload\n",
      "Looking for TR-aligned tokens in data/stimuli/black/tr_tokens.csv\n",
      "Loaded 534 TRs.\n"
     ]
    }
   ],
   "source": [
    "# Ensure that we re-load changes automagically\n",
    "%load_ext autoreload\n",
    "%autoreload 2\n",
    "\n",
    "import itertools\n",
    "import numpy as np\n",
    "import pandas as pd\n",
    "import seaborn as sns\n",
    "import matplotlib.pylab as plt\n",
    "\n",
    "from transformer_utils import TransformerRSM\n",
    "\n",
    "STIMULUS = \"black\" # 21st_year, pieman, slumlordreach, black\n",
    "\n",
    "MODEL = 'gpt2' \n",
    "# BERT: bert-base-uncased, bert-large-uncased\n",
    "# GPT: gpt2, gpt2-xl, gpt-neo-2.7B\n",
    "\n",
    "foo = TransformerRSM(STIMULUS, model_name=MODEL, verbose=True)"
   ]
  },
  {
   "cell_type": "markdown",
   "metadata": {},
   "source": [
    "# Produce Layerwise Activations / Z-Reps"
   ]
  },
  {
   "cell_type": "code",
   "execution_count": 107,
   "metadata": {},
   "outputs": [
    {
     "name": "stderr",
     "output_type": "stream",
     "text": [
      "/Users/sumers/opt/anaconda3/envs/bert-brains/lib/python3.9/site-packages/spacy/util.py:275: UserWarning: [W031] Model 'en_core_web_lg' (2.2.0) requires spaCy v2.2 and is incompatible with the current spaCy version (2.3.5). This may lead to unexpected results or runtime errors. To resolve this, download a newer compatible model or retrain your custom model with the current spaCy version. For more details and available updates, run: python -m spacy validate\n",
      "  warnings.warn(warn_msg)\n"
     ]
    },
    {
     "name": "stdout",
     "output_type": "stream",
     "text": [
      "Processing TR 0.\n",
      "\n",
      "TR 0: Window Stimulus: So I\n",
      "\t TR stimulus: ['So', 'ĠI']\n",
      "Processing TR 100.\n",
      "\n",
      "TR 100: Window Stimulus: market I had ever been in I was excited and I was nervous and so I am trying to get to know the community And so I'm going to every fundraiser and every event I can think of and after one of those events I promise you it was actually here at the Sheldon in St Louis Missouri a young man approached me outside on the sidewalk He was black and he said to me\n",
      "\t TR stimulus: ['he', 'Ġsaid', 'Ġto', 'Ġme']\n",
      "Processing TR 200.\n",
      "\n",
      "TR 200: Window Stimulus: know They got to know now Debate put to a rest So I am now all about town and people are beginning to recognize me just from my voice I'm at the grocery store I'm chasing my kids at the St Louis zoo yelling at them people are recognizing my voice I'm gonna drop another hint on the air I'm enjoying the secret mission And so I described trying to make my mother's\n",
      "\t TR stimulus: ['make', 'Ġmy', 'Ġmother', \"'s\"]\n",
      "Processing TR 300.\n",
      "\n",
      "TR 300: Window Stimulus: no training no classes none of that just little old me      But I'm still feeling the secret mission so I decide to engage in a drop the mic moment It's closer to Thanksgiving now when I drop this hint and I describe again um one of my mother's recipes for cornbread dressing\n",
      "\t TR stimulus: ['for', 'Ġcorn', 'bread', 'Ġdressing']\n",
      "Processing TR 400.\n",
      "\n",
      "TR 400: Window Stimulus: and shut it down They were protesting the lack of minority jobs in construction And so one of the organizations that was involved was one I knew of from the time I lived in Kansas City Missouri but my co host at the time had never heard of them and so he was truly dismissive and I was truly frustrated  And I'm thinking this is a movement moment this is a moment\n",
      "\t TR stimulus: ['this', 'Ġis', 'Ġa', 'Ġmoment']\n",
      "Processing TR 500.\n",
      "\n",
      "TR 500: Window Stimulus: sizing me up He sized me up in my driveway  and I thought  Did he think I was white  Is he surprised now to find out that I'm black  And I thought the debate apparently the debate is still there in some form or fashion I am not at all sure I can ever really do\n",
      "\t TR stimulus: ['can', 'Ġever', 'Ġreally', 'Ġdo']\n",
      "Processed 534 TRs for activations.\n"
     ]
    }
   ],
   "source": [
    "foo.process_stimulus_activations()"
   ]
  },
  {
   "cell_type": "code",
   "execution_count": 108,
   "metadata": {},
   "outputs": [
    {
     "data": {
      "text/plain": [
       "'gpt2'"
      ]
     },
     "execution_count": 108,
     "metadata": {},
     "output_type": "execute_result"
    }
   ],
   "source": [
    "foo.model_name"
   ]
  },
  {
   "cell_type": "code",
   "execution_count": 109,
   "metadata": {},
   "outputs": [
    {
     "name": "stdout",
     "output_type": "stream",
     "text": [
      "Layer 0: saved mean embeddings (534, 768) | z-reps (534, 768)\n",
      "Layer 1: saved mean embeddings (534, 768) | z-reps (534, 768)\n",
      "Layer 2: saved mean embeddings (534, 768) | z-reps (534, 768)\n",
      "Layer 3: saved mean embeddings (534, 768) | z-reps (534, 768)\n",
      "Layer 4: saved mean embeddings (534, 768) | z-reps (534, 768)\n",
      "Layer 5: saved mean embeddings (534, 768) | z-reps (534, 768)\n",
      "Layer 6: saved mean embeddings (534, 768) | z-reps (534, 768)\n",
      "Layer 7: saved mean embeddings (534, 768) | z-reps (534, 768)\n",
      "Layer 8: saved mean embeddings (534, 768) | z-reps (534, 768)\n",
      "Layer 9: saved mean embeddings (534, 768) | z-reps (534, 768)\n",
      "Layer 10: saved mean embeddings (534, 768) | z-reps (534, 768)\n",
      "Layer 11: saved mean embeddings (534, 768) | z-reps (534, 768)\n"
     ]
    }
   ],
   "source": [
    "N_LAYERS = len(foo.stimulus_df[\"activations\"][0])\n",
    "\n",
    "for layer in range(0, N_LAYERS-1):\n",
    "\n",
    "    layer_activations = foo.layer_activations_from_tensor(foo.stimulus_df[\"activations\"], layer)\n",
    "    layer_mean_embeddings = np.array([l.mean(0).numpy() for l in layer_activations])\n",
    "    np.save(\"{}_{}_layer_{}_activations.npy\".format(STIMULUS, MODEL, layer), layer_mean_embeddings)\n",
    "        \n",
    "    layer_z_reps = foo.layer_activations_from_tensor(foo.stimulus_df[\"z_reps\"], layer)\n",
    "    layer_mean_z_reps = np.array([l.mean(0).numpy() for l in layer_z_reps])\n",
    "    np.save(\"{}_{}_layer_{}_z_representations.npy\".format(STIMULUS, MODEL, layer), layer_mean_z_reps)\n",
    "    \n",
    "    print(\"Layer {}: saved mean embeddings {} | z-reps {}\".format(layer, \n",
    "                                                                  layer_mean_embeddings.shape,\n",
    "                                                                  layer_mean_z_reps.shape))\n",
    "\n",
    "\n",
    "layer_glove = foo.layer_activations_from_tensor(foo.stimulus_df[\"glove\"], 0)\n",
    "np.save(\"{}_{}_layer_{}_glove.npy\".format(STIMULUS, MODEL, 0), layer_glove)"
   ]
  },
  {
   "cell_type": "code",
   "execution_count": 110,
   "metadata": {},
   "outputs": [
    {
     "name": "stdout",
     "output_type": "stream",
     "text": [
      "SCP all model layers and z-reps to PNI:\n",
      "\n",
      "scp black_gpt2_layer_*_activations.npy black_gpt2_layer_*_z_representations.npy tsumers@apps.pni.princeton.edu:/jukebox/griffiths/bert-brains/code/bert-brains/data/black/gpt2/raw_embeddings\n"
     ]
    }
   ],
   "source": [
    "ALL_LAYER_REPS = \"scp {}_{}_layer_*_activations.npy {}_{}_layer_*_z_representations.npy tsumers@apps.pni.princeton.edu:/jukebox/griffiths/bert-brains/code/bert-brains/data/{}/{}/raw_embeddings\"\n",
    "\n",
    "print(\"SCP all model layers and z-reps to PNI:\\n\")\n",
    "\n",
    "print(ALL_LAYER_REPS.format(STIMULUS, MODEL, STIMULUS, MODEL, STIMULUS, MODEL))"
   ]
  },
  {
   "cell_type": "markdown",
   "metadata": {},
   "source": [
    "# Produce Attention Vectors\n",
    "Important question: how many prior tokens should we take for attention metric context?"
   ]
  },
  {
   "cell_type": "code",
   "execution_count": 111,
   "metadata": {},
   "outputs": [
    {
     "name": "stdout",
     "output_type": "stream",
     "text": [
      "count    534.000000\n",
      "mean       3.234082\n",
      "std        1.945669\n",
      "min        0.000000\n",
      "25%        2.000000\n",
      "50%        3.000000\n",
      "75%        4.000000\n",
      "max       10.000000\n",
      "Name: n_transformer_tokens_in_tr, dtype: float64\n"
     ]
    },
    {
     "data": {
      "image/png": "[encoded data removed]",
      "text/plain": [
       "<Figure size 432x288 with 1 Axes>"
      ]
     },
     "metadata": {
      "needs_background": "light"
     },
     "output_type": "display_data"
    }
   ],
   "source": [
    "print(foo.stimulus_df.n_transformer_tokens_in_tr.describe())\n",
    "foo.stimulus_df.n_transformer_tokens_in_tr.hist(bins=20);\n",
    "plt.suptitle(\"Number of Transformer Tokens per TR\")\n",
    "plt.xlabel(\"Number of Tokens\");"
   ]
  },
  {
   "cell_type": "code",
   "execution_count": 112,
   "metadata": {},
   "outputs": [],
   "source": [
    "# Median number of tokens per TR is 5; 75th percentile is 7.\n",
    "# Assuming we're using about 30 seconds of prior context, that's 20 TRs, so we should take 100-140 context tokens.\n",
    "\n",
    "N_ATTENTION_TOKENS = 128 # 10, 20, 128"
   ]
  },
  {
   "cell_type": "code",
   "execution_count": 113,
   "metadata": {},
   "outputs": [
    {
     "name": "stdout",
     "output_type": "stream",
     "text": [
      "Processing TR 0\n",
      "Processing TR 100\n",
      "Processing TR 200\n",
      "Processing TR 300\n",
      "Processing TR 400\n",
      "Processing TR 500\n"
     ]
    }
   ],
   "source": [
    "foo.verbose = False\n",
    "foo.process_stimulus_attentions(num_window_tokens=N_ATTENTION_TOKENS)"
   ]
  },
  {
   "cell_type": "code",
   "execution_count": 114,
   "metadata": {},
   "outputs": [
    {
     "name": "stdout",
     "output_type": "stream",
     "text": [
      "Successfully produced attention maps for 494 of 534 TRs.\n"
     ]
    }
   ],
   "source": [
    "print(\"Successfully produced attention maps for {} of {} TRs.\".format( \n",
    "    len(foo.stimulus_df[~foo.stimulus_df.attentions.isnull()]), len(foo.stimulus_df)))"
   ]
  },
  {
   "cell_type": "code",
   "execution_count": 115,
   "metadata": {},
   "outputs": [],
   "source": [
    "has_attentions = foo.stimulus_df[foo.stimulus_df.attentions.isnull()]\n",
    "failed_attentions = foo.stimulus_df[~foo.stimulus_df.attentions.isnull()]"
   ]
  },
  {
   "cell_type": "markdown",
   "metadata": {},
   "source": [
    "## Mask Attention to produce vectors\n",
    "def flatten(lists):\n",
    "    if lists is None:\n",
    "        return None\n",
    "    else:\n",
    "        return list(itertools.chain.from_iterable(lists))\n",
    "\n",
    "All of the below analyses can / should be run with various parameter settings.\n",
    "\n",
    "They run much faster than the original activation / attention code and do various masking and summarization procedures on the raw data."
   ]
  },
  {
   "cell_type": "code",
   "execution_count": 116,
   "metadata": {},
   "outputs": [],
   "source": [
    "def flatten(lists):\n",
    "    if lists is None:\n",
    "        return None\n",
    "    else:\n",
    "        return list(itertools.chain.from_iterable(lists))"
   ]
  },
  {
   "cell_type": "code",
   "execution_count": 117,
   "metadata": {},
   "outputs": [],
   "source": [
    "DIRECTIONS = [\"fwd\", \"bck\"]\n",
    "NORMS = [\"inf\"] # can also do p=1 or 2, but not using those currently."
   ]
  },
  {
   "cell_type": "code",
   "execution_count": 118,
   "metadata": {},
   "outputs": [
    {
     "name": "stdout",
     "output_type": "stream",
     "text": [
      "Output metrics to black_gpt2_syntactic_complexity_L-inf_T-128_D-fwd.npy\n",
      "(534,)\n",
      "Output metrics to black_gpt2_syntactic_complexity_L-inf_T-128_D-bck.npy\n",
      "(534,)\n"
     ]
    }
   ],
   "source": [
    "for attention_direction in DIRECTIONS:\n",
    "\n",
    "    foo.mask_non_tr_attentions(include_forwards=(attention_direction==\"fwd\"), \n",
    "                           include_backwards=(attention_direction==\"bck\"))\n",
    "\n",
    "\n",
    "    for p in NORMS:  \n",
    "\n",
    "        foo.compute_attention_head_magnitudes(p=p)\n",
    "        attention_vectors = foo.stimulus_df[\"attention_heads_L{}\".format(p)].apply(lambda x: flatten(x))\n",
    "        attention_np_arrays = np.array(attention_vectors)\n",
    "\n",
    "        complexity_output_file= \"{}_{}_syntactic_complexity_L-{}_T-{}_D-{}.npy\".format(STIMULUS, MODEL, p, N_ATTENTION_TOKENS, attention_direction)\n",
    "        np.save(complexity_output_file, attention_np_arrays)\n",
    "        \n",
    "        print(\"Output metrics to {}\".format(complexity_output_file))\n",
    "        print(attention_np_arrays.shape)"
   ]
  },
  {
   "cell_type": "code",
   "execution_count": 119,
   "metadata": {},
   "outputs": [
    {
     "data": {
      "image/png": "[encoded data removed]",
      "text/plain": [
       "<Figure size 432x288 with 2 Axes>"
      ]
     },
     "metadata": {
      "needs_background": "light"
     },
     "output_type": "display_data"
    },
    {
     "data": {
      "image/png": "[encoded data removed]",
      "text/plain": [
       "<Figure size 432x288 with 2 Axes>"
      ]
     },
     "metadata": {
      "needs_background": "light"
     },
     "output_type": "display_data"
    },
    {
     "data": {
      "image/png": "[encoded data removed]",
      "text/plain": [
       "<Figure size 432x288 with 2 Axes>"
      ]
     },
     "metadata": {
      "needs_background": "light"
     },
     "output_type": "display_data"
    }
   ],
   "source": [
    "for x in [90, 150, 200]:\n",
    "    plt.figure()\n",
    "    sns.heatmap(foo.stimulus_df.attention_heads_Linf.iloc[x])\n",
    "    plt.xlabel(\"Head\")\n",
    "    plt.ylabel(\"Layer\")"
   ]
  },
  {
   "cell_type": "code",
   "execution_count": 120,
   "metadata": {},
   "outputs": [
    {
     "data": {
      "image/png": "[encoded data removed]",
      "text/plain": [
       "<Figure size 432x288 with 2 Axes>"
      ]
     },
     "metadata": {
      "needs_background": "light"
     },
     "output_type": "display_data"
    }
   ],
   "source": [
    "sns.heatmap(foo.stimulus_df.attentions.iloc[50][0][11], vmax=.1)\n",
    "plt.suptitle(\"Raw Attention for Single Head ({} Total Tokens)\".format(N_ATTENTION_TOKENS));"
   ]
  },
  {
   "cell_type": "code",
   "execution_count": 121,
   "metadata": {},
   "outputs": [
    {
     "data": {
      "image/png": "[encoded data removed]",
      "text/plain": [
       "<Figure size 432x288 with 2 Axes>"
      ]
     },
     "metadata": {
      "needs_background": "light"
     },
     "output_type": "display_data"
    }
   ],
   "source": [
    "sns.heatmap(foo.stimulus_df.masked_attentions.iloc[50][0][11], vmax=.1)\n",
    "plt.suptitle(\"{} Masked Attention for Single Head ({} Total Tokens)\".format(attention_direction, N_ATTENTION_TOKENS));"
   ]
  },
  {
   "cell_type": "markdown",
   "metadata": {},
   "source": [
    "## Output Attention Vector .npy's"
   ]
  },
  {
   "cell_type": "code",
   "execution_count": 122,
   "metadata": {},
   "outputs": [],
   "source": [
    "def concatenate_fwd_bck_arrays(fwd, bck):\n",
    "\n",
    "    res = []\n",
    "    for f, b in zip(fwd, bck):\n",
    "        if f is None and b is None:\n",
    "            res.append(None)\n",
    "        else:                \n",
    "            res.append(f + b)\n",
    "    res = np.array(res, dtype=object)\n",
    "        \n",
    "    return res"
   ]
  },
  {
   "cell_type": "code",
   "execution_count": 123,
   "metadata": {},
   "outputs": [
    {
     "name": "stdout",
     "output_type": "stream",
     "text": [
      "Concatenated\n",
      "===========\n",
      "\tFile: black_bert-base-uncased_syntactic_complexity_L-inf_T-128_D-concat.npy\n",
      "\tTRs:534\n",
      "\tDimensions: 288\n",
      "\n",
      "\n",
      "Concatenated\n",
      "===========\n",
      "\tFile: black_gpt2_syntactic_complexity_L-inf_T-128_D-concat.npy\n",
      "\tTRs:534\n",
      "\tDimensions: 288\n",
      "\n",
      "\n"
     ]
    }
   ],
   "source": [
    "import glob\n",
    "\n",
    "backwards_metrics = [f for f in glob.glob(\"*.npy\") if 'bck' in f]\n",
    "\n",
    "for backwards_file in backwards_metrics:\n",
    "    \n",
    "    bck = np.load(backwards_file, allow_pickle=True)\n",
    "    forward_file = backwards_file.replace(\"bck\", \"fwd\")\n",
    "    fwd = np.load(forward_file, allow_pickle=True)\n",
    "    \n",
    "    concat = concatenate_fwd_bck_arrays(fwd, bck)\n",
    "    concat_file = backwards_file.replace(\"bck\", \"concat\")\n",
    "    \n",
    "    np.save(concat_file, concat)\n",
    "    \n",
    "    print(\"Concatenated\\n===========\")\n",
    "    print(\"\\tFile: {}\".format(concat_file))\n",
    "    print(\"\\tTRs:{}\".format(concat.shape[0]))\n",
    "    print(\"\\tDimensions: {}\\n\\n\".format(len(concat[-1])))"
   ]
  },
  {
   "cell_type": "markdown",
   "metadata": {},
   "source": [
    "## SCP to PNI\n",
    "```scp {FILE_NAME} tsumers@apps.pni.princeton.edu:/jukebox/griffiths/bert-brains/code/bert-brains/data/{STIMULUS}/{MODEL}/syntactic_analyses```\n",
    "\n",
    "```ssh tsumers@apps.pni.princeton.edu```"
   ]
  },
  {
   "cell_type": "code",
   "execution_count": 124,
   "metadata": {},
   "outputs": [
    {
     "name": "stdout",
     "output_type": "stream",
     "text": [
      "SCP all syntactic representations to PNI:\n",
      "\n",
      "scp black_gpt2_syntactic_*_concat.npy tsumers@apps.pni.princeton.edu:/jukebox/griffiths/bert-brains/code/bert-brains/data/black/gpt2/syntactic_analyses\n"
     ]
    }
   ],
   "source": [
    "ALL_SYNTAX_REPS = \"scp {}_{}_syntactic_*_concat.npy tsumers@apps.pni.princeton.edu:/jukebox/griffiths/bert-brains/code/bert-brains/data/{}/{}/syntactic_analyses\"\n",
    "\n",
    "print(\"SCP all syntactic representations to PNI:\\n\")\n",
    "print(ALL_SYNTAX_REPS.format(STIMULUS, MODEL, STIMULUS, MODEL, STIMULUS, MODEL))"
   ]
  },
  {
   "cell_type": "markdown",
   "metadata": {},
   "source": [
    "# Compare old / new versions of metrics"
   ]
  },
  {
   "cell_type": "code",
   "execution_count": 131,
   "metadata": {},
   "outputs": [
    {
     "name": "stdout",
     "output_type": "stream",
     "text": [
      "\n",
      "black_bert-base-uncased_layer_3_activations.npy\n",
      "\tShape: True\n",
      "\tClose: False\n",
      "\tComparison of TR 50 reps:\n",
      "\t\tOld: [0.1494145  0.10405736 0.0247682  0.27294868 0.4291882 ]\n",
      "\t\tNew: [0.1494146  0.10405757 0.02476805 0.27294868 0.4291881 ]\n",
      "\n",
      "black_bert-base-uncased_layer_3_z_representations.npy\n",
      "\tShape: True\n",
      "\tClose: False\n",
      "\tComparison of TR 50 reps:\n",
      "\t\tOld: [-0.09045324  0.23002855 -0.01164924  0.2281506   0.17834882]\n",
      "\t\tNew: [-0.09045326  0.23002838 -0.01164918  0.22815052  0.17834869]\n",
      "\n",
      "black_gpt2_layer_3_z_representations.npy\n",
      "\tShape: True\n",
      "\tClose: False\n",
      "\tComparison of TR 50 reps:\n",
      "\t\tOld: [ 0.26421145 -0.24829331 -0.01065088  0.03203887  0.24031702]\n",
      "\t\tNew: [ 0.26421133 -0.24829336 -0.01065074  0.03203896  0.24031727]\n",
      "\n",
      "black_bert-base-uncased_syntactic_complexity_L-inf_T-128_D-concat.npy\n",
      "\tShape: True\n",
      "\tComparison of TR 50 reps:\n",
      "\t\tOld: [0.042980827391147614, 0.14423677325248718, 0.4857538640499115, 0.5327985286712646, 0.05053185299038887]\n",
      "\t\tNew: [0.04298081248998642, 0.14423662424087524, 0.48575398325920105, 0.5327985286712646, 0.05053187906742096]\n",
      "\n",
      "black_gpt2_layer_3_activations.npy\n",
      "\tShape: True\n",
      "\tClose: True\n",
      "\tComparison of TR 50 reps:\n",
      "\t\tOld: [ 1.0091078  -0.31014863  1.0740553  -0.00635817 -0.30753058]\n",
      "\t\tNew: [ 1.0091078  -0.31014863  1.0740553  -0.00635817 -0.30753058]\n"
     ]
    }
   ],
   "source": [
    "snapshot_metrics = [f for f in glob.glob(\"*.npy\") if 'snapshot' in f]\n",
    "\n",
    "for s in snapshot_metrics:\n",
    "\n",
    "    snapshot = np.load(s, allow_pickle=True)\n",
    "    new_file = s.split('snapshot-')[-1]\n",
    "    \n",
    "    try:\n",
    "        new = np.load(new_file, allow_pickle=True)\n",
    "    except FileNotFoundError:\n",
    "        print(\"\\nERROR: could not load {}\".format(new_file))\n",
    "        continue\n",
    "    \n",
    "    print(\"\\n{}\".format(new_file))\n",
    "    print(\"\\tShape: {}\".format((snapshot.shape==new.shape)))\n",
    "    try:\n",
    "        print(\"\\tClose: {}\".format(np.allclose(snapshot, new)))\n",
    "    except:\n",
    "        pass\n",
    "    print(\"\\tComparison of TR 50 reps:\")\n",
    "    print(\"\\t\\tOld: {}\".format(snapshot[50][:5]))\n",
    "    print(\"\\t\\tNew: {}\".format(new[50][:5]))"
   ]
  },
  {
   "cell_type": "code",
   "execution_count": null,
   "metadata": {},
   "outputs": [],
   "source": []
  },
  {
   "cell_type": "code",
   "execution_count": null,
   "metadata": {},
   "outputs": [],
   "source": []
  },
  {
   "cell_type": "code",
   "execution_count": null,
   "metadata": {},
   "outputs": [],
   "source": []
  }
 ],
 "metadata": {
  "finalized": {
   "timestamp": 1601859815170,
   "trusted": true
  },
  "kernelspec": {
   "display_name": "Python 3",
   "language": "python",
   "name": "python3"
  },
  "language_info": {
   "codemirror_mode": {
    "name": "ipython",
    "version": 3
   },
   "file_extension": ".py",
   "mimetype": "text/x-python",
   "name": "python",
   "nbconvert_exporter": "python",
   "pygments_lexer": "ipython3",
   "version": "3.9.6"
  }
 },
 "nbformat": 4,
 "nbformat_minor": 4
}
