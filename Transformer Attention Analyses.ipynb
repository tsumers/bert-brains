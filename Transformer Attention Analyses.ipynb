{
 "cells": [
  {
   "cell_type": "code",
   "execution_count": 108,
   "metadata": {},
   "outputs": [
    {
     "name": "stdout",
     "output_type": "stream",
     "text": [
      "The autoreload extension is already loaded. To reload it, use:\n",
      "  %reload_ext autoreload\n",
      "Looking for TR-aligned tokens in data/stimuli/black/tr_tokens.csv\n",
      "Loaded 534 TRs.\n"
     ]
    }
   ],
   "source": [
    "# Ensure that we re-load changes automagically\n",
    "%load_ext autoreload\n",
    "%autoreload 2\n",
    "\n",
    "import torch\n",
    "from transformers import *\n",
    "\n",
    "import numpy as np\n",
    "import pandas as pd\n",
    "import seaborn as sns\n",
    "import matplotlib.pylab as plt\n",
    "\n",
    "from transformer_utils import TransformerRSM\n",
    "\n",
    "STIMULUS = \"black\" # 21st_year, pieman, slumlordreach, black\n",
    "MODEL = 'bert-base-uncased' # bert-base-uncased, gpt2\n",
    "\n",
    "foo = TransformerRSM(STIMULUS, model_name=MODEL, verbose=False)"
   ]
  },
  {
   "cell_type": "markdown",
   "metadata": {},
   "source": [
    "# Layerwise Activations"
   ]
  },
  {
   "cell_type": "code",
   "execution_count": 109,
   "metadata": {},
   "outputs": [
    {
     "name": "stdout",
     "output_type": "stream",
     "text": [
      "Processed 534 TRs for activations.\n"
     ]
    }
   ],
   "source": [
    "foo.process_stimulus_activations()"
   ]
  },
  {
   "cell_type": "code",
   "execution_count": 3,
   "metadata": {},
   "outputs": [
    {
     "data": {
      "text/plain": [
       "'bert-base-uncased'"
      ]
     },
     "execution_count": 3,
     "metadata": {},
     "output_type": "execute_result"
    }
   ],
   "source": [
    "foo.model_name"
   ]
  },
  {
   "cell_type": "code",
   "execution_count": 4,
   "metadata": {},
   "outputs": [
    {
     "name": "stdout",
     "output_type": "stream",
     "text": [
      "(534, 768)\n",
      "(534, 768)\n",
      "(534, 768)\n",
      "(534, 768)\n",
      "(534, 768)\n",
      "(534, 768)\n",
      "(534, 768)\n",
      "(534, 768)\n",
      "(534, 768)\n",
      "(534, 768)\n",
      "(534, 768)\n",
      "(534, 768)\n",
      "(534, 768)\n"
     ]
    }
   ],
   "source": [
    "for layer in range(0, 13):\n",
    "\n",
    "    layer_activations = foo.layer_activations_from_tensor(foo.stimulus_df[\"activations\"], layer)\n",
    "    layer_mean_embeddings = np.array([l.mean(0).numpy() for l in layer_activations])\n",
    "    np.save(\"{}_{}_layer_{}_activations.npy\".format(STIMULUS, MODEL, layer), layer_mean_embeddings)\n",
    "    \n",
    "    print(layer_mean_embeddings.shape)\n",
    "    \n",
    "#     df[\"layer_{}\".format(layer)] = layer_mean_embeddings"
   ]
  },
  {
   "cell_type": "markdown",
   "metadata": {},
   "source": [
    "# Layerwise Attentions\n",
    "Important question: how many prior tokens should we take for attention metric context?"
   ]
  },
  {
   "cell_type": "code",
   "execution_count": 5,
   "metadata": {},
   "outputs": [
    {
     "name": "stdout",
     "output_type": "stream",
     "text": [
      "count    534.000000\n",
      "mean       3.280899\n",
      "std        1.914625\n",
      "min        1.000000\n",
      "25%        2.000000\n",
      "50%        3.000000\n",
      "75%        4.000000\n",
      "max       11.000000\n",
      "Name: n_transformer_tokens_in_tr, dtype: float64\n"
     ]
    },
    {
     "data": {
      "image/png": "[encoded data removed]",
      "text/plain": [
       "<Figure size 432x288 with 1 Axes>"
      ]
     },
     "metadata": {
      "needs_background": "light"
     },
     "output_type": "display_data"
    }
   ],
   "source": [
    "print(foo.stimulus_df.n_transformer_tokens_in_tr.describe())\n",
    "foo.stimulus_df.n_transformer_tokens_in_tr.hist(bins=20);\n",
    "plt.suptitle(\"Number of Transformer Tokens per TR\")\n",
    "plt.xlabel(\"Number of Tokens\");"
   ]
  },
  {
   "cell_type": "code",
   "execution_count": 84,
   "metadata": {},
   "outputs": [],
   "source": [
    "# Median number of tokens per TR is 5; 75th percentile is 7.\n",
    "# Assuming we're using about 30 seconds of prior context, that's 20 TRs, so we should take 100-140 context tokens. (yikes-- we've been doing 20!)\n",
    "\n",
    "N_ATTENTION_TOKENS = 10 # 20, 128"
   ]
  },
  {
   "cell_type": "code",
   "execution_count": 85,
   "metadata": {},
   "outputs": [
    {
     "name": "stdout",
     "output_type": "stream",
     "text": [
      "Processing TR 0\n",
      "Processing TR 100\n",
      "Processing TR 200\n",
      "Processing TR 300\n",
      "Processing TR 400\n",
      "Processing TR 500\n"
     ]
    }
   ],
   "source": [
    "foo.verbose = False\n",
    "foo.process_stimulus_attentions(num_window_tokens=N_ATTENTION_TOKENS)"
   ]
  },
  {
   "cell_type": "code",
   "execution_count": 86,
   "metadata": {},
   "outputs": [
    {
     "name": "stdout",
     "output_type": "stream",
     "text": [
      "Successfully produced attention maps for 531 of 534 TRs.\n"
     ]
    }
   ],
   "source": [
    "print(\"Successfully produced attention maps for {} of {} TRs.\".format( \n",
    "    len(foo.stimulus_df[~foo.stimulus_df.attentions.isnull()]), len(foo.stimulus_df)))"
   ]
  },
  {
   "cell_type": "code",
   "execution_count": 87,
   "metadata": {},
   "outputs": [],
   "source": [
    "has_attentions = foo.stimulus_df[foo.stimulus_df.attentions.isnull()]\n",
    "failed_attentions = foo.stimulus_df[~foo.stimulus_df.attentions.isnull()]"
   ]
  },
  {
   "cell_type": "markdown",
   "metadata": {},
   "source": [
    "# Masking Attention\n",
    "\n",
    "All of the below analyses can / should be run with various parameter settings.\n",
    "\n",
    "They run much faster than the original activation / attention code and do various masking and summarization procedures on the raw data."
   ]
  },
  {
   "cell_type": "code",
   "execution_count": 102,
   "metadata": {},
   "outputs": [],
   "source": [
    "BACKWARD_ATTENTION = False\n",
    "\n",
    "if BACKWARD_ATTENTION:\n",
    "    ATTENTION_DIRECTION = \"bck\"\n",
    "else:\n",
    "    ATTENTION_DIRECTION = \"fwd\""
   ]
  },
  {
   "cell_type": "code",
   "execution_count": 103,
   "metadata": {},
   "outputs": [],
   "source": [
    "foo.mask_non_tr_attentions(include_forwards=not BACKWARD_ATTENTION, \n",
    "                           include_backwards=BACKWARD_ATTENTION)"
   ]
  },
  {
   "cell_type": "code",
   "execution_count": 104,
   "metadata": {},
   "outputs": [],
   "source": [
    "foo.compute_attention_head_magnitudes(p=1)\n",
    "foo.compute_attention_head_magnitudes(p='inf')"
   ]
  },
  {
   "cell_type": "code",
   "execution_count": 105,
   "metadata": {},
   "outputs": [
    {
     "data": {
      "image/png": "[encoded data removed]",
      "text/plain": [
       "<Figure size 432x288 with 2 Axes>"
      ]
     },
     "metadata": {
      "needs_background": "light"
     },
     "output_type": "display_data"
    },
    {
     "data": {
      "image/png": "[encoded data removed]",
      "text/plain": [
       "<Figure size 432x288 with 2 Axes>"
      ]
     },
     "metadata": {
      "needs_background": "light"
     },
     "output_type": "display_data"
    },
    {
     "data": {
      "image/png": "[encoded data removed]",
      "text/plain": [
       "<Figure size 432x288 with 2 Axes>"
      ]
     },
     "metadata": {
      "needs_background": "light"
     },
     "output_type": "display_data"
    }
   ],
   "source": [
    "for x in [90, 150, 200]:\n",
    "    plt.figure()\n",
    "    sns.heatmap(foo.stimulus_df.attention_heads_Linf.iloc[x])\n",
    "    plt.xlabel(\"Head\")\n",
    "    plt.ylabel(\"Layer\")"
   ]
  },
  {
   "cell_type": "code",
   "execution_count": 106,
   "metadata": {},
   "outputs": [
    {
     "data": {
      "image/png": "[encoded data removed]",
      "text/plain": [
       "<Figure size 432x288 with 2 Axes>"
      ]
     },
     "metadata": {
      "needs_background": "light"
     },
     "output_type": "display_data"
    }
   ],
   "source": [
    "sns.heatmap(foo.stimulus_df.attentions.iloc[50][0][11], vmax=.1)\n",
    "plt.suptitle(\"Raw Attention ({} Total Tokens)\".format(N_ATTENTION_TOKENS));"
   ]
  },
  {
   "cell_type": "code",
   "execution_count": 107,
   "metadata": {},
   "outputs": [
    {
     "data": {
      "image/png": "[encoded data removed]",
      "text/plain": [
       "<Figure size 432x288 with 2 Axes>"
      ]
     },
     "metadata": {
      "needs_background": "light"
     },
     "output_type": "display_data"
    }
   ],
   "source": [
    "sns.heatmap(foo.stimulus_df.masked_attentions.iloc[50][0][11], vmax=.1)\n",
    "plt.suptitle(\"{} Masked Attention ({} Total Tokens)\".format(ATTENTION_DIRECTION, N_ATTENTION_TOKENS));"
   ]
  },
  {
   "cell_type": "code",
   "execution_count": 108,
   "metadata": {},
   "outputs": [
    {
     "name": "stdout",
     "output_type": "stream",
     "text": [
      "Processing TR 0.\n",
      "Processing TR 100.\n",
      "Processing TR 200.\n",
      "Processing TR 300.\n",
      "Processing TR 400.\n",
      "Processing TR 500.\n"
     ]
    }
   ],
   "source": [
    "foo.compute_attention_head_distances()"
   ]
  },
  {
   "cell_type": "code",
   "execution_count": 109,
   "metadata": {},
   "outputs": [
    {
     "data": {
      "text/plain": [
       "0                                                   None\n",
       "1                                                   None\n",
       "2                                                   None\n",
       "3      [[4.741390408948064, 8.862544691190124, 4.1391...\n",
       "4      [[2.84527999535203, 4.077132673934102, 1.33706...\n",
       "                             ...                        \n",
       "529    [[2.716287925839424, 3.1112320199608803, 1.089...\n",
       "530    [[2.716287925839424, 3.1112320199608803, 1.089...\n",
       "531    [[2.716287925839424, 3.1112320199608803, 1.089...\n",
       "532    [[2.716287925839424, 3.1112320199608803, 1.089...\n",
       "533    [[2.3917427733540535, 2.679509771987796, 1.030...\n",
       "Name: attention_distances, Length: 534, dtype: object"
      ]
     },
     "execution_count": 109,
     "metadata": {},
     "output_type": "execute_result"
    }
   ],
   "source": [
    "foo.stimulus_df.attention_distances"
   ]
  },
  {
   "cell_type": "code",
   "execution_count": 110,
   "metadata": {},
   "outputs": [
    {
     "data": {
      "text/plain": [
       "<AxesSubplot:>"
      ]
     },
     "execution_count": 110,
     "metadata": {},
     "output_type": "execute_result"
    },
    {
     "data": {
      "image/png": "[encoded data removed]",
      "text/plain": [
       "<Figure size 432x288 with 2 Axes>"
      ]
     },
     "metadata": {
      "needs_background": "light"
     },
     "output_type": "display_data"
    }
   ],
   "source": [
    "sns.heatmap(foo.stimulus_df.attention_distances.iloc[400])"
   ]
  },
  {
   "cell_type": "markdown",
   "metadata": {},
   "source": [
    "# Outputs for Sreejan"
   ]
  },
  {
   "cell_type": "code",
   "execution_count": 111,
   "metadata": {},
   "outputs": [],
   "source": [
    "import itertools\n",
    "\n",
    "def flatten(lists):\n",
    "    if lists is None:\n",
    "        return None\n",
    "    else:\n",
    "        return list(itertools.chain.from_iterable(lists))"
   ]
  },
  {
   "cell_type": "markdown",
   "metadata": {},
   "source": [
    "### Syntactic Complexity"
   ]
  },
  {
   "cell_type": "code",
   "execution_count": 112,
   "metadata": {},
   "outputs": [
    {
     "name": "stdout",
     "output_type": "stream",
     "text": [
      "Outputting metrics to black_bert-base-uncased_syntactic_complexity_L-1_T-10_D-fwd.npy\n",
      "(534,)\n",
      "Outputting metrics to black_bert-base-uncased_syntactic_complexity_L-inf_T-10_D-fwd.npy\n",
      "(534,)\n"
     ]
    }
   ],
   "source": [
    "for p in [1, 'inf']:  # can also do p=2, but not using that currently.\n",
    "\n",
    "    COMPLEXITY_OUTPUT_FILE = \"{}_{}_syntactic_complexity_L-{}_T-{}_D-{}.npy\".format(STIMULUS, MODEL, p, N_ATTENTION_TOKENS, ATTENTION_DIRECTION)\n",
    "    print(\"Outputting metrics to {}\".format(COMPLEXITY_OUTPUT_FILE))\n",
    "\n",
    "    attention_vectors = foo.stimulus_df[\"attention_heads_L{}\".format(p)].apply(lambda x: flatten(x))\n",
    "\n",
    "    attention_np_arrays = np.array(attention_vectors)\n",
    "    print(attention_np_arrays.shape)\n",
    "    np.save(COMPLEXITY_OUTPUT_FILE, attention_np_arrays)\n",
    "\n",
    "# baz = np.load(OUTPUT_FILE, allow_pickle=True)\n",
    "# baz[:10]"
   ]
  },
  {
   "cell_type": "markdown",
   "metadata": {},
   "source": [
    "### Syntactic Distance"
   ]
  },
  {
   "cell_type": "code",
   "execution_count": 99,
   "metadata": {},
   "outputs": [
    {
     "name": "stdout",
     "output_type": "stream",
     "text": [
      "(534,)\n"
     ]
    }
   ],
   "source": [
    "DISTANCE_OUTPUT_FILE = \"{}_{}_syntactic_distance_T-{}_D-{}.npy\".format(STIMULUS, MODEL, N_ATTENTION_TOKENS, ATTENTION_DIRECTION)\n",
    "\n",
    "attention_distance_vectors = foo.stimulus_df[\"attention_distances\".format(p)].apply(lambda x: flatten(x))\n",
    "attention_np_arrays = np.array(attention_distance_vectors)\n",
    "print(attention_np_arrays.shape)\n",
    "\n",
    "np.save(DISTANCE_OUTPUT_FILE, attention_np_arrays)\n",
    "\n",
    "# baz = np.load(DISTANCE_OUTPUT_FILE, allow_pickle=True)\n",
    "# baz"
   ]
  },
  {
   "cell_type": "markdown",
   "metadata": {},
   "source": [
    "# Semantic Composition\n",
    "\n",
    "(F.K.A \"Attention Effects\")\n",
    "\n",
    "### End-to-end\n",
    "How far do tokens \"move in space\" from the initial embeddings to final outputs?\n",
    "\n",
    "`activation_end_to_end_l2_distances[n_token]` gives the start-to-finish displacement of the contextualization process. Longer distances indicates the token's meaning was changed more during contextualization."
   ]
  },
  {
   "cell_type": "code",
   "execution_count": 100,
   "metadata": {},
   "outputs": [],
   "source": [
    "foo.end_to_end_token_movement()\n",
    "\n",
    "def normalize_col(col):\n",
    "    \n",
    "    de_meaned = col - col.mean()\n",
    "    return de_meaned / de_meaned.std()\n",
    "\n",
    "foo.stimulus_df[\"activation_end_to_end_mean_l2\"] = foo.stimulus_df[\"activation_end_to_end_l2_distances\"].apply(lambda x: np.mean(x))\n",
    "foo.stimulus_df[\"activation_end_to_end_max_l2\"] = foo.stimulus_df[\"activation_end_to_end_l2_distances\"].apply(lambda x: np.max(x))\n",
    "\n",
    "foo.stimulus_df.activation_end_to_end_mean_l2 = normalize_col(foo.stimulus_df.activation_end_to_end_mean_l2)\n",
    "foo.stimulus_df.activation_end_to_end_max_l2 = normalize_col(foo.stimulus_df.activation_end_to_end_max_l2)"
   ]
  },
  {
   "cell_type": "code",
   "execution_count": 101,
   "metadata": {},
   "outputs": [
    {
     "data": {
      "image/png": "[encoded data removed]",
      "text/plain": [
       "<Figure size 432x288 with 1 Axes>"
      ]
     },
     "metadata": {
      "needs_background": "light"
     },
     "output_type": "display_data"
    }
   ],
   "source": [
    "foo.stimulus_df.activation_end_to_end_max_l2.hist(bins=50)\n",
    "plt.suptitle(\"{}: Max Contextualization Effects Per TR\".format(foo.model_name));\n",
    "plt.xlabel(\"Contextualization Effects (Max End-to-End L2 Distance)\")\n",
    "plt.ylabel(\"Number of TRs\");"
   ]
  },
  {
   "cell_type": "code",
   "execution_count": 81,
   "metadata": {},
   "outputs": [
    {
     "data": {
      "image/png": "[encoded data removed]",
      "text/plain": [
       "<Figure size 432x288 with 1 Axes>"
      ]
     },
     "metadata": {
      "needs_background": "light"
     },
     "output_type": "display_data"
    }
   ],
   "source": [
    "foo.stimulus_df.activation_end_to_end_mean_l2.hist(bins=50)\n",
    "plt.suptitle(\"{}: Mean Contextualization Effects Per TR\".format(foo.model_name));\n",
    "plt.xlabel(\"Contextualization Effects (Mean End-to-End L2 Distance)\")\n",
    "plt.ylabel(\"Number of TRs\");"
   ]
  },
  {
   "cell_type": "markdown",
   "metadata": {},
   "source": [
    "# Semantic Composition Output\n",
    "### Outputting Layerwise Token Movement \n",
    "`activation_layerwise_l2_distances[n_layer][n_token]` gives the L2 distance that each token moved, each layer.\n",
    "\n",
    "We can look at the mean or max distance for each layer + token."
   ]
  },
  {
   "cell_type": "markdown",
   "metadata": {},
   "source": [
    "### Run the embeddings with a defined number of context windows"
   ]
  },
  {
   "cell_type": "code",
   "execution_count": 111,
   "metadata": {},
   "outputs": [
    {
     "name": "stdout",
     "output_type": "stream",
     "text": [
      "Processed 534 TRs for activations.\n"
     ]
    }
   ],
   "source": [
    "N_CONTEXT_TRS = 0 # 5, 20\n",
    "\n",
    "foo.verbose = False\n",
    "foo.process_stimulus_activations(num_context_trs=N_CONTEXT_TRS)"
   ]
  },
  {
   "cell_type": "code",
   "execution_count": 112,
   "metadata": {},
   "outputs": [],
   "source": [
    "foo.layerwise_token_movement()\n",
    "foo.end_to_end_token_movement()"
   ]
  },
  {
   "cell_type": "code",
   "execution_count": 113,
   "metadata": {},
   "outputs": [],
   "source": [
    "def normalize_col(col):\n",
    "    \n",
    "    de_meaned = col - col.mean()\n",
    "    return de_meaned / de_meaned.std()\n",
    "\n",
    "end_to_end_mean_l2 = foo.stimulus_df[\"activation_end_to_end_l2_distances\"].apply(lambda x: np.mean(x))\n",
    "foo.stimulus_df[\"activation_end_to_end_mean_l2_normed\"] = normalize_col(end_to_end_mean_l2)\n",
    "\n",
    "end_to_end_max_l2 = foo.stimulus_df[\"activation_end_to_end_l2_distances\"].apply(lambda x: np.max(x))\n",
    "foo.stimulus_df[\"activation_end_to_end_max_l2_normed\"] = normalize_col(end_to_end_max_l2)"
   ]
  },
  {
   "cell_type": "code",
   "execution_count": 114,
   "metadata": {},
   "outputs": [
    {
     "data": {
      "text/plain": [
       "2"
      ]
     },
     "execution_count": 114,
     "metadata": {},
     "output_type": "execute_result"
    }
   ],
   "source": [
    "layerwise_mean_l2 = foo.stimulus_df[\"activation_layerwise_l2_distances\"].apply(lambda x: [np.mean(layer) for layer in x])\n",
    "foo.stimulus_df[\"activation_layerwise_mean_l2\"] = layerwise_mean_l2\n",
    "\n",
    "layerwise_max_l2 = foo.stimulus_df[\"activation_layerwise_l2_distances\"].apply(lambda x: [np.max(layer) for layer in x])\n",
    "foo.stimulus_df[\"activation_layerwise_max_l2\"] = layerwise_max_l2\n",
    "\n",
    "len(foo.stimulus_df[\"activation_layerwise_l2_distances\"][0][0])"
   ]
  },
  {
   "cell_type": "code",
   "execution_count": 115,
   "metadata": {},
   "outputs": [],
   "source": [
    "for metric in [\"max\", \"mean\"]:\n",
    "\n",
    "    df = pd.DataFrame.from_records(foo.stimulus_df[\"activation_layerwise_{}_l2\".format(metric)])\n",
    "\n",
    "    normalized = (df-df.mean())/df.std()\n",
    "    normalized.apply([np.mean, np.std])\n",
    "    foo.stimulus_df[\"activation_layerwise_{}_l2_normed\".format(metric)] = [list(r) for r in normalized.to_records(index=False)]"
   ]
  },
  {
   "cell_type": "code",
   "execution_count": 116,
   "metadata": {},
   "outputs": [],
   "source": [
    "full_lists = []\n",
    "for i, tr in foo.stimulus_df.iterrows():\n",
    "    \n",
    "    max_composition = tr[\"activation_layerwise_max_l2_normed\"] + [tr['activation_end_to_end_max_l2_normed']]\n",
    "    mean_composition = tr[\"activation_layerwise_mean_l2_normed\"] + [tr['activation_end_to_end_mean_l2_normed']]\n",
    "    full_lists.append(max_composition + mean_composition)\n",
    "    \n",
    "foo.stimulus_df[\"full_semantic_composition\"] = full_lists\n",
    "attention_effects_array = np.array(foo.stimulus_df[['full_semantic_composition']])\n",
    "\n",
    "np.save(\"{}_{}_semantic_composition_{}-TRs.npy\".format(STIMULUS, MODEL, N_CONTEXT_TRS), attention_effects_array)"
   ]
  },
  {
   "cell_type": "markdown",
   "metadata": {},
   "source": [
    "### Sanity-check dimensions\n",
    "We should have N_TRs x 2 x N_LAYER+1:"
   ]
  },
  {
   "cell_type": "code",
   "execution_count": 153,
   "metadata": {},
   "outputs": [
    {
     "name": "stdout",
     "output_type": "stream",
     "text": [
      "(534,)\n",
      "26\n"
     ]
    }
   ],
   "source": [
    "print(foo.stimulus_df[\"full_semantic_composition\"].shape)\n",
    "print(len(foo.stimulus_df[\"full_semantic_composition\"][0]))"
   ]
  },
  {
   "cell_type": "markdown",
   "metadata": {},
   "source": [
    "## Final Semantic Composition .npy write"
   ]
  },
  {
   "cell_type": "code",
   "execution_count": 122,
   "metadata": {},
   "outputs": [],
   "source": [
    "foo.semantic_composition_from_activations()"
   ]
  },
  {
   "cell_type": "code",
   "execution_count": 127,
   "metadata": {},
   "outputs": [
    {
     "data": {
      "text/html": [
       "<div>\n",
       "<style scoped>\n",
       "    .dataframe tbody tr th:only-of-type {\n",
       "        vertical-align: middle;\n",
       "    }\n",
       "\n",
       "    .dataframe tbody tr th {\n",
       "        vertical-align: top;\n",
       "    }\n",
       "\n",
       "    .dataframe thead th {\n",
       "        text-align: right;\n",
       "    }\n",
       "</style>\n",
       "<table border=\"1\" class=\"dataframe\">\n",
       "  <thead>\n",
       "    <tr style=\"text-align: right;\">\n",
       "      <th></th>\n",
       "      <th>tr</th>\n",
       "      <th>start_ts</th>\n",
       "      <th>end_ts</th>\n",
       "      <th>tr.1</th>\n",
       "      <th>phoneme_vector</th>\n",
       "      <th>n_phonemes</th>\n",
       "      <th>tokens</th>\n",
       "      <th>n_tokens</th>\n",
       "      <th>tr_shift</th>\n",
       "      <th>prev_tr</th>\n",
       "      <th>...</th>\n",
       "      <th>activation_layerwise_l2_distances</th>\n",
       "      <th>activation_end_to_end_l2_distances</th>\n",
       "      <th>activation_end_to_end_mean_l2_normed</th>\n",
       "      <th>activation_end_to_end_max_l2_normed</th>\n",
       "      <th>activation_layerwise_mean_l2</th>\n",
       "      <th>activation_layerwise_max_l2</th>\n",
       "      <th>activation_layerwise_max_l2_normed</th>\n",
       "      <th>activation_layerwise_mean_l2_normed</th>\n",
       "      <th>full_semantic_composition</th>\n",
       "      <th>semantic_composition</th>\n",
       "    </tr>\n",
       "  </thead>\n",
       "  <tbody>\n",
       "    <tr>\n",
       "      <th>0</th>\n",
       "      <td>0</td>\n",
       "      <td>0.24</td>\n",
       "      <td>1.26</td>\n",
       "      <td>0</td>\n",
       "      <td>[0, 0, 0, 0, 1, 0, 0, 0, 1, 0, 0, 0, 1, 0, 0, ...</td>\n",
       "      <td>3.0</td>\n",
       "      <td>So I</td>\n",
       "      <td>2.0</td>\n",
       "      <td>NaN</td>\n",
       "      <td>NaN</td>\n",
       "      <td>...</td>\n",
       "      <td>[[9.863197326660156, 9.544010162353516], [8.03...</td>\n",
       "      <td>[18.028287887573242, 18.45259666442871]</td>\n",
       "      <td>-0.477248</td>\n",
       "      <td>-1.056626</td>\n",
       "      <td>[9.703603744506836, 7.883480548858643, 8.26190...</td>\n",
       "      <td>[9.863197326660156, 8.036924362182617, 8.30698...</td>\n",
       "      <td>[-0.9379636390856837, -1.4579013402620518, -0....</td>\n",
       "      <td>[-0.2241099365697535, -1.1193412429172198, -0....</td>\n",
       "      <td>[-0.9379636390856837, -1.4579013402620518, -0....</td>\n",
       "      <td>[-0.9379636390856837, -1.4579013402620518, -0....</td>\n",
       "    </tr>\n",
       "    <tr>\n",
       "      <th>1</th>\n",
       "      <td>1</td>\n",
       "      <td>1.96</td>\n",
       "      <td>2.45</td>\n",
       "      <td>1</td>\n",
       "      <td>[0, 0, 0, 0, 0, 0, 1, 1, 0, 0, 0, 0, 0, 0, 0, ...</td>\n",
       "      <td>4.0</td>\n",
       "      <td>was a</td>\n",
       "      <td>2.0</td>\n",
       "      <td>1.0</td>\n",
       "      <td>0.0</td>\n",
       "      <td>...</td>\n",
       "      <td>[[8.367582321166992, 8.623529434204102], [6.85...</td>\n",
       "      <td>[16.258790969848633, 14.89378547668457]</td>\n",
       "      <td>-2.835992</td>\n",
       "      <td>-2.649477</td>\n",
       "      <td>[8.495555877685547, 7.424961566925049, 6.88496...</td>\n",
       "      <td>[8.623529434204102, 7.9969587326049805, 7.0862...</td>\n",
       "      <td>[-2.2975460133703485, -1.495448194034524, -1.9...</td>\n",
       "      <td>[-2.2909398392894906, -1.821850066783626, -2.3...</td>\n",
       "      <td>[-2.2975460133703485, -1.495448194034524, -1.9...</td>\n",
       "      <td>[-2.2975460133703485, -1.495448194034524, -1.9...</td>\n",
       "    </tr>\n",
       "    <tr>\n",
       "      <th>2</th>\n",
       "      <td>2</td>\n",
       "      <td>2.46</td>\n",
       "      <td>4.20</td>\n",
       "      <td>2</td>\n",
       "      <td>[0, 0, 0, 0, 0, 1, 0, 0, 0, 0, 0, 0, 0, 1, 1, ...</td>\n",
       "      <td>12.0</td>\n",
       "      <td>junior in college</td>\n",
       "      <td>3.0</td>\n",
       "      <td>1.0</td>\n",
       "      <td>1.0</td>\n",
       "      <td>...</td>\n",
       "      <td>[[13.671257019042969, 9.505199432373047, 10.73...</td>\n",
       "      <td>[21.233692169189453, 19.95167350769043, 20.191...</td>\n",
       "      <td>1.487036</td>\n",
       "      <td>0.962638</td>\n",
       "      <td>[11.303675969441732, 8.365735212961832, 8.5389...</td>\n",
       "      <td>[13.671257019042969, 9.227483749389648, 9.2398...</td>\n",
       "      <td>[3.2384539881628887, -0.3393962724995263, -0.0...</td>\n",
       "      <td>[2.513428212236045, -0.3804663648161289, 0.182...</td>\n",
       "      <td>[3.2384539881628887, -0.3393962724995263, -0.0...</td>\n",
       "      <td>[3.2384539881628887, -0.3393962724995263, -0.0...</td>\n",
       "    </tr>\n",
       "    <tr>\n",
       "      <th>3</th>\n",
       "      <td>3</td>\n",
       "      <td>4.79</td>\n",
       "      <td>5.59</td>\n",
       "      <td>3</td>\n",
       "      <td>[0, 0, 1, 0, 0, 0, 1, 0, 0, 0, 0, 0, 1, 0, 0, ...</td>\n",
       "      <td>9.0</td>\n",
       "      <td>when I got my</td>\n",
       "      <td>4.0</td>\n",
       "      <td>1.0</td>\n",
       "      <td>2.0</td>\n",
       "      <td>...</td>\n",
       "      <td>[[9.572195053100586, 9.739704132080078, 10.515...</td>\n",
       "      <td>[16.95180892944336, 17.84522247314453, 19.4367...</td>\n",
       "      <td>-0.796458</td>\n",
       "      <td>-0.342034</td>\n",
       "      <td>[10.075659990310669, 8.394703149795532, 7.7035...</td>\n",
       "      <td>[10.515669822692871, 9.30056095123291, 8.78334...</td>\n",
       "      <td>[-0.2223767381826689, -0.2707418051307519, -0....</td>\n",
       "      <td>[0.4124351834050035, -0.33608383751254545, -1....</td>\n",
       "      <td>[-0.2223767381826689, -0.2707418051307519, -0....</td>\n",
       "      <td>[-0.2223767381826689, -0.2707418051307519, -0....</td>\n",
       "    </tr>\n",
       "    <tr>\n",
       "      <th>4</th>\n",
       "      <td>4</td>\n",
       "      <td>5.61</td>\n",
       "      <td>6.34</td>\n",
       "      <td>4</td>\n",
       "      <td>[0, 0, 0, 0, 0, 0, 0, 0, 1, 0, 0, 0, 0, 0, 0, ...</td>\n",
       "      <td>4.0</td>\n",
       "      <td>first</td>\n",
       "      <td>1.0</td>\n",
       "      <td>1.0</td>\n",
       "      <td>3.0</td>\n",
       "      <td>...</td>\n",
       "      <td>[[9.992968559265137], [9.00584602355957], [9.1...</td>\n",
       "      <td>[17.258207321166992]</td>\n",
       "      <td>-1.346883</td>\n",
       "      <td>-1.923833</td>\n",
       "      <td>[9.992968559265137, 9.00584602355957, 9.169726...</td>\n",
       "      <td>[9.992968559265137, 9.00584602355957, 9.169726...</td>\n",
       "      <td>[-0.7956394879056681, -0.5476201731399357, -0....</td>\n",
       "      <td>[0.27095972777318095, 0.6002640093133232, 1.15...</td>\n",
       "      <td>[-0.7956394879056681, -0.5476201731399357, -0....</td>\n",
       "      <td>[-0.7956394879056681, -0.5476201731399357, -0....</td>\n",
       "    </tr>\n",
       "    <tr>\n",
       "      <th>...</th>\n",
       "      <td>...</td>\n",
       "      <td>...</td>\n",
       "      <td>...</td>\n",
       "      <td>...</td>\n",
       "      <td>...</td>\n",
       "      <td>...</td>\n",
       "      <td>...</td>\n",
       "      <td>...</td>\n",
       "      <td>...</td>\n",
       "      <td>...</td>\n",
       "      <td>...</td>\n",
       "      <td>...</td>\n",
       "      <td>...</td>\n",
       "      <td>...</td>\n",
       "      <td>...</td>\n",
       "      <td>...</td>\n",
       "      <td>...</td>\n",
       "      <td>...</td>\n",
       "      <td>...</td>\n",
       "      <td>...</td>\n",
       "      <td>...</td>\n",
       "    </tr>\n",
       "    <tr>\n",
       "      <th>529</th>\n",
       "      <td>529</td>\n",
       "      <td>NaN</td>\n",
       "      <td>NaN</td>\n",
       "      <td>529</td>\n",
       "      <td>NaN</td>\n",
       "      <td>NaN</td>\n",
       "      <td></td>\n",
       "      <td>0.0</td>\n",
       "      <td>NaN</td>\n",
       "      <td>NaN</td>\n",
       "      <td>...</td>\n",
       "      <td>[[9.858613967895508], [8.993492126464844], [9....</td>\n",
       "      <td>[21.072927474975586]</td>\n",
       "      <td>2.030530</td>\n",
       "      <td>0.845912</td>\n",
       "      <td>[9.858613967895508, 8.993492126464844, 9.23292...</td>\n",
       "      <td>[9.858613967895508, 8.993492126464844, 9.23292...</td>\n",
       "      <td>[-0.9429903513441525, -0.5592263951021045, -0....</td>\n",
       "      <td>[0.04109459193124202, 0.581336283177353, 1.249...</td>\n",
       "      <td>[-0.9429903513441525, -0.5592263951021045, -0....</td>\n",
       "      <td>[-0.9429903513441525, -0.5592263951021045, -0....</td>\n",
       "    </tr>\n",
       "    <tr>\n",
       "      <th>530</th>\n",
       "      <td>530</td>\n",
       "      <td>NaN</td>\n",
       "      <td>NaN</td>\n",
       "      <td>530</td>\n",
       "      <td>NaN</td>\n",
       "      <td>NaN</td>\n",
       "      <td></td>\n",
       "      <td>0.0</td>\n",
       "      <td>NaN</td>\n",
       "      <td>NaN</td>\n",
       "      <td>...</td>\n",
       "      <td>[[9.858613967895508], [8.993492126464844], [9....</td>\n",
       "      <td>[21.072927474975586]</td>\n",
       "      <td>2.030530</td>\n",
       "      <td>0.845912</td>\n",
       "      <td>[9.858613967895508, 8.993492126464844, 9.23292...</td>\n",
       "      <td>[9.858613967895508, 8.993492126464844, 9.23292...</td>\n",
       "      <td>[-0.9429903513441525, -0.5592263951021045, -0....</td>\n",
       "      <td>[0.04109459193124202, 0.581336283177353, 1.249...</td>\n",
       "      <td>[-0.9429903513441525, -0.5592263951021045, -0....</td>\n",
       "      <td>[-0.9429903513441525, -0.5592263951021045, -0....</td>\n",
       "    </tr>\n",
       "    <tr>\n",
       "      <th>531</th>\n",
       "      <td>531</td>\n",
       "      <td>NaN</td>\n",
       "      <td>NaN</td>\n",
       "      <td>531</td>\n",
       "      <td>NaN</td>\n",
       "      <td>NaN</td>\n",
       "      <td></td>\n",
       "      <td>0.0</td>\n",
       "      <td>NaN</td>\n",
       "      <td>NaN</td>\n",
       "      <td>...</td>\n",
       "      <td>[[9.858613967895508], [8.993492126464844], [9....</td>\n",
       "      <td>[21.072927474975586]</td>\n",
       "      <td>2.030530</td>\n",
       "      <td>0.845912</td>\n",
       "      <td>[9.858613967895508, 8.993492126464844, 9.23292...</td>\n",
       "      <td>[9.858613967895508, 8.993492126464844, 9.23292...</td>\n",
       "      <td>[-0.9429903513441525, -0.5592263951021045, -0....</td>\n",
       "      <td>[0.04109459193124202, 0.581336283177353, 1.249...</td>\n",
       "      <td>[-0.9429903513441525, -0.5592263951021045, -0....</td>\n",
       "      <td>[-0.9429903513441525, -0.5592263951021045, -0....</td>\n",
       "    </tr>\n",
       "    <tr>\n",
       "      <th>532</th>\n",
       "      <td>532</td>\n",
       "      <td>NaN</td>\n",
       "      <td>NaN</td>\n",
       "      <td>532</td>\n",
       "      <td>NaN</td>\n",
       "      <td>NaN</td>\n",
       "      <td></td>\n",
       "      <td>0.0</td>\n",
       "      <td>NaN</td>\n",
       "      <td>NaN</td>\n",
       "      <td>...</td>\n",
       "      <td>[[9.858613967895508], [8.993492126464844], [9....</td>\n",
       "      <td>[21.072927474975586]</td>\n",
       "      <td>2.030530</td>\n",
       "      <td>0.845912</td>\n",
       "      <td>[9.858613967895508, 8.993492126464844, 9.23292...</td>\n",
       "      <td>[9.858613967895508, 8.993492126464844, 9.23292...</td>\n",
       "      <td>[-0.9429903513441525, -0.5592263951021045, -0....</td>\n",
       "      <td>[0.04109459193124202, 0.581336283177353, 1.249...</td>\n",
       "      <td>[-0.9429903513441525, -0.5592263951021045, -0....</td>\n",
       "      <td>[-0.9429903513441525, -0.5592263951021045, -0....</td>\n",
       "    </tr>\n",
       "    <tr>\n",
       "      <th>533</th>\n",
       "      <td>533</td>\n",
       "      <td>799.81</td>\n",
       "      <td>799.83</td>\n",
       "      <td>533</td>\n",
       "      <td>[0, 0, 0, 0, 0, 0, 0, 0, 0, 0, 0, 0, 0, 0, 0, ...</td>\n",
       "      <td>2.0</td>\n",
       "      <td>you</td>\n",
       "      <td>1.0</td>\n",
       "      <td>5.0</td>\n",
       "      <td>528.0</td>\n",
       "      <td>...</td>\n",
       "      <td>[[9.844359397888184], [8.078141212463379], [8....</td>\n",
       "      <td>[18.33339500427246]</td>\n",
       "      <td>-0.394951</td>\n",
       "      <td>-1.143174</td>\n",
       "      <td>[9.844359397888184, 8.078141212463379, 8.81919...</td>\n",
       "      <td>[9.844359397888184, 8.078141212463379, 8.81919...</td>\n",
       "      <td>[-0.958623782082258, -1.4191789914135902, -0.4...</td>\n",
       "      <td>[0.016706674572411085, -0.8210965917027087, 0....</td>\n",
       "      <td>[-0.958623782082258, -1.4191789914135902, -0.4...</td>\n",
       "      <td>[-0.958623782082258, -1.4191789914135902, -0.4...</td>\n",
       "    </tr>\n",
       "  </tbody>\n",
       "</table>\n",
       "<p>534 rows × 23 columns</p>\n",
       "</div>"
      ],
      "text/plain": [
       "      tr  start_ts  end_ts  tr.1  \\\n",
       "0      0      0.24    1.26     0   \n",
       "1      1      1.96    2.45     1   \n",
       "2      2      2.46    4.20     2   \n",
       "3      3      4.79    5.59     3   \n",
       "4      4      5.61    6.34     4   \n",
       "..   ...       ...     ...   ...   \n",
       "529  529       NaN     NaN   529   \n",
       "530  530       NaN     NaN   530   \n",
       "531  531       NaN     NaN   531   \n",
       "532  532       NaN     NaN   532   \n",
       "533  533    799.81  799.83   533   \n",
       "\n",
       "                                        phoneme_vector  n_phonemes  \\\n",
       "0    [0, 0, 0, 0, 1, 0, 0, 0, 1, 0, 0, 0, 1, 0, 0, ...         3.0   \n",
       "1    [0, 0, 0, 0, 0, 0, 1, 1, 0, 0, 0, 0, 0, 0, 0, ...         4.0   \n",
       "2    [0, 0, 0, 0, 0, 1, 0, 0, 0, 0, 0, 0, 0, 1, 1, ...        12.0   \n",
       "3    [0, 0, 1, 0, 0, 0, 1, 0, 0, 0, 0, 0, 1, 0, 0, ...         9.0   \n",
       "4    [0, 0, 0, 0, 0, 0, 0, 0, 1, 0, 0, 0, 0, 0, 0, ...         4.0   \n",
       "..                                                 ...         ...   \n",
       "529                                                NaN         NaN   \n",
       "530                                                NaN         NaN   \n",
       "531                                                NaN         NaN   \n",
       "532                                                NaN         NaN   \n",
       "533  [0, 0, 0, 0, 0, 0, 0, 0, 0, 0, 0, 0, 0, 0, 0, ...         2.0   \n",
       "\n",
       "                tokens  n_tokens  tr_shift  prev_tr  ...  \\\n",
       "0                 So I       2.0       NaN      NaN  ...   \n",
       "1                was a       2.0       1.0      0.0  ...   \n",
       "2    junior in college       3.0       1.0      1.0  ...   \n",
       "3        when I got my       4.0       1.0      2.0  ...   \n",
       "4                first       1.0       1.0      3.0  ...   \n",
       "..                 ...       ...       ...      ...  ...   \n",
       "529                          0.0       NaN      NaN  ...   \n",
       "530                          0.0       NaN      NaN  ...   \n",
       "531                          0.0       NaN      NaN  ...   \n",
       "532                          0.0       NaN      NaN  ...   \n",
       "533                you       1.0       5.0    528.0  ...   \n",
       "\n",
       "                     activation_layerwise_l2_distances  \\\n",
       "0    [[9.863197326660156, 9.544010162353516], [8.03...   \n",
       "1    [[8.367582321166992, 8.623529434204102], [6.85...   \n",
       "2    [[13.671257019042969, 9.505199432373047, 10.73...   \n",
       "3    [[9.572195053100586, 9.739704132080078, 10.515...   \n",
       "4    [[9.992968559265137], [9.00584602355957], [9.1...   \n",
       "..                                                 ...   \n",
       "529  [[9.858613967895508], [8.993492126464844], [9....   \n",
       "530  [[9.858613967895508], [8.993492126464844], [9....   \n",
       "531  [[9.858613967895508], [8.993492126464844], [9....   \n",
       "532  [[9.858613967895508], [8.993492126464844], [9....   \n",
       "533  [[9.844359397888184], [8.078141212463379], [8....   \n",
       "\n",
       "                    activation_end_to_end_l2_distances  \\\n",
       "0              [18.028287887573242, 18.45259666442871]   \n",
       "1              [16.258790969848633, 14.89378547668457]   \n",
       "2    [21.233692169189453, 19.95167350769043, 20.191...   \n",
       "3    [16.95180892944336, 17.84522247314453, 19.4367...   \n",
       "4                                 [17.258207321166992]   \n",
       "..                                                 ...   \n",
       "529                               [21.072927474975586]   \n",
       "530                               [21.072927474975586]   \n",
       "531                               [21.072927474975586]   \n",
       "532                               [21.072927474975586]   \n",
       "533                                [18.33339500427246]   \n",
       "\n",
       "     activation_end_to_end_mean_l2_normed activation_end_to_end_max_l2_normed  \\\n",
       "0                               -0.477248                           -1.056626   \n",
       "1                               -2.835992                           -2.649477   \n",
       "2                                1.487036                            0.962638   \n",
       "3                               -0.796458                           -0.342034   \n",
       "4                               -1.346883                           -1.923833   \n",
       "..                                    ...                                 ...   \n",
       "529                              2.030530                            0.845912   \n",
       "530                              2.030530                            0.845912   \n",
       "531                              2.030530                            0.845912   \n",
       "532                              2.030530                            0.845912   \n",
       "533                             -0.394951                           -1.143174   \n",
       "\n",
       "                          activation_layerwise_mean_l2  \\\n",
       "0    [9.703603744506836, 7.883480548858643, 8.26190...   \n",
       "1    [8.495555877685547, 7.424961566925049, 6.88496...   \n",
       "2    [11.303675969441732, 8.365735212961832, 8.5389...   \n",
       "3    [10.075659990310669, 8.394703149795532, 7.7035...   \n",
       "4    [9.992968559265137, 9.00584602355957, 9.169726...   \n",
       "..                                                 ...   \n",
       "529  [9.858613967895508, 8.993492126464844, 9.23292...   \n",
       "530  [9.858613967895508, 8.993492126464844, 9.23292...   \n",
       "531  [9.858613967895508, 8.993492126464844, 9.23292...   \n",
       "532  [9.858613967895508, 8.993492126464844, 9.23292...   \n",
       "533  [9.844359397888184, 8.078141212463379, 8.81919...   \n",
       "\n",
       "                           activation_layerwise_max_l2  \\\n",
       "0    [9.863197326660156, 8.036924362182617, 8.30698...   \n",
       "1    [8.623529434204102, 7.9969587326049805, 7.0862...   \n",
       "2    [13.671257019042969, 9.227483749389648, 9.2398...   \n",
       "3    [10.515669822692871, 9.30056095123291, 8.78334...   \n",
       "4    [9.992968559265137, 9.00584602355957, 9.169726...   \n",
       "..                                                 ...   \n",
       "529  [9.858613967895508, 8.993492126464844, 9.23292...   \n",
       "530  [9.858613967895508, 8.993492126464844, 9.23292...   \n",
       "531  [9.858613967895508, 8.993492126464844, 9.23292...   \n",
       "532  [9.858613967895508, 8.993492126464844, 9.23292...   \n",
       "533  [9.844359397888184, 8.078141212463379, 8.81919...   \n",
       "\n",
       "                    activation_layerwise_max_l2_normed  \\\n",
       "0    [-0.9379636390856837, -1.4579013402620518, -0....   \n",
       "1    [-2.2975460133703485, -1.495448194034524, -1.9...   \n",
       "2    [3.2384539881628887, -0.3393962724995263, -0.0...   \n",
       "3    [-0.2223767381826689, -0.2707418051307519, -0....   \n",
       "4    [-0.7956394879056681, -0.5476201731399357, -0....   \n",
       "..                                                 ...   \n",
       "529  [-0.9429903513441525, -0.5592263951021045, -0....   \n",
       "530  [-0.9429903513441525, -0.5592263951021045, -0....   \n",
       "531  [-0.9429903513441525, -0.5592263951021045, -0....   \n",
       "532  [-0.9429903513441525, -0.5592263951021045, -0....   \n",
       "533  [-0.958623782082258, -1.4191789914135902, -0.4...   \n",
       "\n",
       "                   activation_layerwise_mean_l2_normed  \\\n",
       "0    [-0.2241099365697535, -1.1193412429172198, -0....   \n",
       "1    [-2.2909398392894906, -1.821850066783626, -2.3...   \n",
       "2    [2.513428212236045, -0.3804663648161289, 0.182...   \n",
       "3    [0.4124351834050035, -0.33608383751254545, -1....   \n",
       "4    [0.27095972777318095, 0.6002640093133232, 1.15...   \n",
       "..                                                 ...   \n",
       "529  [0.04109459193124202, 0.581336283177353, 1.249...   \n",
       "530  [0.04109459193124202, 0.581336283177353, 1.249...   \n",
       "531  [0.04109459193124202, 0.581336283177353, 1.249...   \n",
       "532  [0.04109459193124202, 0.581336283177353, 1.249...   \n",
       "533  [0.016706674572411085, -0.8210965917027087, 0....   \n",
       "\n",
       "                             full_semantic_composition  \\\n",
       "0    [-0.9379636390856837, -1.4579013402620518, -0....   \n",
       "1    [-2.2975460133703485, -1.495448194034524, -1.9...   \n",
       "2    [3.2384539881628887, -0.3393962724995263, -0.0...   \n",
       "3    [-0.2223767381826689, -0.2707418051307519, -0....   \n",
       "4    [-0.7956394879056681, -0.5476201731399357, -0....   \n",
       "..                                                 ...   \n",
       "529  [-0.9429903513441525, -0.5592263951021045, -0....   \n",
       "530  [-0.9429903513441525, -0.5592263951021045, -0....   \n",
       "531  [-0.9429903513441525, -0.5592263951021045, -0....   \n",
       "532  [-0.9429903513441525, -0.5592263951021045, -0....   \n",
       "533  [-0.958623782082258, -1.4191789914135902, -0.4...   \n",
       "\n",
       "                                  semantic_composition  \n",
       "0    [-0.9379636390856837, -1.4579013402620518, -0....  \n",
       "1    [-2.2975460133703485, -1.495448194034524, -1.9...  \n",
       "2    [3.2384539881628887, -0.3393962724995263, -0.0...  \n",
       "3    [-0.2223767381826689, -0.2707418051307519, -0....  \n",
       "4    [-0.7956394879056681, -0.5476201731399357, -0....  \n",
       "..                                                 ...  \n",
       "529  [-0.9429903513441525, -0.5592263951021045, -0....  \n",
       "530  [-0.9429903513441525, -0.5592263951021045, -0....  \n",
       "531  [-0.9429903513441525, -0.5592263951021045, -0....  \n",
       "532  [-0.9429903513441525, -0.5592263951021045, -0....  \n",
       "533  [-0.958623782082258, -1.4191789914135902, -0.4...  \n",
       "\n",
       "[534 rows x 23 columns]"
      ]
     },
     "execution_count": 127,
     "metadata": {},
     "output_type": "execute_result"
    }
   ],
   "source": [
    "foo.stimulus_df[foo.stimulus_df.semantic_composition == foo.stimulus_df.full_semantic_composition]"
   ]
  },
  {
   "cell_type": "code",
   "execution_count": null,
   "metadata": {},
   "outputs": [],
   "source": [
    "test = foo.stimulus_df.iloc[30]\n",
    "print(test.transformer_tfull_semantic_composition_in_tr)\n",
    "\n",
    "plt.plot(test[\"activation_layerwise_mean_l2\"], label=\"Mean L2 Distance\")\n",
    "plt.plot(test[\"activation_layerwise_max_l2\"], label=\"Max L2 Distance\")\n",
    "plt.xlabel(\"Transformer Layer\")\n",
    "plt.ylabel(\"L2 Distance Before/After\")\n",
    "plt.legend(loc='best')\n",
    "plt.suptitle(\"Contextualization: Token Movement Across Layers\");"
   ]
  },
  {
   "cell_type": "code",
   "execution_count": 155,
   "metadata": {},
   "outputs": [
    {
     "data": {
      "text/plain": [
       "0      [-0.35007594958924415, -1.8236759059731993, -0...\n",
       "1      [-1.034873367245879, -1.8171201366042389, -1.5...\n",
       "2      [3.1942124304884585, 0.09077869723401456, -0.1...\n",
       "3      [-0.40115110406167453, -0.7493219039644292, -0...\n",
       "4      [0.21287947715349742, 0.17868813811147743, -0....\n",
       "                             ...                        \n",
       "529    [-1.139023882065002, -0.44128023518218484, -0....\n",
       "530    [-1.0740768431439938, -0.22035217799233509, -0...\n",
       "531    [-1.0069907210536317, -0.3086663862329268, 0.0...\n",
       "532    [-0.3545554414027136, -0.9072076727709804, -0....\n",
       "533    [-0.368486977843814, -1.784186875122035, -0.47...\n",
       "Name: full_semantic_composition, Length: 534, dtype: object"
      ]
     },
     "execution_count": 155,
     "metadata": {},
     "output_type": "execute_result"
    }
   ],
   "source": [
    "metric_to_check = \"max\" # mean, max\n",
    "df = pd.DataFrame.from_records(foo.stimulus_df[\"activation_layerwise_{}_l2\".format(metric_to_check)])\n",
    "\n",
    "df.apply(np.mean).plot(kind='bar',yerr=df.apply(np.std))\n",
    "plt.suptitle(\"Mean / Std of {} L2 Displacement Across Layers\\n {}, {}\".format(metric_to_check, STIMULUS, MODEL));"
   ]
  },
  {
   "cell_type": "markdown",
   "metadata": {},
   "source": [
    "### To upload to PNI\n",
    "\n",
    "```scp {FILE_NAME} tsumers@apps.pni.princeton.edu:/jukebox/griffiths/bert-brains/code/bert-brains/data/{STIMULUS}/{MODEL}/syntactic_analyses```\n",
    "\n",
    "```ssh tsumers@apps.pni.princeton.edu```"
   ]
  },
  {
   "cell_type": "code",
   "execution_count": 156,
   "metadata": {},
   "outputs": [],
   "source": [
    "import random\n",
    "\n",
    "def concatenate_fwd_bck_arrays(fwd, bck):\n",
    "\n",
    "    nonzero_fwd = 0\n",
    "    total_fwd = 0\n",
    "    nonzero_bck = 0\n",
    "    total_bck = 0\n",
    "    \n",
    "    res = []\n",
    "    for f, b in zip(fwd, bck):\n",
    "        if f is None and b is None:\n",
    "            res.append(None)\n",
    "        else:\n",
    "            if random.random() > .95:\n",
    "                \n",
    "                nonzero_fwd += len([v for v in f if v > 1e-5])\n",
    "                total_fwd += len(f)\n",
    "                nonzero_bck += len([v for v in b if v > 1e-5])\n",
    "                total_bck += len(b)\n",
    "                \n",
    "            res.append(f + b)\n",
    "    res = np.array(res, dtype=object)\n",
    "    \n",
    "    print(\"\\tFound {}/{} and {}/{} nonzero.\".format(nonzero_fwd, total_fwd, nonzero_bck, total_bck))\n",
    "    \n",
    "    return res"
   ]
  },
  {
   "cell_type": "code",
   "execution_count": 157,
   "metadata": {},
   "outputs": [
    {
     "name": "stdout",
     "output_type": "stream",
     "text": [
      "\tFound 7616/7632 and 7632/7632 nonzero.\n",
      "(1177,)\n",
      "288\n",
      "slumlordreach_bert-base-uncased_syntactic_distance_T-10_D-bck.npy\n",
      "slumlordreach_bert-base-uncased_syntactic_distance_T-10_D-fwd.npy\n",
      "slumlordreach_bert-base-uncased_syntactic_distance_T-10_D-concat.npy\n",
      "=======\n",
      "\tFound 3713/3744 and 3744/3744 nonzero.\n",
      "(534,)\n",
      "288\n",
      "black_bert-base-uncased_syntactic_complexity_L-inf_T-10_D-bck.npy\n",
      "black_bert-base-uncased_syntactic_complexity_L-inf_T-10_D-fwd.npy\n",
      "black_bert-base-uncased_syntactic_complexity_L-inf_T-10_D-concat.npy\n",
      "=======\n",
      "\tFound 9325/9360 and 9360/9360 nonzero.\n",
      "(1177,)\n",
      "288\n",
      "slumlordreach_bert-base-uncased_syntactic_complexity_L-1_T-128_D-bck.npy\n",
      "slumlordreach_bert-base-uncased_syntactic_complexity_L-1_T-128_D-fwd.npy\n",
      "slumlordreach_bert-base-uncased_syntactic_complexity_L-1_T-128_D-concat.npy\n",
      "=======\n",
      "\tFound 6739/6768 and 6768/6768 nonzero.\n",
      "(1177,)\n",
      "288\n",
      "slumlordreach_bert-base-uncased_syntactic_complexity_L-1_T-10_D-bck.npy\n",
      "slumlordreach_bert-base-uncased_syntactic_complexity_L-1_T-10_D-fwd.npy\n",
      "slumlordreach_bert-base-uncased_syntactic_complexity_L-1_T-10_D-concat.npy\n",
      "=======\n",
      "\tFound 3738/3744 and 3744/3744 nonzero.\n",
      "(534,)\n",
      "288\n",
      "black_bert-base-uncased_syntactic_distance_T-20_D-bck.npy\n",
      "black_bert-base-uncased_syntactic_distance_T-20_D-fwd.npy\n",
      "black_bert-base-uncased_syntactic_distance_T-20_D-concat.npy\n",
      "=======\n",
      "\tFound 3725/3744 and 3744/3744 nonzero.\n",
      "(534,)\n",
      "288\n",
      "black_bert-base-uncased_syntactic_complexity_L-1_T-20_D-bck.npy\n",
      "black_bert-base-uncased_syntactic_complexity_L-1_T-20_D-fwd.npy\n",
      "black_bert-base-uncased_syntactic_complexity_L-1_T-20_D-concat.npy\n",
      "=======\n",
      "\tFound 8920/8928 and 8928/8928 nonzero.\n",
      "(1177,)\n",
      "288\n",
      "slumlordreach_bert-base-uncased_syntactic_distance_T-128_D-bck.npy\n",
      "slumlordreach_bert-base-uncased_syntactic_distance_T-128_D-fwd.npy\n",
      "slumlordreach_bert-base-uncased_syntactic_distance_T-128_D-concat.npy\n",
      "=======\n",
      "\tFound 2870/2880 and 2880/2880 nonzero.\n",
      "(534,)\n",
      "288\n",
      "black_bert-base-uncased_syntactic_distance_T-10_D-bck.npy\n",
      "black_bert-base-uncased_syntactic_distance_T-10_D-fwd.npy\n",
      "black_bert-base-uncased_syntactic_distance_T-10_D-concat.npy\n",
      "=======\n",
      "\tFound 3289/3312 and 3312/3312 nonzero.\n",
      "(534,)\n",
      "288\n",
      "black_bert-base-uncased_syntactic_complexity_L-1_T-10_D-bck.npy\n",
      "black_bert-base-uncased_syntactic_complexity_L-1_T-10_D-fwd.npy\n",
      "black_bert-base-uncased_syntactic_complexity_L-1_T-10_D-concat.npy\n",
      "=======\n",
      "\tFound 10587/10656 and 10656/10656 nonzero.\n",
      "(1177,)\n",
      "288\n",
      "slumlordreach_bert-base-uncased_syntactic_complexity_L-inf_T-10_D-bck.npy\n",
      "slumlordreach_bert-base-uncased_syntactic_complexity_L-inf_T-10_D-fwd.npy\n",
      "slumlordreach_bert-base-uncased_syntactic_complexity_L-inf_T-10_D-concat.npy\n",
      "=======\n",
      "\tFound 7473/7488 and 7488/7488 nonzero.\n",
      "(1177,)\n",
      "288\n",
      "slumlordreach_bert-base-uncased_syntactic_complexity_L-1_T-20_D-bck.npy\n",
      "slumlordreach_bert-base-uncased_syntactic_complexity_L-1_T-20_D-fwd.npy\n",
      "slumlordreach_bert-base-uncased_syntactic_complexity_L-1_T-20_D-concat.npy\n",
      "=======\n",
      "\tFound 3864/3888 and 3888/3888 nonzero.\n",
      "(534,)\n",
      "288\n",
      "black_bert-base-uncased_syntactic_complexity_L-1_T-128_D-bck.npy\n",
      "black_bert-base-uncased_syntactic_complexity_L-1_T-128_D-fwd.npy\n",
      "black_bert-base-uncased_syntactic_complexity_L-1_T-128_D-concat.npy\n",
      "=======\n",
      "\tFound 8484/8496 and 8496/8496 nonzero.\n",
      "(1177,)\n",
      "288\n",
      "slumlordreach_bert-base-uncased_syntactic_distance_T-20_D-bck.npy\n",
      "slumlordreach_bert-base-uncased_syntactic_distance_T-20_D-fwd.npy\n",
      "slumlordreach_bert-base-uncased_syntactic_distance_T-20_D-concat.npy\n",
      "=======\n",
      "\tFound 3737/3744 and 3744/3744 nonzero.\n",
      "(534,)\n",
      "288\n",
      "black_bert-base-uncased_syntactic_distance_T-128_D-bck.npy\n",
      "black_bert-base-uncased_syntactic_distance_T-128_D-fwd.npy\n",
      "black_bert-base-uncased_syntactic_distance_T-128_D-concat.npy\n",
      "=======\n"
     ]
    }
   ],
   "source": [
    "import glob\n",
    "\n",
    "backwards_metrics = [f for f in glob.glob(\"*.npy\") if 'bck' in f]\n",
    "\n",
    "for backwards_file in backwards_metrics:\n",
    "    \n",
    "    bck = np.load(backwards_file, allow_pickle=True)\n",
    "    forward_file = backwards_file.replace(\"bck\", \"fwd\")\n",
    "    fwd = np.load(forward_file, allow_pickle=True)\n",
    "    \n",
    "    concat = concatenate_fwd_bck_arrays(fwd, bck)\n",
    "    concat_file = backwards_file.replace(\"bck\", \"concat\")\n",
    "    \n",
    "    np.save(concat_file, concat)\n",
    "    \n",
    "    print(concat.shape)\n",
    "    print(len(concat[-10]))\n",
    "    print(backwards_file + \"\\n\" + forward_file + \"\\n\" + concat_file + \"\\n=======\")\n",
    "\n",
    "    "
   ]
  },
  {
   "cell_type": "code",
   "execution_count": 160,
   "metadata": {},
   "outputs": [
    {
     "name": "stdout",
     "output_type": "stream",
     "text": [
      "SCP all syntactic representations to PNI:\n",
      "\n",
      "scp black_bert-base-uncased_syntactic_*.npy black_bert-base-uncased_semantic_*.npy tsumers@apps.pni.princeton.edu:/jukebox/griffiths/bert-brains/code/bert-brains/data/black/bert-base-uncased/syntactic_analyses\n"
     ]
    }
   ],
   "source": [
    "STIMULUS='black'\n",
    "\n",
    "ALL_SYNTAX_REPS = \"scp {}_{}_syntactic_*.npy {}_{}_semantic_*.npy tsumers@apps.pni.princeton.edu:/jukebox/griffiths/bert-brains/code/bert-brains/data/{}/{}/syntactic_analyses\"\n",
    "\n",
    "print(\"SCP all syntactic representations to PNI:\\n\")\n",
    "print(ALL_SYNTAX_REPS.format(STIMULUS, MODEL, STIMULUS, MODEL, STIMULUS, MODEL))"
   ]
  },
  {
   "cell_type": "code",
   "execution_count": 161,
   "metadata": {},
   "outputs": [
    {
     "name": "stdout",
     "output_type": "stream",
     "text": [
      "SCP all model layers to PNI:\n",
      "\n",
      "scp black_bert-base-uncased_layer_*_activations.npy tsumers@apps.pni.princeton.edu:/jukebox/griffiths/bert-brains/code/bert-brains/data/black/bert-base-uncased/raw_embeddings\n"
     ]
    }
   ],
   "source": [
    "ALL_LAYER_REPS = \"scp {}_{}_layer_*_activations.npy tsumers@apps.pni.princeton.edu:/jukebox/griffiths/bert-brains/code/bert-brains/data/{}/{}/raw_embeddings\"\n",
    "\n",
    "print(\"SCP all model layers to PNI:\\n\")\n",
    "\n",
    "print(ALL_LAYER_REPS.format(STIMULUS, MODEL, STIMULUS, MODEL))"
   ]
  },
  {
   "cell_type": "markdown",
   "metadata": {},
   "source": [
    "# DEMO: attention distance masking\n",
    "Just in case I want to double check this logic sometime."
   ]
  },
  {
   "cell_type": "code",
   "execution_count": 5,
   "metadata": {},
   "outputs": [
    {
     "data": {
      "text/plain": [
       "array([[0, 1, 2, 3, 4],\n",
       "       [1, 0, 1, 2, 3],\n",
       "       [2, 1, 0, 1, 2],\n",
       "       [3, 2, 1, 0, 1],\n",
       "       [4, 3, 2, 1, 0]])"
      ]
     },
     "execution_count": 5,
     "metadata": {},
     "output_type": "execute_result"
    }
   ],
   "source": [
    "import numpy as np\n",
    "N_TOKENS = 5\n",
    "a = np.array(range(1,N_TOKENS+1))\n",
    "columns = np.tile(a,(N_TOKENS,1))\n",
    "rows = np.tile(a,(N_TOKENS,1)).T\n",
    "abs((rows-columns))"
   ]
  },
  {
   "cell_type": "markdown",
   "metadata": {},
   "source": [
    "# Computing Stimulus Statistics"
   ]
  },
  {
   "cell_type": "code",
   "execution_count": 19,
   "metadata": {},
   "outputs": [
    {
     "name": "stdout",
     "output_type": "stream",
     "text": [
      "\n",
      "slumlordreach_bert-base-uncased_syntactic_complexity_L-1_T-128_D-concat.npy\n",
      "=======\n"
     ]
    },
    {
     "data": {
      "image/png": "[encoded data removed]",
      "text/plain": [
       "<Figure size 432x288 with 1 Axes>"
      ]
     },
     "metadata": {
      "needs_background": "light"
     },
     "output_type": "display_data"
    },
    {
     "name": "stdout",
     "output_type": "stream",
     "text": [
      "\n",
      "black_bert-base-uncased_syntactic_complexity_L-1_T-10_D-concat.npy\n",
      "=======\n"
     ]
    },
    {
     "data": {
      "image/png": "[encoded data removed]",
      "text/plain": [
       "<Figure size 432x288 with 1 Axes>"
      ]
     },
     "metadata": {
      "needs_background": "light"
     },
     "output_type": "display_data"
    },
    {
     "name": "stdout",
     "output_type": "stream",
     "text": [
      "\n",
      "black_bert-base-uncased_syntactic_complexity_L-1_T-128_D-concat.npy\n",
      "=======\n"
     ]
    },
    {
     "data": {
      "image/png": "[encoded data removed]",
      "text/plain": [
       "<Figure size 432x288 with 1 Axes>"
      ]
     },
     "metadata": {
      "needs_background": "light"
     },
     "output_type": "display_data"
    },
    {
     "name": "stdout",
     "output_type": "stream",
     "text": [
      "\n",
      "slumlordreach_bert-base-uncased_syntactic_distance_T-10_D-concat.npy\n",
      "=======\n"
     ]
    },
    {
     "data": {
      "image/png": "[encoded data removed]",
      "text/plain": [
       "<Figure size 432x288 with 1 Axes>"
      ]
     },
     "metadata": {
      "needs_background": "light"
     },
     "output_type": "display_data"
    },
    {
     "name": "stdout",
     "output_type": "stream",
     "text": [
      "\n",
      "black_bert-base-uncased_syntactic_distance_T-128_D-concat.npy\n",
      "=======\n"
     ]
    },
    {
     "data": {
      "image/png": "[encoded data removed]",
      "text/plain": [
       "<Figure size 432x288 with 1 Axes>"
      ]
     },
     "metadata": {
      "needs_background": "light"
     },
     "output_type": "display_data"
    },
    {
     "name": "stdout",
     "output_type": "stream",
     "text": [
      "\n",
      "slumlordreach_bert-base-uncased_syntactic_distance_T-128_D-concat.npy\n",
      "=======\n"
     ]
    },
    {
     "data": {
      "image/png": "[encoded data removed]",
      "text/plain": [
       "<Figure size 432x288 with 1 Axes>"
      ]
     },
     "metadata": {
      "needs_background": "light"
     },
     "output_type": "display_data"
    },
    {
     "name": "stdout",
     "output_type": "stream",
     "text": [
      "\n",
      "black_bert-base-uncased_syntactic_complexity_L-inf_T-10_D-concat.npy\n",
      "=======\n"
     ]
    },
    {
     "data": {
      "image/png": "[encoded data removed]",
      "text/plain": [
       "<Figure size 432x288 with 1 Axes>"
      ]
     },
     "metadata": {
      "needs_background": "light"
     },
     "output_type": "display_data"
    },
    {
     "name": "stdout",
     "output_type": "stream",
     "text": [
      "\n",
      "slumlordreach_bert-base-uncased_syntactic_complexity_L-1_T-10_D-concat.npy\n",
      "=======\n"
     ]
    },
    {
     "data": {
      "image/png": "[encoded data removed]",
      "text/plain": [
       "<Figure size 432x288 with 1 Axes>"
      ]
     },
     "metadata": {
      "needs_background": "light"
     },
     "output_type": "display_data"
    },
    {
     "name": "stdout",
     "output_type": "stream",
     "text": [
      "\n",
      "slumlordreach_bert-base-uncased_syntactic_complexity_L-inf_T-10_D-concat.npy\n",
      "=======\n"
     ]
    },
    {
     "data": {
      "image/png": "[encoded data removed]",
      "text/plain": [
       "<Figure size 432x288 with 1 Axes>"
      ]
     },
     "metadata": {
      "needs_background": "light"
     },
     "output_type": "display_data"
    },
    {
     "name": "stdout",
     "output_type": "stream",
     "text": [
      "\n",
      "black_bert-base-uncased_syntactic_distance_T-10_D-concat.npy\n",
      "=======\n"
     ]
    },
    {
     "data": {
      "image/png": "[encoded data removed]",
      "text/plain": [
       "<Figure size 432x288 with 1 Axes>"
      ]
     },
     "metadata": {
      "needs_background": "light"
     },
     "output_type": "display_data"
    }
   ],
   "source": [
    "import glob\n",
    "\n",
    "concat_metrics = [f for f in glob.glob(\"*.npy\") if 'concat' in f and '20' not in f]\n",
    "\n",
    "basic_stats = []\n",
    "\n",
    "for concat_file in concat_metrics:\n",
    "    \n",
    "    concat = np.load(concat_file, allow_pickle=True)\n",
    "\n",
    "    non_null = [c for c in concat if c is not None]\n",
    "    \n",
    "    magnitudes = [np.linalg.norm(x) for x in non_null]\n",
    "    variance = np.var(magnitudes)\n",
    "    basic_stats.append((concat_file, variance))\n",
    "    \n",
    "    stacked = np.stack(non_null)\n",
    "    per_head_var = np.var(stacked, axis=0)\n",
    "    \n",
    "    print(\"\\n\"+concat_file + \"\\n=======\")   \n",
    "    plt.hist(per_head_var.clip(0, 10))\n",
    "    \n",
    "#     plt.plot(magnitudes)\n",
    "    plt.suptitle(concat_file)\n",
    "    plt.show()"
   ]
  },
  {
   "cell_type": "markdown",
   "metadata": {},
   "source": [
    "## Semantic Composition analysis"
   ]
  },
  {
   "cell_type": "code",
   "execution_count": 83,
   "metadata": {},
   "outputs": [
    {
     "name": "stdout",
     "output_type": "stream",
     "text": [
      "black_bert-base-uncased_semantic_composition_0-TRs.npy:\n",
      "\t(534, 1) numpy array.\n",
      "\t534 non-null entries, each of length 26.\n",
      "\tVariance of stimulus: 4.635718113608257.\n"
     ]
    },
    {
     "data": {
      "image/png": "[encoded data removed]",
      "text/plain": [
       "<Figure size 432x288 with 1 Axes>"
      ]
     },
     "metadata": {
      "needs_background": "light"
     },
     "output_type": "display_data"
    },
    {
     "name": "stdout",
     "output_type": "stream",
     "text": [
      "black_bert-base-uncased_semantic_composition_1-TRs.npy:\n",
      "\t(534, 1) numpy array.\n",
      "\t534 non-null entries, each of length 26.\n",
      "\tVariance of stimulus: 3.8284995812554077.\n"
     ]
    },
    {
     "data": {
      "image/png": "[encoded data removed]",
      "text/plain": [
       "<Figure size 432x288 with 1 Axes>"
      ]
     },
     "metadata": {
      "needs_background": "light"
     },
     "output_type": "display_data"
    },
    {
     "name": "stdout",
     "output_type": "stream",
     "text": [
      "black_bert-base-uncased_semantic_composition_2-TRs.npy:\n",
      "\t(534, 1) numpy array.\n",
      "\t534 non-null entries, each of length 26.\n",
      "\tVariance of stimulus: 3.395289368807639.\n"
     ]
    },
    {
     "data": {
      "image/png": "[encoded data removed]",
      "text/plain": [
       "<Figure size 432x288 with 1 Axes>"
      ]
     },
     "metadata": {
      "needs_background": "light"
     },
     "output_type": "display_data"
    },
    {
     "name": "stdout",
     "output_type": "stream",
     "text": [
      "black_bert-base-uncased_semantic_composition_3-TRs.npy:\n",
      "\t(534, 1) numpy array.\n",
      "\t534 non-null entries, each of length 26.\n",
      "\tVariance of stimulus: 3.046315859172982.\n"
     ]
    },
    {
     "data": {
      "image/png": "[encoded data removed]",
      "text/plain": [
       "<Figure size 432x288 with 1 Axes>"
      ]
     },
     "metadata": {
      "needs_background": "light"
     },
     "output_type": "display_data"
    },
    {
     "name": "stdout",
     "output_type": "stream",
     "text": [
      "black_bert-base-uncased_semantic_composition_4-TRs.npy:\n",
      "\t(534, 1) numpy array.\n",
      "\t534 non-null entries, each of length 26.\n",
      "\tVariance of stimulus: 2.700756508433889.\n"
     ]
    },
    {
     "data": {
      "image/png": "[encoded data removed]",
      "text/plain": [
       "<Figure size 432x288 with 1 Axes>"
      ]
     },
     "metadata": {
      "needs_background": "light"
     },
     "output_type": "display_data"
    },
    {
     "name": "stdout",
     "output_type": "stream",
     "text": [
      "black_bert-base-uncased_semantic_composition_5-TRs.npy:\n",
      "\t(534, 1) numpy array.\n",
      "\t534 non-null entries, each of length 26.\n",
      "\tVariance of stimulus: 2.2156486564599236.\n"
     ]
    },
    {
     "data": {
      "image/png": "[encoded data removed]",
      "text/plain": [
       "<Figure size 432x288 with 1 Axes>"
      ]
     },
     "metadata": {
      "needs_background": "light"
     },
     "output_type": "display_data"
    },
    {
     "name": "stdout",
     "output_type": "stream",
     "text": [
      "black_bert-base-uncased_semantic_composition_10-TRs.npy:\n",
      "\t(534, 1) numpy array.\n",
      "\t534 non-null entries, each of length 26.\n",
      "\tVariance of stimulus: 2.0498418203176847.\n"
     ]
    },
    {
     "data": {
      "image/png": "[encoded data removed]",
      "text/plain": [
       "<Figure size 432x288 with 1 Axes>"
      ]
     },
     "metadata": {
      "needs_background": "light"
     },
     "output_type": "display_data"
    },
    {
     "name": "stdout",
     "output_type": "stream",
     "text": [
      "black_bert-base-uncased_semantic_composition_20-TRs.npy:\n",
      "\t(534, 1) numpy array.\n",
      "\t534 non-null entries, each of length 26.\n",
      "\tVariance of stimulus: 1.9677892196408229.\n"
     ]
    },
    {
     "data": {
      "image/png": "[encoded data removed]",
      "text/plain": [
       "<Figure size 432x288 with 1 Axes>"
      ]
     },
     "metadata": {
      "needs_background": "light"
     },
     "output_type": "display_data"
    },
    {
     "name": "stdout",
     "output_type": "stream",
     "text": [
      "black_bert-base-uncased_semantic_composition_120-TRs.npy:\n",
      "\t(534, 1) numpy array.\n",
      "\t534 non-null entries, each of length 26.\n",
      "\tVariance of stimulus: 2.1634533860199383.\n"
     ]
    },
    {
     "data": {
      "image/png": "[encoded data removed]",
      "text/plain": [
       "<Figure size 432x288 with 1 Axes>"
      ]
     },
     "metadata": {
      "needs_background": "light"
     },
     "output_type": "display_data"
    },
    {
     "data": {
      "text/plain": [
       "[<matplotlib.lines.Line2D at 0x12775af10>]"
      ]
     },
     "execution_count": 83,
     "metadata": {},
     "output_type": "execute_result"
    },
    {
     "data": {
      "image/png": "[encoded data removed]",
      "text/plain": [
       "<Figure size 432x288 with 1 Axes>"
      ]
     },
     "metadata": {
      "needs_background": "light"
     },
     "output_type": "display_data"
    }
   ],
   "source": [
    "base_string = \"{}_{}_semantic_composition_{}-TRs.npy\"\n",
    "composition_window_trs = [0, 1, 2, 3, 4, 5, 10, 20, 120]\n",
    "\n",
    "basic_stats = []\n",
    "\n",
    "for window in composition_window_trs:\n",
    "    \n",
    "    composition_file = base_string.format(STIMULUS, MODEL, window)\n",
    "    \n",
    "    composition = np.load(composition_file, allow_pickle=True)\n",
    "    print(\"{}:\\n\\t{} numpy array.\".format(composition_file, composition.shape))\n",
    "    \n",
    "    list_of_lists = [c[0] for c in composition if c is not None]\n",
    "    print(\"\\t{} non-null entries, each of length {}.\".format(len(list_of_lists), len(list_of_lists[0])))\n",
    "        \n",
    "    magnitudes = [np.linalg.norm(x) for x in list_of_lists]\n",
    "    variance = np.var(magnitudes)\n",
    "    print(\"\\tVariance of stimulus: {}.\".format(variance))\n",
    "\n",
    "    basic_stats.append((window, variance, magnitudes))\n",
    "    plt.hist(np.clip(magnitudes, a_min=0, a_max=10))\n",
    "    plt.xlim(0,10)\n",
    "    plt.suptitle(\"{} TRs: Semantic Composition Magnitudes\\n\".format(window))\n",
    "    plt.show()\n",
    "    \n",
    "plt.plot([s[0] for s in basic_stats[:-1]], [s[1] for s in basic_stats[:-1]])\n",
    "# for s in basic_stats:\n",
    "#     print(\"{} TRs: variance {}\".format(s[0], s[1]))"
   ]
  },
  {
   "cell_type": "code",
   "execution_count": 87,
   "metadata": {},
   "outputs": [],
   "source": [
    "basic_stats[0]\n",
    "\n",
    "for s in basic_stats:\n",
    "    foo.stimulus_df[\"semantic_{}\".format(s[0])] = s[2]"
   ]
  },
  {
   "cell_type": "code",
   "execution_count": 92,
   "metadata": {},
   "outputs": [
    {
     "data": {
      "text/html": [
       "<div>\n",
       "<style scoped>\n",
       "    .dataframe tbody tr th:only-of-type {\n",
       "        vertical-align: middle;\n",
       "    }\n",
       "\n",
       "    .dataframe tbody tr th {\n",
       "        vertical-align: top;\n",
       "    }\n",
       "\n",
       "    .dataframe thead th {\n",
       "        text-align: right;\n",
       "    }\n",
       "</style>\n",
       "<table border=\"1\" class=\"dataframe\">\n",
       "  <thead>\n",
       "    <tr style=\"text-align: right;\">\n",
       "      <th></th>\n",
       "      <th>tr</th>\n",
       "      <th>start_ts</th>\n",
       "      <th>end_ts</th>\n",
       "      <th>tr.1</th>\n",
       "      <th>phoneme_vector</th>\n",
       "      <th>n_phonemes</th>\n",
       "      <th>tokens</th>\n",
       "      <th>n_tokens</th>\n",
       "      <th>tr_shift</th>\n",
       "      <th>prev_tr</th>\n",
       "      <th>semantic_0</th>\n",
       "      <th>semantic_1</th>\n",
       "      <th>semantic_2</th>\n",
       "      <th>semantic_3</th>\n",
       "      <th>semantic_4</th>\n",
       "      <th>semantic_5</th>\n",
       "      <th>semantic_10</th>\n",
       "      <th>semantic_20</th>\n",
       "      <th>semantic_120</th>\n",
       "    </tr>\n",
       "  </thead>\n",
       "  <tbody>\n",
       "    <tr>\n",
       "      <th>267</th>\n",
       "      <td>267</td>\n",
       "      <td>NaN</td>\n",
       "      <td>NaN</td>\n",
       "      <td>267</td>\n",
       "      <td>NaN</td>\n",
       "      <td>NaN</td>\n",
       "      <td></td>\n",
       "      <td>0.0</td>\n",
       "      <td>NaN</td>\n",
       "      <td>NaN</td>\n",
       "      <td>10.12098</td>\n",
       "      <td>5.213956</td>\n",
       "      <td>5.473096</td>\n",
       "      <td>6.084009</td>\n",
       "      <td>5.190739</td>\n",
       "      <td>4.730173</td>\n",
       "      <td>4.988689</td>\n",
       "      <td>5.487190</td>\n",
       "      <td>4.454245</td>\n",
       "    </tr>\n",
       "    <tr>\n",
       "      <th>104</th>\n",
       "      <td>104</td>\n",
       "      <td>NaN</td>\n",
       "      <td>NaN</td>\n",
       "      <td>104</td>\n",
       "      <td>NaN</td>\n",
       "      <td>NaN</td>\n",
       "      <td></td>\n",
       "      <td>0.0</td>\n",
       "      <td>NaN</td>\n",
       "      <td>NaN</td>\n",
       "      <td>10.12098</td>\n",
       "      <td>12.125739</td>\n",
       "      <td>4.694726</td>\n",
       "      <td>5.550145</td>\n",
       "      <td>5.242416</td>\n",
       "      <td>5.896296</td>\n",
       "      <td>5.381197</td>\n",
       "      <td>4.976490</td>\n",
       "      <td>5.274033</td>\n",
       "    </tr>\n",
       "    <tr>\n",
       "      <th>210</th>\n",
       "      <td>210</td>\n",
       "      <td>NaN</td>\n",
       "      <td>NaN</td>\n",
       "      <td>210</td>\n",
       "      <td>NaN</td>\n",
       "      <td>NaN</td>\n",
       "      <td></td>\n",
       "      <td>0.0</td>\n",
       "      <td>NaN</td>\n",
       "      <td>NaN</td>\n",
       "      <td>10.12098</td>\n",
       "      <td>5.159545</td>\n",
       "      <td>4.753373</td>\n",
       "      <td>6.495642</td>\n",
       "      <td>6.687881</td>\n",
       "      <td>6.985307</td>\n",
       "      <td>5.887009</td>\n",
       "      <td>6.069081</td>\n",
       "      <td>7.913998</td>\n",
       "    </tr>\n",
       "    <tr>\n",
       "      <th>216</th>\n",
       "      <td>216</td>\n",
       "      <td>NaN</td>\n",
       "      <td>NaN</td>\n",
       "      <td>216</td>\n",
       "      <td>NaN</td>\n",
       "      <td>NaN</td>\n",
       "      <td></td>\n",
       "      <td>0.0</td>\n",
       "      <td>NaN</td>\n",
       "      <td>NaN</td>\n",
       "      <td>10.12098</td>\n",
       "      <td>4.289599</td>\n",
       "      <td>4.268441</td>\n",
       "      <td>4.224968</td>\n",
       "      <td>4.476367</td>\n",
       "      <td>4.363392</td>\n",
       "      <td>4.066923</td>\n",
       "      <td>4.083075</td>\n",
       "      <td>5.868897</td>\n",
       "    </tr>\n",
       "    <tr>\n",
       "      <th>222</th>\n",
       "      <td>222</td>\n",
       "      <td>NaN</td>\n",
       "      <td>NaN</td>\n",
       "      <td>222</td>\n",
       "      <td>NaN</td>\n",
       "      <td>NaN</td>\n",
       "      <td></td>\n",
       "      <td>0.0</td>\n",
       "      <td>NaN</td>\n",
       "      <td>NaN</td>\n",
       "      <td>10.12098</td>\n",
       "      <td>6.392119</td>\n",
       "      <td>6.122932</td>\n",
       "      <td>7.138283</td>\n",
       "      <td>6.700949</td>\n",
       "      <td>7.107169</td>\n",
       "      <td>6.929265</td>\n",
       "      <td>7.076125</td>\n",
       "      <td>6.705675</td>\n",
       "    </tr>\n",
       "    <tr>\n",
       "      <th>223</th>\n",
       "      <td>223</td>\n",
       "      <td>NaN</td>\n",
       "      <td>NaN</td>\n",
       "      <td>223</td>\n",
       "      <td>NaN</td>\n",
       "      <td>NaN</td>\n",
       "      <td></td>\n",
       "      <td>0.0</td>\n",
       "      <td>NaN</td>\n",
       "      <td>NaN</td>\n",
       "      <td>10.12098</td>\n",
       "      <td>12.125739</td>\n",
       "      <td>6.820613</td>\n",
       "      <td>6.377802</td>\n",
       "      <td>7.479111</td>\n",
       "      <td>7.026903</td>\n",
       "      <td>6.984780</td>\n",
       "      <td>7.076125</td>\n",
       "      <td>6.575625</td>\n",
       "    </tr>\n",
       "    <tr>\n",
       "      <th>243</th>\n",
       "      <td>243</td>\n",
       "      <td>NaN</td>\n",
       "      <td>NaN</td>\n",
       "      <td>243</td>\n",
       "      <td>NaN</td>\n",
       "      <td>NaN</td>\n",
       "      <td></td>\n",
       "      <td>0.0</td>\n",
       "      <td>NaN</td>\n",
       "      <td>NaN</td>\n",
       "      <td>10.12098</td>\n",
       "      <td>3.655644</td>\n",
       "      <td>4.741260</td>\n",
       "      <td>4.639576</td>\n",
       "      <td>4.809344</td>\n",
       "      <td>4.823622</td>\n",
       "      <td>5.060467</td>\n",
       "      <td>5.217996</td>\n",
       "      <td>4.374267</td>\n",
       "    </tr>\n",
       "    <tr>\n",
       "      <th>437</th>\n",
       "      <td>437</td>\n",
       "      <td>NaN</td>\n",
       "      <td>NaN</td>\n",
       "      <td>437</td>\n",
       "      <td>NaN</td>\n",
       "      <td>NaN</td>\n",
       "      <td></td>\n",
       "      <td>0.0</td>\n",
       "      <td>NaN</td>\n",
       "      <td>NaN</td>\n",
       "      <td>10.12098</td>\n",
       "      <td>4.042264</td>\n",
       "      <td>3.358754</td>\n",
       "      <td>3.646273</td>\n",
       "      <td>4.755948</td>\n",
       "      <td>3.927987</td>\n",
       "      <td>4.919002</td>\n",
       "      <td>4.583480</td>\n",
       "      <td>4.796582</td>\n",
       "    </tr>\n",
       "    <tr>\n",
       "      <th>265</th>\n",
       "      <td>265</td>\n",
       "      <td>NaN</td>\n",
       "      <td>NaN</td>\n",
       "      <td>265</td>\n",
       "      <td>NaN</td>\n",
       "      <td>NaN</td>\n",
       "      <td></td>\n",
       "      <td>0.0</td>\n",
       "      <td>NaN</td>\n",
       "      <td>NaN</td>\n",
       "      <td>10.12098</td>\n",
       "      <td>6.664588</td>\n",
       "      <td>6.720226</td>\n",
       "      <td>5.907961</td>\n",
       "      <td>6.054752</td>\n",
       "      <td>5.978247</td>\n",
       "      <td>5.668523</td>\n",
       "      <td>6.530249</td>\n",
       "      <td>5.453461</td>\n",
       "    </tr>\n",
       "    <tr>\n",
       "      <th>268</th>\n",
       "      <td>268</td>\n",
       "      <td>NaN</td>\n",
       "      <td>NaN</td>\n",
       "      <td>268</td>\n",
       "      <td>NaN</td>\n",
       "      <td>NaN</td>\n",
       "      <td></td>\n",
       "      <td>0.0</td>\n",
       "      <td>NaN</td>\n",
       "      <td>NaN</td>\n",
       "      <td>10.12098</td>\n",
       "      <td>12.125739</td>\n",
       "      <td>5.473096</td>\n",
       "      <td>5.679229</td>\n",
       "      <td>6.300876</td>\n",
       "      <td>5.235856</td>\n",
       "      <td>5.361681</td>\n",
       "      <td>5.147768</td>\n",
       "      <td>4.661828</td>\n",
       "    </tr>\n",
       "  </tbody>\n",
       "</table>\n",
       "</div>"
      ],
      "text/plain": [
       "      tr  start_ts  end_ts  tr.1 phoneme_vector  n_phonemes tokens  n_tokens  \\\n",
       "267  267       NaN     NaN   267            NaN         NaN              0.0   \n",
       "104  104       NaN     NaN   104            NaN         NaN              0.0   \n",
       "210  210       NaN     NaN   210            NaN         NaN              0.0   \n",
       "216  216       NaN     NaN   216            NaN         NaN              0.0   \n",
       "222  222       NaN     NaN   222            NaN         NaN              0.0   \n",
       "223  223       NaN     NaN   223            NaN         NaN              0.0   \n",
       "243  243       NaN     NaN   243            NaN         NaN              0.0   \n",
       "437  437       NaN     NaN   437            NaN         NaN              0.0   \n",
       "265  265       NaN     NaN   265            NaN         NaN              0.0   \n",
       "268  268       NaN     NaN   268            NaN         NaN              0.0   \n",
       "\n",
       "     tr_shift  prev_tr  semantic_0  semantic_1  semantic_2  semantic_3  \\\n",
       "267       NaN      NaN    10.12098    5.213956    5.473096    6.084009   \n",
       "104       NaN      NaN    10.12098   12.125739    4.694726    5.550145   \n",
       "210       NaN      NaN    10.12098    5.159545    4.753373    6.495642   \n",
       "216       NaN      NaN    10.12098    4.289599    4.268441    4.224968   \n",
       "222       NaN      NaN    10.12098    6.392119    6.122932    7.138283   \n",
       "223       NaN      NaN    10.12098   12.125739    6.820613    6.377802   \n",
       "243       NaN      NaN    10.12098    3.655644    4.741260    4.639576   \n",
       "437       NaN      NaN    10.12098    4.042264    3.358754    3.646273   \n",
       "265       NaN      NaN    10.12098    6.664588    6.720226    5.907961   \n",
       "268       NaN      NaN    10.12098   12.125739    5.473096    5.679229   \n",
       "\n",
       "     semantic_4  semantic_5  semantic_10  semantic_20  semantic_120  \n",
       "267    5.190739    4.730173     4.988689     5.487190      4.454245  \n",
       "104    5.242416    5.896296     5.381197     4.976490      5.274033  \n",
       "210    6.687881    6.985307     5.887009     6.069081      7.913998  \n",
       "216    4.476367    4.363392     4.066923     4.083075      5.868897  \n",
       "222    6.700949    7.107169     6.929265     7.076125      6.705675  \n",
       "223    7.479111    7.026903     6.984780     7.076125      6.575625  \n",
       "243    4.809344    4.823622     5.060467     5.217996      4.374267  \n",
       "437    4.755948    3.927987     4.919002     4.583480      4.796582  \n",
       "265    6.054752    5.978247     5.668523     6.530249      5.453461  \n",
       "268    6.300876    5.235856     5.361681     5.147768      4.661828  "
      ]
     },
     "execution_count": 92,
     "metadata": {},
     "output_type": "execute_result"
    }
   ],
   "source": [
    "# All of the 10-magnitude semantic-0 windows are empty TRs\n",
    "foo.stimulus_df.sort_values(\"semantic_0\", ascending=False).head(10)"
   ]
  },
  {
   "cell_type": "code",
   "execution_count": 95,
   "metadata": {},
   "outputs": [
    {
     "data": {
      "text/html": [
       "<div>\n",
       "<style scoped>\n",
       "    .dataframe tbody tr th:only-of-type {\n",
       "        vertical-align: middle;\n",
       "    }\n",
       "\n",
       "    .dataframe tbody tr th {\n",
       "        vertical-align: top;\n",
       "    }\n",
       "\n",
       "    .dataframe thead th {\n",
       "        text-align: right;\n",
       "    }\n",
       "</style>\n",
       "<table border=\"1\" class=\"dataframe\">\n",
       "  <thead>\n",
       "    <tr style=\"text-align: right;\">\n",
       "      <th></th>\n",
       "      <th>tr</th>\n",
       "      <th>tokens</th>\n",
       "      <th>semantic_0</th>\n",
       "      <th>semantic_1</th>\n",
       "      <th>semantic_2</th>\n",
       "      <th>semantic_4</th>\n",
       "      <th>semantic_5</th>\n",
       "    </tr>\n",
       "  </thead>\n",
       "  <tbody>\n",
       "    <tr>\n",
       "      <th>288</th>\n",
       "      <td>288</td>\n",
       "      <td></td>\n",
       "      <td>10.120980</td>\n",
       "      <td>12.125739</td>\n",
       "      <td>13.413522</td>\n",
       "      <td>15.059643</td>\n",
       "      <td>6.431725</td>\n",
       "    </tr>\n",
       "    <tr>\n",
       "      <th>108</th>\n",
       "      <td>108</td>\n",
       "      <td></td>\n",
       "      <td>10.120980</td>\n",
       "      <td>12.125739</td>\n",
       "      <td>13.413522</td>\n",
       "      <td>15.059643</td>\n",
       "      <td>9.004570</td>\n",
       "    </tr>\n",
       "    <tr>\n",
       "      <th>107</th>\n",
       "      <td>107</td>\n",
       "      <td></td>\n",
       "      <td>10.120980</td>\n",
       "      <td>12.125739</td>\n",
       "      <td>13.413522</td>\n",
       "      <td>15.059643</td>\n",
       "      <td>5.787079</td>\n",
       "    </tr>\n",
       "    <tr>\n",
       "      <th>197</th>\n",
       "      <td>197</td>\n",
       "      <td>And</td>\n",
       "      <td>4.139816</td>\n",
       "      <td>8.301531</td>\n",
       "      <td>10.230412</td>\n",
       "      <td>10.536220</td>\n",
       "      <td>11.502589</td>\n",
       "    </tr>\n",
       "    <tr>\n",
       "      <th>13</th>\n",
       "      <td>13</td>\n",
       "      <td>and</td>\n",
       "      <td>4.139816</td>\n",
       "      <td>5.632765</td>\n",
       "      <td>9.306528</td>\n",
       "      <td>10.483329</td>\n",
       "      <td>10.715409</td>\n",
       "    </tr>\n",
       "    <tr>\n",
       "      <th>140</th>\n",
       "      <td>140</td>\n",
       "      <td>as it turns out he</td>\n",
       "      <td>7.123513</td>\n",
       "      <td>7.826175</td>\n",
       "      <td>8.768817</td>\n",
       "      <td>9.150739</td>\n",
       "      <td>9.212953</td>\n",
       "    </tr>\n",
       "    <tr>\n",
       "      <th>299</th>\n",
       "      <td>299</td>\n",
       "      <td>recipes</td>\n",
       "      <td>5.397846</td>\n",
       "      <td>9.767514</td>\n",
       "      <td>9.870115</td>\n",
       "      <td>9.124095</td>\n",
       "      <td>8.804240</td>\n",
       "    </tr>\n",
       "    <tr>\n",
       "      <th>46</th>\n",
       "      <td>46</td>\n",
       "      <td>Missouri</td>\n",
       "      <td>7.400371</td>\n",
       "      <td>6.293546</td>\n",
       "      <td>7.659658</td>\n",
       "      <td>8.939651</td>\n",
       "      <td>9.050249</td>\n",
       "    </tr>\n",
       "    <tr>\n",
       "      <th>110</th>\n",
       "      <td>110</td>\n",
       "      <td>mind</td>\n",
       "      <td>4.934963</td>\n",
       "      <td>7.972274</td>\n",
       "      <td>8.236488</td>\n",
       "      <td>8.620571</td>\n",
       "      <td>8.769292</td>\n",
       "    </tr>\n",
       "    <tr>\n",
       "      <th>70</th>\n",
       "      <td>70</td>\n",
       "      <td>album</td>\n",
       "      <td>5.886784</td>\n",
       "      <td>7.823436</td>\n",
       "      <td>7.692533</td>\n",
       "      <td>8.461176</td>\n",
       "      <td>9.134628</td>\n",
       "    </tr>\n",
       "  </tbody>\n",
       "</table>\n",
       "</div>"
      ],
      "text/plain": [
       "      tr              tokens  semantic_0  semantic_1  semantic_2  semantic_4  \\\n",
       "288  288                       10.120980   12.125739   13.413522   15.059643   \n",
       "108  108                       10.120980   12.125739   13.413522   15.059643   \n",
       "107  107                       10.120980   12.125739   13.413522   15.059643   \n",
       "197  197                 And    4.139816    8.301531   10.230412   10.536220   \n",
       "13    13                 and    4.139816    5.632765    9.306528   10.483329   \n",
       "140  140  as it turns out he    7.123513    7.826175    8.768817    9.150739   \n",
       "299  299             recipes    5.397846    9.767514    9.870115    9.124095   \n",
       "46    46            Missouri    7.400371    6.293546    7.659658    8.939651   \n",
       "110  110                mind    4.934963    7.972274    8.236488    8.620571   \n",
       "70    70               album    5.886784    7.823436    7.692533    8.461176   \n",
       "\n",
       "     semantic_5  \n",
       "288    6.431725  \n",
       "108    9.004570  \n",
       "107    5.787079  \n",
       "197   11.502589  \n",
       "13    10.715409  \n",
       "140    9.212953  \n",
       "299    8.804240  \n",
       "46     9.050249  \n",
       "110    8.769292  \n",
       "70     9.134628  "
      ]
     },
     "execution_count": 95,
     "metadata": {},
     "output_type": "execute_result"
    }
   ],
   "source": [
    "# All of the 12-magnitude semantic-0 windows are empty TRs\n",
    "foo.stimulus_df.sort_values(\"semantic_4\", ascending=False).head(10)[[\"tr\", \"tokens\", \"semantic_0\", \"semantic_1\", \"semantic_2\", \"semantic_4\", \"semantic_5\"]]"
   ]
  },
  {
   "cell_type": "code",
   "execution_count": 81,
   "metadata": {},
   "outputs": [
    {
     "name": "stdout",
     "output_type": "stream",
     "text": [
      "black_bert-base-uncased_semantic_composition_0-TRs.npy:\n",
      "\t(534, 1) numpy array.\n",
      "\t534 non-null entries, each of length 26.\n",
      "[0.99812734 0.99812734 0.99812734 0.99812734 0.99812734 0.99812734\n",
      " 0.99812734 0.99812734 0.99812734 0.99812734 0.99812734 0.99812734\n",
      " 0.99812734 0.99812734 0.99812734 0.99812734 0.99812734 0.99812734\n",
      " 0.99812734 0.99812734 0.99812734 0.99812734 0.99812734 0.99812734\n",
      " 0.99812734 0.99812734]\n",
      "black_bert-base-uncased_semantic_composition_1-TRs.npy:\n",
      "\t(534, 1) numpy array.\n",
      "\t534 non-null entries, each of length 26.\n",
      "[0.99812734 0.99812734 0.99812734 0.99812734 0.99812734 0.99812734\n",
      " 0.99812734 0.99812734 0.99812734 0.99812734 0.99812734 0.99812734\n",
      " 0.99812734 0.99812734 0.99812734 0.99812734 0.99812734 0.99812734\n",
      " 0.99812734 0.99812734 0.99812734 0.99812734 0.99812734 0.99812734\n",
      " 0.99812734 0.99812734]\n"
     ]
    },
    {
     "data": {
      "image/png": "[encoded data removed]",
      "text/plain": [
       "<Figure size 432x288 with 1 Axes>"
      ]
     },
     "metadata": {
      "needs_background": "light"
     },
     "output_type": "display_data"
    }
   ],
   "source": [
    "base_string = \"{}_{}_semantic_composition_{}-TRs.npy\"\n",
    "composition_window_trs = [0, 1,]# 2, 3, 4, 5, 10, 20, 120]\n",
    "\n",
    "basic_stats = []\n",
    "\n",
    "for window in composition_window_trs:\n",
    "    \n",
    "    composition_file = base_string.format(STIMULUS, MODEL, window)\n",
    "    \n",
    "    composition = np.load(composition_file, allow_pickle=True)\n",
    "    print(\"{}:\\n\\t{} numpy array.\".format(composition_file, composition.shape))\n",
    "    \n",
    "    list_of_lists = [c[0] for c in composition if c is not None]\n",
    "    print(\"\\t{} non-null entries, each of length {}.\".format(len(list_of_lists), len(list_of_lists[0])))\n",
    "    \n",
    "    # Concat into an actual NP array\n",
    "    arr = np.array(list_of_lists)\n",
    "    # Get variance for each location in array (so this will be a 26-width vector measuring variance)\n",
    "    variance = np.var(arr, axis=0)\n",
    "\n",
    "    print(variance)\n",
    "    plt.plot(variance)\n",
    "#     magnitudes = [np.linalg.norm(x) for x in list_of_lists]\n",
    "#     print(\"\\tVariance of stimulus: {}.\".format(variance))\n",
    "\n",
    "#     basic_stats.append((window, variance))\n",
    "#     plt.hist(np.clip(magnitudes, a_min=0, a_max=10))\n",
    "#     plt.xlim(0,10)\n",
    "#     plt.suptitle(\"{} TRs: Semantic Composition Magnitudes\\n\".format(window))\n",
    "#     plt.show()\n",
    "    \n",
    "    \n",
    "# plt.plot([s[0] for s in basic_stats[:-1]], [s[1] for s in basic_stats[:-1]])\n",
    "# for s in basic_stats:\n",
    "#     print(\"{} TRs: variance {}\".format(s[0], s[1]))"
   ]
  },
  {
   "cell_type": "code",
   "execution_count": null,
   "metadata": {},
   "outputs": [],
   "source": []
  }
 ],
 "metadata": {
  "finalized": {
   "timestamp": 1601859815170,
   "trusted": true
  },
  "kernelspec": {
   "display_name": "Python 3",
   "language": "python",
   "name": "python3"
  },
  "language_info": {
   "codemirror_mode": {
    "name": "ipython",
    "version": 3
   },
   "file_extension": ".py",
   "mimetype": "text/x-python",
   "name": "python",
   "nbconvert_exporter": "python",
   "pygments_lexer": "ipython3",
   "version": "3.8.5"
  }
 },
 "nbformat": 4,
 "nbformat_minor": 4
}
