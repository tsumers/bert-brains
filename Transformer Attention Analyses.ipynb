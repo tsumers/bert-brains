{
 "cells": [
  {
   "cell_type": "code",
   "execution_count": 16,
   "metadata": {},
   "outputs": [
    {
     "name": "stdout",
     "output_type": "stream",
     "text": [
      "The autoreload extension is already loaded. To reload it, use:\n",
      "  %reload_ext autoreload\n",
      "Looking for TR-aligned tokens in data/stimuli/slumlordreach/tr_tokens.csv\n",
      "Loaded 1177 TRs.\n"
     ]
    },
    {
     "name": "stderr",
     "output_type": "stream",
     "text": [
      "Some weights of the model checkpoint at bert-large-uncased were not used when initializing BertModel: ['cls.predictions.decoder.weight', 'cls.predictions.transform.LayerNorm.bias', 'cls.predictions.bias', 'cls.predictions.transform.dense.weight', 'cls.seq_relationship.bias', 'cls.predictions.transform.LayerNorm.weight', 'cls.predictions.transform.dense.bias', 'cls.seq_relationship.weight']\n",
      "- This IS expected if you are initializing BertModel from the checkpoint of a model trained on another task or with another architecture (e.g. initializing a BertForSequenceClassification model from a BertForPreTraining model).\n",
      "- This IS NOT expected if you are initializing BertModel from the checkpoint of a model that you expect to be exactly identical (initializing a BertForSequenceClassification model from a BertForSequenceClassification model).\n"
     ]
    }
   ],
   "source": [
    "# Ensure that we re-load changes automagically\n",
    "%load_ext autoreload\n",
    "%autoreload 2\n",
    "\n",
    "import numpy as np\n",
    "import pandas as pd\n",
    "import seaborn as sns\n",
    "import matplotlib.pylab as plt\n",
    "\n",
    "from transformer_utils import TransformerRSM\n",
    "\n",
    "STIMULUS = \"slumlordreach\" # 21st_year, pieman, slumlordreach, black\n",
    "MODEL = 'bert-large-uncased' # bert-base-uncased, bert-large-uncased || GPT: gpt2, gpt2-xl, gpt-neo-2.7B\n",
    "\n",
    "foo = TransformerRSM(STIMULUS, model_name=MODEL, verbose=False)"
   ]
  },
  {
   "cell_type": "markdown",
   "metadata": {},
   "source": [
    "# Layerwise Activations"
   ]
  },
  {
   "cell_type": "code",
   "execution_count": null,
   "metadata": {},
   "outputs": [],
   "source": [
    "foo.process_stimulus_activations()"
   ]
  },
  {
   "cell_type": "code",
   "execution_count": null,
   "metadata": {},
   "outputs": [],
   "source": [
    "foo.model_name"
   ]
  },
  {
   "cell_type": "code",
   "execution_count": null,
   "metadata": {},
   "outputs": [],
   "source": [
    "SAVE_QKV_VECTORS = False\n",
    "\n",
    "for layer in range(0, 12):\n",
    "\n",
    "    layer_activations = foo.layer_activations_from_tensor(foo.stimulus_df[\"activations\"], layer)\n",
    "    layer_mean_embeddings = np.array([l.mean(0).numpy() for l in layer_activations])\n",
    "    np.save(\"{}_{}_layer_{}_activations.npy\".format(STIMULUS, MODEL, layer), layer_mean_embeddings)\n",
    "    \n",
    "    print(layer_mean_embeddings.shape)\n",
    "    \n",
    "    layer_z_reps = foo.layer_activations_from_tensor(foo.stimulus_df[\"z_reps\"], layer)\n",
    "    layer_mean_z_reps = np.array([l.mean(0).numpy() for l in layer_z_reps])\n",
    "    np.save(\"{}_{}_layer_{}_z_representations.npy\".format(STIMULUS, MODEL, layer), layer_mean_z_reps)\n",
    "    \n",
    "    print(layer_mean_z_reps.shape)\n",
    "\n",
    "    if SAVE_QKV_VECTORS: \n",
    "        for representation in [\"query\", \"key\", \"value\"]:\n",
    "            all_reps = foo.layer_activations_from_tensor(foo.stimulus_df[\"query\"], layer)\n",
    "            mean_rep = np.array([l.mean(0).numpy() for l in all_reps])\n",
    "            np.save(\"{}_{}_layer_{}_{}.npy\".format(STIMULUS, MODEL, layer, representation), mean_rep)\n",
    "            print(\"Processed {} layer {} --> {}.\".format(representation, layer, mean_rep.shape))\n",
    "\n",
    "layer_glove = foo.layer_activations_from_tensor(foo.stimulus_df[\"glove\"], 0)\n",
    "np.save(\"{}_{}_layer_{}_glove.npy\".format(STIMULUS, MODEL, 0), layer_glove)\n",
    "#     df[\"layer_{}\".format(layer)] = layer_mean_embeddings"
   ]
  },
  {
   "cell_type": "code",
   "execution_count": null,
   "metadata": {},
   "outputs": [],
   "source": [
    "ALL_LAYER_REPS = \"scp {}_{}_layer_*_activations.npy {}_{}_layer_*_z_representations.npy tsumers@apps.pni.princeton.edu:/jukebox/griffiths/bert-brains/code/bert-brains/data/{}/{}/raw_embeddings\"\n",
    "\n",
    "print(\"SCP all model layers and z-reps to PNI:\\n\")\n",
    "\n",
    "print(ALL_LAYER_REPS.format(STIMULUS, MODEL, STIMULUS, MODEL))"
   ]
  },
  {
   "cell_type": "markdown",
   "metadata": {},
   "source": [
    "# Attention Vectors\n",
    "Important question: how many prior tokens should we take for attention metric context?"
   ]
  },
  {
   "cell_type": "code",
   "execution_count": null,
   "metadata": {},
   "outputs": [],
   "source": [
    "print(foo.stimulus_df.n_transformer_tokens_in_tr.describe())\n",
    "foo.stimulus_df.n_transformer_tokens_in_tr.hist(bins=20);\n",
    "plt.suptitle(\"Number of Transformer Tokens per TR\")\n",
    "plt.xlabel(\"Number of Tokens\");"
   ]
  },
  {
   "cell_type": "code",
   "execution_count": null,
   "metadata": {},
   "outputs": [],
   "source": [
    "# Median number of tokens per TR is 5; 75th percentile is 7.\n",
    "# Assuming we're using about 30 seconds of prior context, that's 20 TRs, so we should take 100-140 context tokens. (yikes-- we've been doing 20!)\n",
    "\n",
    "N_ATTENTION_TOKENS = 10 # 20, 128"
   ]
  },
  {
   "cell_type": "code",
   "execution_count": null,
   "metadata": {},
   "outputs": [],
   "source": [
    "foo.verbose = False\n",
    "foo.process_stimulus_attentions(num_window_tokens=N_ATTENTION_TOKENS)"
   ]
  },
  {
   "cell_type": "code",
   "execution_count": null,
   "metadata": {},
   "outputs": [],
   "source": [
    "print(\"Successfully produced attention maps for {} of {} TRs.\".format( \n",
    "    len(foo.stimulus_df[~foo.stimulus_df.attentions.isnull()]), len(foo.stimulus_df)))"
   ]
  },
  {
   "cell_type": "code",
   "execution_count": null,
   "metadata": {},
   "outputs": [],
   "source": [
    "has_attentions = foo.stimulus_df[foo.stimulus_df.attentions.isnull()]\n",
    "failed_attentions = foo.stimulus_df[~foo.stimulus_df.attentions.isnull()]"
   ]
  },
  {
   "cell_type": "markdown",
   "metadata": {},
   "source": [
    "# Masking Attention\n",
    "\n",
    "All of the below analyses can / should be run with various parameter settings.\n",
    "\n",
    "They run much faster than the original activation / attention code and do various masking and summarization procedures on the raw data."
   ]
  },
  {
   "cell_type": "code",
   "execution_count": null,
   "metadata": {},
   "outputs": [],
   "source": [
    "BACKWARD_ATTENTION = False\n",
    "\n",
    "if BACKWARD_ATTENTION:\n",
    "    ATTENTION_DIRECTION = \"bck\"\n",
    "else:\n",
    "    ATTENTION_DIRECTION = \"fwd\""
   ]
  },
  {
   "cell_type": "code",
   "execution_count": null,
   "metadata": {},
   "outputs": [],
   "source": [
    "foo.mask_non_tr_attentions(include_forwards=not BACKWARD_ATTENTION, \n",
    "                           include_backwards=BACKWARD_ATTENTION)"
   ]
  },
  {
   "cell_type": "code",
   "execution_count": 104,
   "metadata": {},
   "outputs": [],
   "source": [
    "foo.compute_attention_head_magnitudes(p=1)\n",
    "foo.compute_attention_head_magnitudes(p='inf')"
   ]
  },
  {
   "cell_type": "code",
   "execution_count": 105,
   "metadata": {},
   "outputs": [
    {
     "data": {
      "image/png": "[encoded data removed]",
      "text/plain": [
       "<Figure size 432x288 with 2 Axes>"
      ]
     },
     "metadata": {
      "needs_background": "light"
     },
     "output_type": "display_data"
    },
    {
     "data": {
      "image/png": "[encoded data removed]",
      "text/plain": [
       "<Figure size 432x288 with 2 Axes>"
      ]
     },
     "metadata": {
      "needs_background": "light"
     },
     "output_type": "display_data"
    },
    {
     "data": {
      "image/png": "[encoded data removed]",
      "text/plain": [
       "<Figure size 432x288 with 2 Axes>"
      ]
     },
     "metadata": {
      "needs_background": "light"
     },
     "output_type": "display_data"
    }
   ],
   "source": [
    "for x in [90, 150, 200]:\n",
    "    plt.figure()\n",
    "    sns.heatmap(foo.stimulus_df.attention_heads_Linf.iloc[x])\n",
    "    plt.xlabel(\"Head\")\n",
    "    plt.ylabel(\"Layer\")\n",
    "    \n",
    "sns.heatmap(foo.stimulus_df.attentions.iloc[50][0][11], vmax=.1)\n",
    "plt.suptitle(\"Raw Attention for Single Head ({} Total Tokens)\".format(N_ATTENTION_TOKENS));\n",
    "\n",
    "sns.heatmap(foo.stimulus_df.masked_attentions.iloc[50][0][11], vmax=.1)\n",
    "plt.suptitle(\"{} Masked Attention for Single Head ({} Total Tokens)\".format(ATTENTION_DIRECTION, N_ATTENTION_TOKENS));"
   ]
  },
  {
   "cell_type": "markdown",
   "metadata": {},
   "source": [
    "# Outputs for Sreejan"
   ]
  },
  {
   "cell_type": "code",
   "execution_count": 111,
   "metadata": {},
   "outputs": [],
   "source": [
    "import itertools\n",
    "\n",
    "def flatten(lists):\n",
    "    if lists is None:\n",
    "        return None\n",
    "    else:\n",
    "        return list(itertools.chain.from_iterable(lists))"
   ]
  },
  {
   "cell_type": "markdown",
   "metadata": {},
   "source": [
    "### Syntactic Complexity"
   ]
  },
  {
   "cell_type": "code",
   "execution_count": 112,
   "metadata": {},
   "outputs": [
    {
     "name": "stdout",
     "output_type": "stream",
     "text": [
      "Outputting metrics to black_bert-base-uncased_syntactic_complexity_L-1_T-10_D-fwd.npy\n",
      "(534,)\n",
      "Outputting metrics to black_bert-base-uncased_syntactic_complexity_L-inf_T-10_D-fwd.npy\n",
      "(534,)\n"
     ]
    }
   ],
   "source": [
    "for p in [1, 'inf']:  # can also do p=2, but not using that currently.\n",
    "\n",
    "    COMPLEXITY_OUTPUT_FILE = \"{}_{}_syntactic_complexity_L-{}_T-{}_D-{}.npy\".format(STIMULUS, MODEL, p, N_ATTENTION_TOKENS, ATTENTION_DIRECTION)\n",
    "    print(\"Outputting metrics to {}\".format(COMPLEXITY_OUTPUT_FILE))\n",
    "\n",
    "    attention_vectors = foo.stimulus_df[\"attention_heads_L{}\".format(p)].apply(lambda x: flatten(x))\n",
    "\n",
    "    attention_np_arrays = np.array(attention_vectors)\n",
    "    print(attention_np_arrays.shape)\n",
    "    np.save(COMPLEXITY_OUTPUT_FILE, attention_np_arrays)"
   ]
  },
  {
   "cell_type": "code",
   "execution_count": 156,
   "metadata": {},
   "outputs": [],
   "source": [
    "import random\n",
    "\n",
    "def concatenate_fwd_bck_arrays(fwd, bck):\n",
    "\n",
    "    nonzero_fwd = 0\n",
    "    total_fwd = 0\n",
    "    nonzero_bck = 0\n",
    "    total_bck = 0\n",
    "    \n",
    "    res = []\n",
    "    for f, b in zip(fwd, bck):\n",
    "        if f is None and b is None:\n",
    "            res.append(None)\n",
    "        else:\n",
    "            if random.random() > .95:\n",
    "                \n",
    "                nonzero_fwd += len([v for v in f if v > 1e-5])\n",
    "                total_fwd += len(f)\n",
    "                nonzero_bck += len([v for v in b if v > 1e-5])\n",
    "                total_bck += len(b)\n",
    "                \n",
    "            res.append(f + b)\n",
    "    res = np.array(res, dtype=object)\n",
    "    \n",
    "#     print(\"\\tFound {}/{} and {}/{} nonzero.\".format(nonzero_fwd, total_fwd, nonzero_bck, total_bck))\n",
    "    \n",
    "    return res"
   ]
  },
  {
   "cell_type": "code",
   "execution_count": 157,
   "metadata": {},
   "outputs": [
    {
     "name": "stdout",
     "output_type": "stream",
     "text": [
      "\tFound 7616/7632 and 7632/7632 nonzero.\n",
      "(1177,)\n",
      "288\n",
      "slumlordreach_bert-base-uncased_syntactic_distance_T-10_D-bck.npy\n",
      "slumlordreach_bert-base-uncased_syntactic_distance_T-10_D-fwd.npy\n",
      "slumlordreach_bert-base-uncased_syntactic_distance_T-10_D-concat.npy\n",
      "=======\n",
      "\tFound 3713/3744 and 3744/3744 nonzero.\n",
      "(534,)\n",
      "288\n",
      "black_bert-base-uncased_syntactic_complexity_L-inf_T-10_D-bck.npy\n",
      "black_bert-base-uncased_syntactic_complexity_L-inf_T-10_D-fwd.npy\n",
      "black_bert-base-uncased_syntactic_complexity_L-inf_T-10_D-concat.npy\n",
      "=======\n",
      "\tFound 9325/9360 and 9360/9360 nonzero.\n",
      "(1177,)\n",
      "288\n",
      "slumlordreach_bert-base-uncased_syntactic_complexity_L-1_T-128_D-bck.npy\n",
      "slumlordreach_bert-base-uncased_syntactic_complexity_L-1_T-128_D-fwd.npy\n",
      "slumlordreach_bert-base-uncased_syntactic_complexity_L-1_T-128_D-concat.npy\n",
      "=======\n",
      "\tFound 6739/6768 and 6768/6768 nonzero.\n",
      "(1177,)\n",
      "288\n",
      "slumlordreach_bert-base-uncased_syntactic_complexity_L-1_T-10_D-bck.npy\n",
      "slumlordreach_bert-base-uncased_syntactic_complexity_L-1_T-10_D-fwd.npy\n",
      "slumlordreach_bert-base-uncased_syntactic_complexity_L-1_T-10_D-concat.npy\n",
      "=======\n",
      "\tFound 3738/3744 and 3744/3744 nonzero.\n",
      "(534,)\n",
      "288\n",
      "black_bert-base-uncased_syntactic_distance_T-20_D-bck.npy\n",
      "black_bert-base-uncased_syntactic_distance_T-20_D-fwd.npy\n",
      "black_bert-base-uncased_syntactic_distance_T-20_D-concat.npy\n",
      "=======\n",
      "\tFound 3725/3744 and 3744/3744 nonzero.\n",
      "(534,)\n",
      "288\n",
      "black_bert-base-uncased_syntactic_complexity_L-1_T-20_D-bck.npy\n",
      "black_bert-base-uncased_syntactic_complexity_L-1_T-20_D-fwd.npy\n",
      "black_bert-base-uncased_syntactic_complexity_L-1_T-20_D-concat.npy\n",
      "=======\n",
      "\tFound 8920/8928 and 8928/8928 nonzero.\n",
      "(1177,)\n",
      "288\n",
      "slumlordreach_bert-base-uncased_syntactic_distance_T-128_D-bck.npy\n",
      "slumlordreach_bert-base-uncased_syntactic_distance_T-128_D-fwd.npy\n",
      "slumlordreach_bert-base-uncased_syntactic_distance_T-128_D-concat.npy\n",
      "=======\n",
      "\tFound 2870/2880 and 2880/2880 nonzero.\n",
      "(534,)\n",
      "288\n",
      "black_bert-base-uncased_syntactic_distance_T-10_D-bck.npy\n",
      "black_bert-base-uncased_syntactic_distance_T-10_D-fwd.npy\n",
      "black_bert-base-uncased_syntactic_distance_T-10_D-concat.npy\n",
      "=======\n",
      "\tFound 3289/3312 and 3312/3312 nonzero.\n",
      "(534,)\n",
      "288\n",
      "black_bert-base-uncased_syntactic_complexity_L-1_T-10_D-bck.npy\n",
      "black_bert-base-uncased_syntactic_complexity_L-1_T-10_D-fwd.npy\n",
      "black_bert-base-uncased_syntactic_complexity_L-1_T-10_D-concat.npy\n",
      "=======\n",
      "\tFound 10587/10656 and 10656/10656 nonzero.\n",
      "(1177,)\n",
      "288\n",
      "slumlordreach_bert-base-uncased_syntactic_complexity_L-inf_T-10_D-bck.npy\n",
      "slumlordreach_bert-base-uncased_syntactic_complexity_L-inf_T-10_D-fwd.npy\n",
      "slumlordreach_bert-base-uncased_syntactic_complexity_L-inf_T-10_D-concat.npy\n",
      "=======\n",
      "\tFound 7473/7488 and 7488/7488 nonzero.\n",
      "(1177,)\n",
      "288\n",
      "slumlordreach_bert-base-uncased_syntactic_complexity_L-1_T-20_D-bck.npy\n",
      "slumlordreach_bert-base-uncased_syntactic_complexity_L-1_T-20_D-fwd.npy\n",
      "slumlordreach_bert-base-uncased_syntactic_complexity_L-1_T-20_D-concat.npy\n",
      "=======\n",
      "\tFound 3864/3888 and 3888/3888 nonzero.\n",
      "(534,)\n",
      "288\n",
      "black_bert-base-uncased_syntactic_complexity_L-1_T-128_D-bck.npy\n",
      "black_bert-base-uncased_syntactic_complexity_L-1_T-128_D-fwd.npy\n",
      "black_bert-base-uncased_syntactic_complexity_L-1_T-128_D-concat.npy\n",
      "=======\n",
      "\tFound 8484/8496 and 8496/8496 nonzero.\n",
      "(1177,)\n",
      "288\n",
      "slumlordreach_bert-base-uncased_syntactic_distance_T-20_D-bck.npy\n",
      "slumlordreach_bert-base-uncased_syntactic_distance_T-20_D-fwd.npy\n",
      "slumlordreach_bert-base-uncased_syntactic_distance_T-20_D-concat.npy\n",
      "=======\n",
      "\tFound 3737/3744 and 3744/3744 nonzero.\n",
      "(534,)\n",
      "288\n",
      "black_bert-base-uncased_syntactic_distance_T-128_D-bck.npy\n",
      "black_bert-base-uncased_syntactic_distance_T-128_D-fwd.npy\n",
      "black_bert-base-uncased_syntactic_distance_T-128_D-concat.npy\n",
      "=======\n"
     ]
    }
   ],
   "source": [
    "import glob\n",
    "\n",
    "backwards_metrics = [f for f in glob.glob(\"*.npy\") if 'bck' in f]\n",
    "\n",
    "for backwards_file in backwards_metrics:\n",
    "    \n",
    "    bck = np.load(backwards_file, allow_pickle=True)\n",
    "    forward_file = backwards_file.replace(\"bck\", \"fwd\")\n",
    "    fwd = np.load(forward_file, allow_pickle=True)\n",
    "    \n",
    "    concat = concatenate_fwd_bck_arrays(fwd, bck)\n",
    "    concat_file = backwards_file.replace(\"bck\", \"concat\")\n",
    "    \n",
    "    np.save(concat_file, concat)\n",
    "    \n",
    "#     print(concat.shape)\n",
    "#     print(len(concat[-10]))\n",
    "#     print(backwards_file + \"\\n\" + forward_file + \"\\n\" + concat_file + \"\\n=======\")\n",
    "\n",
    "    "
   ]
  },
  {
   "cell_type": "code",
   "execution_count": null,
   "metadata": {},
   "outputs": [],
   "source": [
    "## SCP to PNI\n",
    "\n",
    "```scp {FILE_NAME} tsumers@apps.pni.princeton.edu:/jukebox/griffiths/bert-brains/code/bert-brains/data/{STIMULUS}/{MODEL}/syntactic_analyses```\n",
    "\n",
    "```ssh tsumers@apps.pni.princeton.edu```"
   ]
  },
  {
   "cell_type": "code",
   "execution_count": 37,
   "metadata": {},
   "outputs": [
    {
     "name": "stdout",
     "output_type": "stream",
     "text": [
      "SCP all syntactic representations to PNI:\n",
      "\n",
      "scp black_gpt2_syntactic_*.npy black_gpt2_semantic_*.npy tsumers@apps.pni.princeton.edu:/jukebox/griffiths/bert-brains/code/bert-brains/data/black/gpt2/syntactic_analyses\n"
     ]
    }
   ],
   "source": [
    "\n",
    "\n",
    "SCP_STIMULUS='black'\n",
    "\n",
    "ALL_SYNTAX_REPS = \"scp {}_{}_syntactic_*.npy tsumers@apps.pni.princeton.edu:/jukebox/griffiths/bert-brains/code/bert-brains/data/{}/{}/syntactic_analyses\"\n",
    "\n",
    "print(\"SCP all syntactic representations to PNI:\\n\")\n",
    "print(ALL_SYNTAX_REPS.format(SCP_STIMULUS, MODEL, SCP_STIMULUS, MODEL, SCP_STIMULUS, MODEL))"
   ]
  },
  {
   "cell_type": "markdown",
   "metadata": {},
   "source": [
    "# DEMO: attention distance masking\n",
    "Just in case I want to double check this logic sometime."
   ]
  },
  {
   "cell_type": "code",
   "execution_count": 5,
   "metadata": {},
   "outputs": [
    {
     "data": {
      "text/plain": [
       "array([[0, 1, 2, 3, 4],\n",
       "       [1, 0, 1, 2, 3],\n",
       "       [2, 1, 0, 1, 2],\n",
       "       [3, 2, 1, 0, 1],\n",
       "       [4, 3, 2, 1, 0]])"
      ]
     },
     "execution_count": 5,
     "metadata": {},
     "output_type": "execute_result"
    }
   ],
   "source": [
    "import numpy as np\n",
    "N_TOKENS = 5\n",
    "a = np.array(range(1,N_TOKENS+1))\n",
    "columns = np.tile(a,(N_TOKENS,1))\n",
    "rows = np.tile(a,(N_TOKENS,1)).T\n",
    "abs((rows-columns))"
   ]
  }
 ],
 "metadata": {
  "finalized": {
   "timestamp": 1601859815170,
   "trusted": true
  },
  "kernelspec": {
   "display_name": "Python 3",
   "language": "python",
   "name": "python3"
  },
  "language_info": {
   "codemirror_mode": {
    "name": "ipython",
    "version": 3
   },
   "file_extension": ".py",
   "mimetype": "text/x-python",
   "name": "python",
   "nbconvert_exporter": "python",
   "pygments_lexer": "ipython3",
   "version": "3.9.6"
  }
 },
 "nbformat": 4,
 "nbformat_minor": 4
}
