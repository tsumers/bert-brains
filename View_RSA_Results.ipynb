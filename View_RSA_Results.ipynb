{
 "metadata": {
  "language_info": {
   "codemirror_mode": {
    "name": "ipython",
    "version": 3
   },
   "file_extension": ".py",
   "mimetype": "text/x-python",
   "name": "python",
   "nbconvert_exporter": "python",
   "pygments_lexer": "ipython3",
   "version": "3.7.9"
  },
  "orig_nbformat": 2,
  "kernelspec": {
   "name": "python379jvsc74a57bd079548f945bf71b973db1ecac55224aa3d760f803a409225e67493495ce292a49",
   "display_name": "Python 3.7.9 64-bit ('fmri': conda)"
  },
  "metadata": {
   "interpreter": {
    "hash": "79548f945bf71b973db1ecac55224aa3d760f803a409225e67493495ce292a49"
   }
  }
 },
 "nbformat": 4,
 "nbformat_minor": 2,
 "cells": [
  {
   "cell_type": "code",
   "execution_count": 3,
   "metadata": {},
   "outputs": [],
   "source": [
    "import nibabel as nib \n",
    "import numpy as np \n",
    "import matplotlib.pyplot as plt \n",
    "import nilearn.plotting as niplt\n",
    "%matplotlib inline "
   ]
  },
  {
   "cell_type": "code",
   "execution_count": 6,
   "metadata": {},
   "outputs": [],
   "source": [
    "subs=['sub-145', 'sub-143', 'sub-016', 'sub-142', 'sub-141', 'sub-133', 'sub-140', 'sub-136', \n",
    "\t\t\t'sub-084', 'sub-135', 'sub-137', 'sub-138', 'sub-111', 'sub-106', 'sub-134', 'sub-132', 'sub-144']\n",
    "\n",
    "layer_names=['layer_'+str(i)+\"_activations\" for i in range(13)]\n",
    "results_prefix=\"/scratch/sreejank/sl_results/slumlordreach/\"\n",
    "d='/jukebox/griffiths/bert-brains/'\n",
    "data_dir=d+'slumlordreach_data/' "
   ]
  },
  {
   "cell_type": "code",
   "execution_count": 11,
   "metadata": {},
   "outputs": [],
   "source": [
    "anatomical_results=np.zeros((len(subs),len(layer_names)))\n",
    "functional_results=np.zeros((len(subs),len(layer_names)))\n",
    "big_mask=nib.load(data_dir+\"whole_brain_mask.nii.gz\").get_fdata().astype('bool')\n",
    "for i,layer in enumerate(layer_names):\n",
    "    for j,sub in enumerate(subs):\n",
    "        f_result=nib.load(results_prefix+\"encoding-\"+layer+\"/\"+sub+\"_whole_brain_functional_SL.nii.gz\").get_fdata()[big_mask]\n",
    "        functional_results[j,i]=f_result[f_result>=np.percentile(f_result.flatten(),99)].mean()\n",
    "        a_result=nib.load(results_prefix+\"\"+layer+\"/\"+sub+\"_whole_brain_anatomical_SL.nii.gz\").get_fdata()[big_mask]\n",
    "        anatomical_results[j,i]=a_result[a_result>=np.percentile(a_result.flatten(),99)].mean()\n"
   ]
  },
  {
   "cell_type": "code",
   "execution_count": 19,
   "metadata": {},
   "outputs": [],
   "source": [
    "def bootstrap_CI(data):\n",
    "    sampling=[]\n",
    "    for _ in range(1000):\n",
    "        sampling.append(np.mean(np.random.choice(data,size=len(data),replace=True)))\n",
    "    return np.percentile(sampling,(2.5,97.5))"
   ]
  },
  {
   "cell_type": "code",
   "execution_count": 21,
   "metadata": {},
   "outputs": [
    {
     "output_type": "execute_result",
     "data": {
      "text/plain": [
       "[array([-57.75311401, -26.48049364]),\n",
       " array([-82.60149276, -51.9252721 ]),\n",
       " array([-85.05328075, -43.01213175]),\n",
       " array([-79.56744228, -43.87010099]),\n",
       " array([-81.52604882, -48.58690295]),\n",
       " array([-86.81502291, -50.87601397]),\n",
       " array([-87.71421982, -56.58354873]),\n",
       " array([-86.27180796, -45.2257806 ]),\n",
       " array([-85.20288125, -34.93856526]),\n",
       " array([-83.46520354, -35.97053258]),\n",
       " array([-93.06976038, -39.43180313]),\n",
       " array([-97.63266149, -43.63462449]),\n",
       " array([-107.67085092,  -51.92136014])]"
      ]
     },
     "metadata": {},
     "execution_count": 21
    }
   ],
   "source": [
    "diff=(functional_results-anatomical_results)/anatomical_results*100.0\n",
    "[bootstrap_CI(diff[:,i]) for i in range(13)]"
   ]
  },
  {
   "cell_type": "code",
   "execution_count": 23,
   "metadata": {},
   "outputs": [
    {
     "output_type": "execute_result",
     "data": {
      "text/plain": [
       "0.029067122580497637"
      ]
     },
     "metadata": {},
     "execution_count": 23
    }
   ],
   "source": [
    "anatomical_results.mean()"
   ]
  },
  {
   "cell_type": "code",
   "execution_count": null,
   "metadata": {},
   "outputs": [],
   "source": []
  }
 ]
}