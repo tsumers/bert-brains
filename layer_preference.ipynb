{
 "cells": [
  {
   "cell_type": "code",
   "execution_count": 1,
   "id": "097bfcde-2de0-4695-acde-8d74aed14127",
   "metadata": {},
   "outputs": [],
   "source": [
    "import numpy as np\n",
    "import matplotlib.pyplot as plt\n",
    "import seaborn as sns\n",
    "import pandas as pd"
   ]
  },
  {
   "cell_type": "code",
   "execution_count": 2,
   "id": "24c9d26d-b06d-4934-bb6a-ea1f0ac7bfa1",
   "metadata": {},
   "outputs": [],
   "source": [
    "# Load in ROI labels and visualize\n",
    "roi_labels = np.load('parcel_roi_labels.npy')\n",
    "roi_names = ['L_PostTemp', 'L_AntTemp', 'L_AngG', 'L_IFG', 'L_MFG',\n",
    "             'L_IFGorb', 'L_vmPFC', 'L_dmPFC', 'L_PMC', 'L_HG', 'L_V1',\n",
    "             'R_PostTemp', 'R_AntTemp', 'R_AngG', 'R_IFG', 'R_MFG',\n",
    "             'R_IFGorb', 'R_vmPFC', 'R_dmPFC', 'R_PMC', 'R_HG', 'R_V1']\n",
    "\n",
    "# Set V1 to zero and ignore\n",
    "v1_ids = [i for i, r in enumerate(roi_names) if 'V1' in r]\n",
    "for v1_id in v1_ids:\n",
    "    roi_labels[roi_labels == v1_id + 1.] = 0.\n",
    "\n",
    "roi_ids = np.where(roi_labels != 0)[0]"
   ]
  },
  {
   "cell_type": "code",
   "execution_count": 3,
   "id": "8b95a7fd-9c9c-4a69-8323-165e61b8c889",
   "metadata": {},
   "outputs": [],
   "source": [
    "# Load in embeddings (layers 1-12) and transformations\n",
    "parcel_emb = np.load('data_plots_2022-04-23/layer_performances.npy')[1:]\n",
    "parcel_z = np.load('data_plots_2022-04-23/z_performances.npy')"
   ]
  },
  {
   "cell_type": "code",
   "execution_count": 4,
   "id": "11c5b1dd-bfc3-46ca-92a1-5d3845746542",
   "metadata": {},
   "outputs": [],
   "source": [
    "# Select parcels in language ROIs\n",
    "parcel_emb = parcel_emb[..., roi_ids]\n",
    "parcel_z = parcel_z[..., roi_ids]"
   ]
  },
  {
   "cell_type": "code",
   "execution_count": 5,
   "id": "b1a1b61d-e9c8-42fd-a884-12b0e954a552",
   "metadata": {},
   "outputs": [],
   "source": [
    "# Truncate extreme percent noise ceiling values\n",
    "parcel_emb[parcel_emb > 100] = 100\n",
    "parcel_emb[parcel_emb < -100] = -100\n",
    "\n",
    "parcel_z[parcel_z > 100] = 100\n",
    "parcel_z[parcel_z < -100] = -100"
   ]
  },
  {
   "cell_type": "code",
   "execution_count": 6,
   "id": "f4eb57f3-e912-4598-8a23-26840b407962",
   "metadata": {},
   "outputs": [],
   "source": [
    "# Average performances acrosss subjects\n",
    "parcel_emb_mean = np.mean(parcel_emb, axis=1)\n",
    "parcel_z_mean = np.mean(parcel_z, axis=1)"
   ]
  },
  {
   "cell_type": "code",
   "execution_count": 7,
   "id": "41428966-4620-42de-8c38-b690cb723e55",
   "metadata": {},
   "outputs": [],
   "source": [
    "# Get layer with max performance\n",
    "parcel_emb_max = np.argmax(parcel_emb_mean, axis=0) + 1\n",
    "parcel_z_max = np.argmax(parcel_z_mean, axis=0) + 1"
   ]
  },
  {
   "cell_type": "code",
   "execution_count": 8,
   "id": "9f2b684a-8baf-476b-bcd5-83af9591d902",
   "metadata": {},
   "outputs": [
    {
     "data": {
      "image/png": "[encoded data removed]",
      "text/plain": [
       "<Figure size 360x162 with 1 Axes>"
      ]
     },
     "metadata": {
      "needs_background": "light"
     },
     "output_type": "display_data"
    }
   ],
   "source": [
    "# Plot layer preference for embeddings and transformations\n",
    "hist_df = pd.DataFrame({'embeddings': parcel_emb_max,\n",
    "                        'transformations': parcel_z_max})\n",
    "colors = ['#3a53a4ff', '#ed2224ff']\n",
    "\n",
    "fig, ax = plt.subplots(figsize=(5, 2.25))\n",
    "sns.histplot(hist_df, stat='proportion', discrete=True, ax=ax,\n",
    "             palette=sns.color_palette(colors), legend=True)\n",
    "ax.set_ylabel('proportion of parcels')\n",
    "ax.set_xlabel('preferred layer')\n",
    "ax.set_xticks(np.arange(1, 13))\n",
    "ax.set_yticks(np.arange(0, .15, .05))\n",
    "legend = ax.get_legend()\n",
    "handles = legend.legendHandles\n",
    "legend = ax.legend(handles, ['embeddings', 'transformations'], frameon=False)\n",
    "sns.despine()\n",
    "plt.savefig('layer_preference_histogram.svg', bbox_inches='tight', dpi=300)"
   ]
  },
  {
   "cell_type": "code",
   "execution_count": 9,
   "id": "30847d2b-efba-43e5-85d4-9592b844cb43",
   "metadata": {},
   "outputs": [],
   "source": [
    "# Compute observed different between preferred layers\n",
    "diff_obs = np.mean(parcel_emb_max - parcel_z_max)\n",
    "\n",
    "# Stack embeddings and transformations\n",
    "parcel_stack = np.stack([parcel_emb, parcel_z], axis=-1)\n",
    "\n",
    "# Shuffle embeddings and transformations in loop\n",
    "rng = np.random.default_rng()\n",
    "n_perms = 1000\n",
    "\n",
    "null_dist = []\n",
    "for i in np.arange(n_perms):\n",
    "    parcel_perm = rng.permuted(parcel_stack, axis=-1)\n",
    "    parcel_emb_perm, parcel_z_perm = parcel_perm[..., 0], parcel_perm[..., 1]\n",
    "\n",
    "    # Average shuffled performances acrosss subjects\n",
    "    parcel_emb_perm = np.mean(parcel_emb_perm, axis=1)\n",
    "    parcel_z_perm = np.mean(parcel_z_perm, axis=1)\n",
    "\n",
    "    # Get layer with max performance\n",
    "    parcel_emb_perm = np.argmax(parcel_emb_perm, axis=0) + 1\n",
    "    parcel_z_perm = np.argmax(parcel_z_perm, axis=0) + 1\n",
    "    \n",
    "    # Get difference for permuted performances\n",
    "    diff_perm = np.mean(parcel_emb_perm - parcel_z_perm)\n",
    "    null_dist.append(diff_perm)"
   ]
  },
  {
   "cell_type": "code",
   "execution_count": 10,
   "id": "6f18fc43-eea7-4840-adce-75f2a5f5abd9",
   "metadata": {},
   "outputs": [
    {
     "name": "stdout",
     "output_type": "stream",
     "text": [
      "embeddings: mean preferred layer = 8.861\n",
      "transformations: mean preferred layer = 7.196\n",
      "p = 0.001\n"
     ]
    }
   ],
   "source": [
    "# Compute p-value from null distribution\n",
    "def p_from_null(observed, distribution):\n",
    "    n_samples = len(distribution)\n",
    "    numerator = np.sum(np.abs(distribution) >= np.abs(observed))\n",
    "    p = (numerator + 1) / (n_samples + 1)\n",
    "    return p\n",
    "\n",
    "p = p_from_null(diff_obs, null_dist)\n",
    "print(f\"embeddings: mean preferred layer = {np.mean(parcel_emb_max):.3f}\")\n",
    "print(f\"transformations: mean preferred layer = {np.mean(parcel_z_max):.3f}\")\n",
    "print(f\"p = {p:.3f}\")"
   ]
  },
  {
   "cell_type": "code",
   "execution_count": 11,
   "id": "01aca391-d842-4af5-87bf-479c8460cced",
   "metadata": {},
   "outputs": [
    {
     "data": {
      "image/png": "[encoded data removed]",
      "text/plain": [
       "<Figure size 360x162 with 1 Axes>"
      ]
     },
     "metadata": {
      "needs_background": "light"
     },
     "output_type": "display_data"
    }
   ],
   "source": [
    "# Plot plot an example shuffled histogram\n",
    "hist_df = pd.DataFrame({'embeddings': parcel_emb_perm,\n",
    "                        'transformations': parcel_z_perm})\n",
    "colors = ['#3a53a4ff', '#ed2224ff']\n",
    "\n",
    "fig, ax = plt.subplots(figsize=(5, 2.25))\n",
    "sns.histplot(hist_df, stat='proportion', discrete=True, ax=ax,\n",
    "             palette=sns.color_palette(colors), legend=True)\n",
    "ax.set_ylabel('proportion of parcels')\n",
    "ax.set_xlabel('preferred layer')\n",
    "ax.set_xticks(np.arange(1, 13))\n",
    "legend = ax.get_legend()\n",
    "handles = legend.legendHandles\n",
    "legend = ax.legend(handles, ['embeddings', 'transformations'], frameon=False)\n",
    "sns.despine()"
   ]
  },
  {
   "cell_type": "code",
   "execution_count": 12,
   "id": "63e6e11f-ef0a-4935-82ed-e47e8fe297a7",
   "metadata": {},
   "outputs": [
    {
     "data": {
      "image/png": "[encoded data removed]",
      "text/plain": [
       "<Figure size 432x288 with 1 Axes>"
      ]
     },
     "metadata": {
      "needs_background": "light"
     },
     "output_type": "display_data"
    }
   ],
   "source": [
    "# Plot null distribution and observed value\n",
    "fig, ax = plt.subplots(figsize=(6, 4))\n",
    "ax.hist(null_dist, color='.5')\n",
    "ax.axvline(diff_obs, c='red')\n",
    "ax.set_title(('difference in preferred layer\\n'\n",
    "              '(embeddings – transformations)'))\n",
    "ax.annotate(f\"difference = {diff_obs:.3f}\\n(p = {p:.3f})\",\n",
    "            (diff_obs - .05, .97),\n",
    "            xycoords=('data', 'axes fraction'),\n",
    "            ha='right', va='top');"
   ]
  },
  {
   "cell_type": "code",
   "execution_count": 13,
   "id": "f0328aa5-9e63-4f28-90f0-d0ff49c6bf40",
   "metadata": {},
   "outputs": [],
   "source": [
    "# Compute magnitude of layerwise differences\n",
    "def layer_diff(parcel_means):\n",
    "    diff = np.linalg.norm(np.diff(parcel_means, axis=0), 2, axis=0)\n",
    "    return diff\n",
    "\n",
    "diff_obs = np.mean(layer_diff(parcel_emb_mean) - \n",
    "                   layer_diff(parcel_z_mean))\n",
    "\n",
    "# Stack embeddings and transformations\n",
    "parcel_stack = np.stack([parcel_emb, parcel_z], axis=-1)\n",
    "\n",
    "# Shuffle embeddings and transformations in loop\n",
    "rng = np.random.default_rng()\n",
    "n_perms = 1000\n",
    "\n",
    "null_dist = []\n",
    "for i in np.arange(n_perms):\n",
    "    parcel_perm = rng.permuted(parcel_stack, axis=-1)\n",
    "    parcel_emb_perm, parcel_z_perm = parcel_perm[..., 0], parcel_perm[..., 1]\n",
    "\n",
    "    # Average shuffled performances acrosss subjects\n",
    "    parcel_emb_perm = np.mean(parcel_emb_perm, axis=1)\n",
    "    parcel_z_perm = np.mean(parcel_z_perm, axis=1)\n",
    "    \n",
    "    # Get difference in layerwise differences for permuted performances\n",
    "    diff_perm = np.mean(layer_diff(parcel_emb_perm) - \n",
    "                        layer_diff(parcel_z_perm))\n",
    "    null_dist.append(diff_perm)"
   ]
  },
  {
   "cell_type": "code",
   "execution_count": 14,
   "id": "d0cf43a3-6230-4fa7-a405-41af1ac3d008",
   "metadata": {},
   "outputs": [
    {
     "name": "stdout",
     "output_type": "stream",
     "text": [
      "embeddings: mean layerwise difference = 7.575\n",
      "transformations: mean layerwise difference = 14.321\n",
      "p = 0.001\n"
     ]
    }
   ],
   "source": [
    "# Compute p-value from null distribution\n",
    "def p_from_null(observed, distribution):\n",
    "    n_samples = len(distribution)\n",
    "    numerator = np.sum(np.abs(distribution) >= np.abs(observed))\n",
    "    p = (numerator + 1) / (n_samples + 1)\n",
    "    return p\n",
    "\n",
    "p = p_from_null(diff_obs, null_dist)\n",
    "print(\"embeddings: mean layerwise difference = \"\n",
    "      f\"{np.mean(layer_diff(parcel_emb_mean)):.3f}\")\n",
    "print(\"transformations: mean layerwise difference = \"\n",
    "      f\"{np.mean(layer_diff(parcel_z_mean)):.3f}\")\n",
    "print(f\"p = {p:.3f}\")"
   ]
  },
  {
   "cell_type": "code",
   "execution_count": 15,
   "id": "f60ac919-9e1b-4268-b833-990c77e8d9f3",
   "metadata": {},
   "outputs": [
    {
     "data": {
      "image/png": "[encoded data removed]",
      "text/plain": [
       "<Figure size 360x162 with 1 Axes>"
      ]
     },
     "metadata": {
      "needs_background": "light"
     },
     "output_type": "display_data"
    }
   ],
   "source": [
    "# Plot histogram of layerwise difference in performance magnitude\n",
    "hist_df = pd.DataFrame({'embeddings': layer_diff(parcel_emb_mean),\n",
    "                        'transformations': layer_diff(parcel_z_mean)})\n",
    "pd.melt(hist_df, var_name='feature', value_name='layer specificity')\n",
    "colors = ['#3a53a4ff', '#ed2224ff']\n",
    "\n",
    "fig, ax = plt.subplots(figsize=(5, 2.25))\n",
    "sns.histplot(hist_df, stat='proportion', bins=np.arange(0, 30) - .5, binrange=(0, 30),\n",
    "             ax=ax, palette=sns.color_palette(colors))\n",
    "ax.set_xlabel('layer-to-layer difference in performance')\n",
    "ax.set_ylabel('proportion of parcels')\n",
    "ax.set_xlim(0, 30)\n",
    "ax.set_xticks(np.arange(0, 31, 5))\n",
    "legend = ax.get_legend()\n",
    "handles = legend.legendHandles\n",
    "legend = ax.legend(handles, ['embeddings', 'transformations'], frameon=False)\n",
    "sns.despine()\n",
    "plt.savefig('layer_specificity_histogram.svg', bbox_inches='tight', dpi=300)"
   ]
  },
  {
   "cell_type": "code",
   "execution_count": 16,
   "id": "25ecfb92-6f58-4fbe-9d08-079b5924786b",
   "metadata": {},
   "outputs": [
    {
     "data": {
      "image/png": "[encoded data removed]",
      "text/plain": [
       "<Figure size 360x162 with 1 Axes>"
      ]
     },
     "metadata": {
      "needs_background": "light"
     },
     "output_type": "display_data"
    }
   ],
   "source": [
    "# Plot histogram of shuffled layerwise difference in performance magnitude\n",
    "hist_df = pd.DataFrame({'embeddings': layer_diff(parcel_emb_perm),\n",
    "                        'transformations': layer_diff(parcel_z_perm)})\n",
    "pd.melt(hist_df, var_name='feature', value_name='layer specificity')\n",
    "colors = ['#3a53a4ff', '#ed2224ff']\n",
    "\n",
    "fig, ax = plt.subplots(figsize=(5, 2.25))\n",
    "sns.histplot(hist_df, stat='proportion', bins=np.arange(0, 30) - .5, binrange=(0, 30),\n",
    "             ax=ax, palette=sns.color_palette(colors))\n",
    "ax.set_xlabel('layer-to-layer difference in performance')\n",
    "ax.set_ylabel('proportion of parcels')\n",
    "ax.set_xlim(0, 30)\n",
    "ax.set_xticks(np.arange(0, 31, 5))\n",
    "legend = ax.get_legend()\n",
    "handles = legend.legendHandles\n",
    "legend = ax.legend(handles, ['embeddings', 'transformations'], frameon=False)\n",
    "sns.despine()"
   ]
  },
  {
   "cell_type": "code",
   "execution_count": 17,
   "id": "4256d71f-2063-41f9-8918-c728b4f30ae3",
   "metadata": {},
   "outputs": [
    {
     "data": {
      "image/png": "[encoded data removed]",
      "text/plain": [
       "<Figure size 432x288 with 1 Axes>"
      ]
     },
     "metadata": {
      "needs_background": "light"
     },
     "output_type": "display_data"
    }
   ],
   "source": [
    "# Plot null distribution and observed value\n",
    "fig, ax = plt.subplots(figsize=(6, 4))\n",
    "ax.hist(null_dist, color='.5')\n",
    "ax.axvline(diff_obs, c='red')\n",
    "ax.set_title(('layerwise difference magnitude\\n'\n",
    "              '(embeddings – transformations)'))\n",
    "ax.annotate(f\"difference = {diff_obs:.3f}\\n(p = {p:.3f})\",\n",
    "            (diff_obs + .2, .97),\n",
    "            xycoords=('data', 'axes fraction'),\n",
    "            ha='left', va='top');"
   ]
  }
 ],
 "metadata": {
  "kernelspec": {
   "display_name": "Python 3 (ipykernel)",
   "language": "python",
   "name": "python3"
  },
  "language_info": {
   "codemirror_mode": {
    "name": "ipython",
    "version": 3
   },
   "file_extension": ".py",
   "mimetype": "text/x-python",
   "name": "python",
   "nbconvert_exporter": "python",
   "pygments_lexer": "ipython3",
   "version": "3.9.5"
  }
 },
 "nbformat": 4,
 "nbformat_minor": 5
}
