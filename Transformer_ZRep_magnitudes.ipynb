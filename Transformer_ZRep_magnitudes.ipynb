{
 "cells": [
  {
   "cell_type": "code",
   "execution_count": 118,
   "id": "65a86b83-d781-472b-8ed0-1ed3989b191b",
   "metadata": {},
   "outputs": [],
   "source": [
    "import numpy as np\n",
    "\n",
    "import seaborn as sns\n",
    "import matplotlib.pylab as plt"
   ]
  },
  {
   "cell_type": "code",
   "execution_count": 119,
   "id": "a0732bef-585c-4345-9c67-89eaa76980d5",
   "metadata": {},
   "outputs": [],
   "source": [
    "LAYERS = range(0, 12)\n",
    "MODEL = \"bert-base-uncased\"\n",
    "STIMULUS = \"slumlordreach\" # slumlordreach, black"
   ]
  },
  {
   "cell_type": "code",
   "execution_count": 120,
   "id": "d3713ab7-bb09-4f3a-aa6f-0f471b791fe4",
   "metadata": {},
   "outputs": [],
   "source": [
    "z_reps = {}\n",
    "for layer in LAYERS:\n",
    "    z_reps[layer] = np.load(\"{}_{}_layer_{}_z_representations.npy\".format(STIMULUS, MODEL, layer))\n",
    "\n",
    "number_of_trs = z_reps[0].shape[0]"
   ]
  },
  {
   "cell_type": "code",
   "execution_count": 121,
   "id": "24cae3cf-4beb-4742-841f-e9aeb7ac75f9",
   "metadata": {},
   "outputs": [],
   "source": [
    "# Indexes to slice out individual heads\n",
    "indices = [x+64 for x in range(0, 768, 64)]\n",
    "head_indices = list(zip([0]+ indices, indices))"
   ]
  },
  {
   "cell_type": "code",
   "execution_count": 122,
   "id": "9db442e2-19bf-4d5c-a347-e485ac51d201",
   "metadata": {},
   "outputs": [],
   "source": [
    "stimulus_responses = []\n",
    "for i in range(0, number_of_trs):\n",
    "    z_magnitudes = []\n",
    "    for layer in LAYERS:\n",
    "        layer_z_reps = z_reps[layer][i]\n",
    "#         print(i, layer, layer_z_reps.shape)\n",
    "        \n",
    "        for start, end in head_indices:\n",
    "            attn_head = layer_z_reps[start:end]\n",
    "#             print(start, end, attn_head.shape)\n",
    "            z_magnitudes.append(np.linalg.norm(attn_head))\n",
    "    stimulus_responses.append(z_magnitudes)"
   ]
  },
  {
   "cell_type": "code",
   "execution_count": 123,
   "id": "0181765f-44e2-48ed-9f8f-28d7ac5a53b6",
   "metadata": {},
   "outputs": [
    {
     "data": {
      "text/plain": [
       "(1177, 144)"
      ]
     },
     "execution_count": 123,
     "metadata": {},
     "output_type": "execute_result"
    }
   ],
   "source": [
    "z_magnitude_array = np.array(stimulus_responses)\n",
    "z_magnitude_array.shape"
   ]
  },
  {
   "cell_type": "code",
   "execution_count": 124,
   "id": "1d841ebf-d30a-48b1-81b5-c609d460389e",
   "metadata": {},
   "outputs": [],
   "source": [
    "magnitude_output_file = \"{}_{}_zrep_magnitudes.npy\".format(STIMULUS, MODEL)\n",
    "np.save(magnitude_output_file, z_magnitude_array)"
   ]
  },
  {
   "cell_type": "code",
   "execution_count": null,
   "id": "e9930706-3d26-49b1-b16b-2b224ffd5f15",
   "metadata": {},
   "outputs": [],
   "source": []
  },
  {
   "cell_type": "code",
   "execution_count": 125,
   "id": "1807ee54-bdfe-4def-8cf8-63e653919252",
   "metadata": {},
   "outputs": [
    {
     "data": {
      "text/plain": [
       "Text(0.5, 0.98, 'Z Magnitudes')"
      ]
     },
     "execution_count": 125,
     "metadata": {},
     "output_type": "execute_result"
    },
    {
     "data": {
      "image/png": "[encoded data removed]",
      "text/plain": [
       "<Figure size 432x288 with 2 Axes>"
      ]
     },
     "metadata": {
      "needs_background": "light"
     },
     "output_type": "display_data"
    },
    {
     "data": {
      "image/png": "[encoded data removed]",
      "text/plain": [
       "<Figure size 432x288 with 2 Axes>"
      ]
     },
     "metadata": {
      "needs_background": "light"
     },
     "output_type": "display_data"
    }
   ],
   "source": [
    "tr_to_compare = 400\n",
    "\n",
    "attn_scores = np.load(\"{}_{}_syntactic_complexity_L-inf_T-128_D-bck.npy\".format(STIMULUS, MODEL), allow_pickle=True)\n",
    "attn_square_matrix = np.array(attn_scores[tr_to_compare]).reshape(12,12)\n",
    "sns.heatmap(attn_square_matrix)\n",
    "plt.suptitle(\"Attention Scores\")\n",
    "\n",
    "plt.figure()\n",
    "z_magnitudes = np.load(magnitude_output_file, allow_pickle=True)\n",
    "z_square_matrix = np.array(z_magnitudes[tr_to_compare]).reshape(12,12)\n",
    "sns.heatmap(z_square_matrix)\n",
    "plt.suptitle(\"Z Magnitudes\")"
   ]
  },
  {
   "cell_type": "code",
   "execution_count": null,
   "id": "695daddf-559a-48b9-878e-8a5d3b079a76",
   "metadata": {},
   "outputs": [],
   "source": []
  }
 ],
 "metadata": {
  "kernelspec": {
   "display_name": "Python 3",
   "language": "python",
   "name": "python3"
  },
  "language_info": {
   "codemirror_mode": {
    "name": "ipython",
    "version": 3
   },
   "file_extension": ".py",
   "mimetype": "text/x-python",
   "name": "python",
   "nbconvert_exporter": "python",
   "pygments_lexer": "ipython3",
   "version": "3.9.6"
  }
 },
 "nbformat": 4,
 "nbformat_minor": 5
}
