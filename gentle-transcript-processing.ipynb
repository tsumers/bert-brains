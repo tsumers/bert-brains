{
 "cells": [
  {
   "cell_type": "markdown",
   "metadata": {},
   "source": [
    "# Transcript-to-TR Processing\n",
    "\n",
    "This notebook transforms data from the `.xlsx` timestamped-transcript format into a list-of-TRs format that can be used with Transformer models."
   ]
  },
  {
   "cell_type": "code",
   "execution_count": 437,
   "metadata": {},
   "outputs": [],
   "source": [
    "import pandas as pd"
   ]
  },
  {
   "cell_type": "markdown",
   "metadata": {},
   "source": [
    "## First pass: discovering / correcting some timestamp errors."
   ]
  },
  {
   "cell_type": "code",
   "execution_count": 438,
   "metadata": {},
   "outputs": [
    {
     "data": {
      "text/html": [
       "<div>\n",
       "<style scoped>\n",
       "    .dataframe tbody tr th:only-of-type {\n",
       "        vertical-align: middle;\n",
       "    }\n",
       "\n",
       "    .dataframe tbody tr th {\n",
       "        vertical-align: top;\n",
       "    }\n",
       "\n",
       "    .dataframe thead th {\n",
       "        text-align: right;\n",
       "    }\n",
       "</style>\n",
       "<table border=\"1\" class=\"dataframe\">\n",
       "  <thead>\n",
       "    <tr style=\"text-align: right;\">\n",
       "      <th></th>\n",
       "      <th>cased</th>\n",
       "      <th>uncased</th>\n",
       "      <th>start_ts</th>\n",
       "      <th>end_ts</th>\n",
       "    </tr>\n",
       "  </thead>\n",
       "  <tbody>\n",
       "    <tr>\n",
       "      <th>0</th>\n",
       "      <td>I</td>\n",
       "      <td>i</td>\n",
       "      <td>15.089999</td>\n",
       "      <td>15.169999</td>\n",
       "    </tr>\n",
       "    <tr>\n",
       "      <th>1</th>\n",
       "      <td>began</td>\n",
       "      <td>began</td>\n",
       "      <td>15.170000</td>\n",
       "      <td>15.510000</td>\n",
       "    </tr>\n",
       "    <tr>\n",
       "      <th>2</th>\n",
       "      <td>my</td>\n",
       "      <td>my</td>\n",
       "      <td>15.509999</td>\n",
       "      <td>15.699999</td>\n",
       "    </tr>\n",
       "    <tr>\n",
       "      <th>3</th>\n",
       "      <td>illustrious</td>\n",
       "      <td>&lt;unk&gt;</td>\n",
       "      <td>15.710000</td>\n",
       "      <td>16.310000</td>\n",
       "    </tr>\n",
       "    <tr>\n",
       "      <th>4</th>\n",
       "      <td>career</td>\n",
       "      <td>career</td>\n",
       "      <td>16.330000</td>\n",
       "      <td>16.940000</td>\n",
       "    </tr>\n",
       "  </tbody>\n",
       "</table>\n",
       "</div>"
      ],
      "text/plain": [
       "         cased uncased   start_ts     end_ts\n",
       "0            I       i  15.089999  15.169999\n",
       "1        began   began  15.170000  15.510000\n",
       "2           my      my  15.509999  15.699999\n",
       "3  illustrious   <unk>  15.710000  16.310000\n",
       "4       career  career  16.330000  16.940000"
      ]
     },
     "execution_count": 438,
     "metadata": {},
     "output_type": "execute_result"
    }
   ],
   "source": [
    "STORY = \"pieman\"\n",
    "\n",
    "original_transcript = pd.read_csv(\"./data/stimuli/{}/align.csv\".format(STORY), header=None, \n",
    "                                  names=[\"cased\", \"uncased\", \"start_ts\", \"end_ts\"])\n",
    "original_transcript.head()"
   ]
  },
  {
   "cell_type": "code",
   "execution_count": 439,
   "metadata": {},
   "outputs": [],
   "source": [
    "# NB: a handful of datapoints' TS are null. I backfill them.\n",
    "original_transcript.end_ts = original_transcript.end_ts.bfill()\n",
    "original_transcript.start_ts = original_transcript.start_ts.bfill()"
   ]
  },
  {
   "cell_type": "code",
   "execution_count": 440,
   "metadata": {},
   "outputs": [],
   "source": [
    "def seconds_to_tr(seconds):\n",
    "    \"\"\"\n",
    "    Segment into TRs starting at TR=0. Events are segmented based on their end TS.\n",
    "        1.0s = TR0\n",
    "        1.6s = TR1\n",
    "        3.1s = TR3\n",
    "        etc\n",
    "    \"\"\"\n",
    "    return int(seconds / 1.5)"
   ]
  },
  {
   "cell_type": "code",
   "execution_count": 441,
   "metadata": {},
   "outputs": [],
   "source": [
    "original_transcript[\"tr\"] = original_transcript.end_ts.apply(lambda x: seconds_to_tr(x))"
   ]
  },
  {
   "cell_type": "code",
   "execution_count": 442,
   "metadata": {},
   "outputs": [
    {
     "data": {
      "text/html": [
       "<div>\n",
       "<style scoped>\n",
       "    .dataframe tbody tr th:only-of-type {\n",
       "        vertical-align: middle;\n",
       "    }\n",
       "\n",
       "    .dataframe tbody tr th {\n",
       "        vertical-align: top;\n",
       "    }\n",
       "\n",
       "    .dataframe thead th {\n",
       "        text-align: right;\n",
       "    }\n",
       "</style>\n",
       "<table border=\"1\" class=\"dataframe\">\n",
       "  <thead>\n",
       "    <tr style=\"text-align: right;\">\n",
       "      <th></th>\n",
       "      <th>cased</th>\n",
       "      <th>uncased</th>\n",
       "      <th>start_ts</th>\n",
       "      <th>end_ts</th>\n",
       "      <th>tr</th>\n",
       "    </tr>\n",
       "  </thead>\n",
       "  <tbody>\n",
       "    <tr>\n",
       "      <th>875</th>\n",
       "      <td>I</td>\n",
       "      <td>i</td>\n",
       "      <td>393.15</td>\n",
       "      <td>393.33</td>\n",
       "      <td>262</td>\n",
       "    </tr>\n",
       "    <tr>\n",
       "      <th>876</th>\n",
       "      <td>really</td>\n",
       "      <td>really</td>\n",
       "      <td>393.38</td>\n",
       "      <td>393.93</td>\n",
       "      <td>262</td>\n",
       "    </tr>\n",
       "    <tr>\n",
       "      <th>877</th>\n",
       "      <td>Pie</td>\n",
       "      <td>pie</td>\n",
       "      <td>393.94</td>\n",
       "      <td>394.25</td>\n",
       "      <td>262</td>\n",
       "    </tr>\n",
       "    <tr>\n",
       "      <th>878</th>\n",
       "      <td>Man</td>\n",
       "      <td>man</td>\n",
       "      <td>394.37</td>\n",
       "      <td>394.81</td>\n",
       "      <td>263</td>\n",
       "    </tr>\n",
       "    <tr>\n",
       "      <th>879</th>\n",
       "      <td>For</td>\n",
       "      <td>for</td>\n",
       "      <td>398.76</td>\n",
       "      <td>398.99</td>\n",
       "      <td>265</td>\n",
       "    </tr>\n",
       "    <tr>\n",
       "      <th>880</th>\n",
       "      <td>having</td>\n",
       "      <td>having</td>\n",
       "      <td>399.00</td>\n",
       "      <td>399.35</td>\n",
       "      <td>266</td>\n",
       "    </tr>\n",
       "    <tr>\n",
       "      <th>881</th>\n",
       "      <td>brought</td>\n",
       "      <td>NaN</td>\n",
       "      <td>399.75</td>\n",
       "      <td>399.91</td>\n",
       "      <td>266</td>\n",
       "    </tr>\n",
       "    <tr>\n",
       "      <th>882</th>\n",
       "      <td>him</td>\n",
       "      <td>him</td>\n",
       "      <td>399.75</td>\n",
       "      <td>399.91</td>\n",
       "      <td>266</td>\n",
       "    </tr>\n",
       "    <tr>\n",
       "      <th>883</th>\n",
       "      <td>into</td>\n",
       "      <td>into</td>\n",
       "      <td>399.91</td>\n",
       "      <td>400.19</td>\n",
       "      <td>266</td>\n",
       "    </tr>\n",
       "    <tr>\n",
       "      <th>884</th>\n",
       "      <td>being</td>\n",
       "      <td>being</td>\n",
       "      <td>400.20</td>\n",
       "      <td>400.82</td>\n",
       "      <td>267</td>\n",
       "    </tr>\n",
       "    <tr>\n",
       "      <th>885</th>\n",
       "      <td>Didn’t</td>\n",
       "      <td>didn't</td>\n",
       "      <td>401.02</td>\n",
       "      <td>401.25</td>\n",
       "      <td>267</td>\n",
       "    </tr>\n",
       "    <tr>\n",
       "      <th>886</th>\n",
       "      <td>she</td>\n",
       "      <td>she</td>\n",
       "      <td>401.26</td>\n",
       "      <td>401.46</td>\n",
       "      <td>267</td>\n",
       "    </tr>\n",
       "    <tr>\n",
       "      <th>887</th>\n",
       "      <td>only</td>\n",
       "      <td>only</td>\n",
       "      <td>401.46</td>\n",
       "      <td>401.73</td>\n",
       "      <td>267</td>\n",
       "    </tr>\n",
       "    <tr>\n",
       "      <th>888</th>\n",
       "      <td>know</td>\n",
       "      <td>know</td>\n",
       "      <td>401.73</td>\n",
       "      <td>402.01</td>\n",
       "      <td>268</td>\n",
       "    </tr>\n",
       "    <tr>\n",
       "      <th>889</th>\n",
       "      <td>about</td>\n",
       "      <td>about</td>\n",
       "      <td>402.01</td>\n",
       "      <td>402.28</td>\n",
       "      <td>268</td>\n",
       "    </tr>\n",
       "  </tbody>\n",
       "</table>\n",
       "</div>"
      ],
      "text/plain": [
       "       cased uncased  start_ts  end_ts   tr\n",
       "875        I       i    393.15  393.33  262\n",
       "876   really  really    393.38  393.93  262\n",
       "877      Pie     pie    393.94  394.25  262\n",
       "878      Man     man    394.37  394.81  263\n",
       "879      For     for    398.76  398.99  265\n",
       "880   having  having    399.00  399.35  266\n",
       "881  brought     NaN    399.75  399.91  266\n",
       "882      him     him    399.75  399.91  266\n",
       "883     into    into    399.91  400.19  266\n",
       "884    being   being    400.20  400.82  267\n",
       "885   Didn’t  didn't    401.02  401.25  267\n",
       "886      she     she    401.26  401.46  267\n",
       "887     only    only    401.46  401.73  267\n",
       "888     know    know    401.73  402.01  268\n",
       "889    about   about    402.01  402.28  268"
      ]
     },
     "execution_count": 442,
     "metadata": {},
     "output_type": "execute_result"
    }
   ],
   "source": [
    "original_transcript.iloc[875:890]"
   ]
  },
  {
   "cell_type": "code",
   "execution_count": 443,
   "metadata": {},
   "outputs": [
    {
     "data": {
      "text/html": [
       "<div>\n",
       "<style scoped>\n",
       "    .dataframe tbody tr th:only-of-type {\n",
       "        vertical-align: middle;\n",
       "    }\n",
       "\n",
       "    .dataframe tbody tr th {\n",
       "        vertical-align: top;\n",
       "    }\n",
       "\n",
       "    .dataframe thead th {\n",
       "        text-align: right;\n",
       "    }\n",
       "</style>\n",
       "<table border=\"1\" class=\"dataframe\">\n",
       "  <thead>\n",
       "    <tr style=\"text-align: right;\">\n",
       "      <th></th>\n",
       "      <th>start_ts</th>\n",
       "      <th>end_ts</th>\n",
       "      <th>tr</th>\n",
       "      <th>tokens</th>\n",
       "      <th>n_tokens</th>\n",
       "    </tr>\n",
       "  </thead>\n",
       "  <tbody>\n",
       "    <tr>\n",
       "      <th>0</th>\n",
       "      <td>15.089999</td>\n",
       "      <td>16.310000</td>\n",
       "      <td>10</td>\n",
       "      <td>I began my illustrious</td>\n",
       "      <td>4</td>\n",
       "    </tr>\n",
       "    <tr>\n",
       "      <th>1</th>\n",
       "      <td>16.330000</td>\n",
       "      <td>17.929999</td>\n",
       "      <td>11</td>\n",
       "      <td>career in journalism</td>\n",
       "      <td>3</td>\n",
       "    </tr>\n",
       "    <tr>\n",
       "      <th>2</th>\n",
       "      <td>18.469999</td>\n",
       "      <td>19.390000</td>\n",
       "      <td>12</td>\n",
       "      <td>in the Bronx where</td>\n",
       "      <td>4</td>\n",
       "    </tr>\n",
       "    <tr>\n",
       "      <th>3</th>\n",
       "      <td>19.390000</td>\n",
       "      <td>20.890000</td>\n",
       "      <td>13</td>\n",
       "      <td>I toiled as a hard</td>\n",
       "      <td>5</td>\n",
       "    </tr>\n",
       "    <tr>\n",
       "      <th>4</th>\n",
       "      <td>20.890000</td>\n",
       "      <td>22.360000</td>\n",
       "      <td>14</td>\n",
       "      <td>boiled reporter for the</td>\n",
       "      <td>4</td>\n",
       "    </tr>\n",
       "  </tbody>\n",
       "</table>\n",
       "</div>"
      ],
      "text/plain": [
       "    start_ts     end_ts  tr                   tokens  n_tokens\n",
       "0  15.089999  16.310000  10   I began my illustrious         4\n",
       "1  16.330000  17.929999  11     career in journalism         3\n",
       "2  18.469999  19.390000  12       in the Bronx where         4\n",
       "3  19.390000  20.890000  13       I toiled as a hard         5\n",
       "4  20.890000  22.360000  14  boiled reporter for the         4"
      ]
     },
     "execution_count": 443,
     "metadata": {},
     "output_type": "execute_result"
    }
   ],
   "source": [
    "tr_grouped = []\n",
    "\n",
    "for k, g in original_transcript.groupby(\"tr\"):\n",
    "    tr_grouped.append({\n",
    "        \"start_ts\": g.start_ts.min(),\n",
    "        \"end_ts\": g.end_ts.max(),\n",
    "        \"tr\": k,\n",
    "        \"tokens\": \" \".join(g.cased.values),\n",
    "        \"n_tokens\": len(g)\n",
    "    })\n",
    "\n",
    "df = pd.DataFrame.from_records(tr_grouped)\n",
    "df.head()"
   ]
  },
  {
   "cell_type": "code",
   "execution_count": 444,
   "metadata": {},
   "outputs": [
    {
     "data": {
      "text/plain": [
       "3     59\n",
       "2     48\n",
       "4     44\n",
       "5     41\n",
       "1     23\n",
       "6     18\n",
       "8     12\n",
       "9      4\n",
       "7      4\n",
       "12     1\n",
       "Name: n_tokens, dtype: int64"
      ]
     },
     "execution_count": 444,
     "metadata": {},
     "output_type": "execute_result"
    }
   ],
   "source": [
    "df.n_tokens.value_counts()"
   ]
  },
  {
   "cell_type": "code",
   "execution_count": 445,
   "metadata": {},
   "outputs": [
    {
     "data": {
      "text/html": [
       "<div>\n",
       "<style scoped>\n",
       "    .dataframe tbody tr th:only-of-type {\n",
       "        vertical-align: middle;\n",
       "    }\n",
       "\n",
       "    .dataframe tbody tr th {\n",
       "        vertical-align: top;\n",
       "    }\n",
       "\n",
       "    .dataframe thead th {\n",
       "        text-align: right;\n",
       "    }\n",
       "</style>\n",
       "<table border=\"1\" class=\"dataframe\">\n",
       "  <thead>\n",
       "    <tr style=\"text-align: right;\">\n",
       "      <th></th>\n",
       "      <th>start_ts</th>\n",
       "      <th>end_ts</th>\n",
       "      <th>tr</th>\n",
       "      <th>tokens</th>\n",
       "      <th>n_tokens</th>\n",
       "    </tr>\n",
       "  </thead>\n",
       "  <tbody>\n",
       "    <tr>\n",
       "      <th>194</th>\n",
       "      <td>329.91</td>\n",
       "      <td>331.41</td>\n",
       "      <td>220</td>\n",
       "      <td>And toward the end of this run I was out at a</td>\n",
       "      <td>12</td>\n",
       "    </tr>\n",
       "  </tbody>\n",
       "</table>\n",
       "</div>"
      ],
      "text/plain": [
       "     start_ts  end_ts   tr                                         tokens  \\\n",
       "194    329.91  331.41  220  And toward the end of this run I was out at a   \n",
       "\n",
       "     n_tokens  \n",
       "194        12  "
      ]
     },
     "execution_count": 445,
     "metadata": {},
     "output_type": "execute_result"
    }
   ],
   "source": [
    "# Suspicious...\n",
    "df[df.n_tokens == 12]"
   ]
  },
  {
   "cell_type": "markdown",
   "metadata": {},
   "source": [
    "## Pad missing TRs"
   ]
  },
  {
   "cell_type": "code",
   "execution_count": 446,
   "metadata": {},
   "outputs": [
    {
     "data": {
      "text/plain": [
       "1.0    231\n",
       "2.0     21\n",
       "3.0      1\n",
       "Name: tr_shift, dtype: int64"
      ]
     },
     "execution_count": 446,
     "metadata": {},
     "output_type": "execute_result"
    }
   ],
   "source": [
    "df[\"tr_shift\"] = df.tr - df.tr.shift(1)\n",
    "df[\"prev_tr\"] = df.tr.shift(1)\n",
    "df.tr_shift.value_counts()"
   ]
  },
  {
   "cell_type": "code",
   "execution_count": 447,
   "metadata": {},
   "outputs": [
    {
     "data": {
      "text/html": [
       "<div>\n",
       "<style scoped>\n",
       "    .dataframe tbody tr th:only-of-type {\n",
       "        vertical-align: middle;\n",
       "    }\n",
       "\n",
       "    .dataframe tbody tr th {\n",
       "        vertical-align: top;\n",
       "    }\n",
       "\n",
       "    .dataframe thead th {\n",
       "        text-align: right;\n",
       "    }\n",
       "</style>\n",
       "<table border=\"1\" class=\"dataframe\">\n",
       "  <thead>\n",
       "    <tr style=\"text-align: right;\">\n",
       "      <th></th>\n",
       "      <th>start_ts</th>\n",
       "      <th>end_ts</th>\n",
       "      <th>tr</th>\n",
       "      <th>tokens</th>\n",
       "      <th>n_tokens</th>\n",
       "      <th>tr_shift</th>\n",
       "      <th>prev_tr</th>\n",
       "    </tr>\n",
       "  </thead>\n",
       "  <tbody>\n",
       "    <tr>\n",
       "      <th>99</th>\n",
       "      <td>175.67</td>\n",
       "      <td>176.83</td>\n",
       "      <td>117</td>\n",
       "      <td>I said that he cried out</td>\n",
       "      <td>6</td>\n",
       "      <td>3.0</td>\n",
       "      <td>114.0</td>\n",
       "    </tr>\n",
       "  </tbody>\n",
       "</table>\n",
       "</div>"
      ],
      "text/plain": [
       "    start_ts  end_ts   tr                    tokens  n_tokens  tr_shift  \\\n",
       "99    175.67  176.83  117  I said that he cried out         6       3.0   \n",
       "\n",
       "    prev_tr  \n",
       "99    114.0  "
      ]
     },
     "execution_count": 447,
     "metadata": {},
     "output_type": "execute_result"
    }
   ],
   "source": [
    "df[df[\"tr_shift\"] > 2]"
   ]
  },
  {
   "cell_type": "code",
   "execution_count": 448,
   "metadata": {},
   "outputs": [
    {
     "data": {
      "text/html": [
       "<div>\n",
       "<style scoped>\n",
       "    .dataframe tbody tr th:only-of-type {\n",
       "        vertical-align: middle;\n",
       "    }\n",
       "\n",
       "    .dataframe tbody tr th {\n",
       "        vertical-align: top;\n",
       "    }\n",
       "\n",
       "    .dataframe thead th {\n",
       "        text-align: right;\n",
       "    }\n",
       "</style>\n",
       "<table border=\"1\" class=\"dataframe\">\n",
       "  <thead>\n",
       "    <tr style=\"text-align: right;\">\n",
       "      <th></th>\n",
       "      <th>start_ts</th>\n",
       "      <th>end_ts</th>\n",
       "      <th>tr</th>\n",
       "      <th>tokens</th>\n",
       "      <th>n_tokens</th>\n",
       "      <th>tr_shift</th>\n",
       "      <th>prev_tr</th>\n",
       "    </tr>\n",
       "  </thead>\n",
       "  <tbody>\n",
       "    <tr>\n",
       "      <th>0</th>\n",
       "      <td>15.089999</td>\n",
       "      <td>16.310000</td>\n",
       "      <td>10</td>\n",
       "      <td>I began my illustrious</td>\n",
       "      <td>4.0</td>\n",
       "      <td>NaN</td>\n",
       "      <td>NaN</td>\n",
       "    </tr>\n",
       "    <tr>\n",
       "      <th>1</th>\n",
       "      <td>16.330000</td>\n",
       "      <td>17.929999</td>\n",
       "      <td>11</td>\n",
       "      <td>career in journalism</td>\n",
       "      <td>3.0</td>\n",
       "      <td>1.0</td>\n",
       "      <td>10.0</td>\n",
       "    </tr>\n",
       "    <tr>\n",
       "      <th>2</th>\n",
       "      <td>18.469999</td>\n",
       "      <td>19.390000</td>\n",
       "      <td>12</td>\n",
       "      <td>in the Bronx where</td>\n",
       "      <td>4.0</td>\n",
       "      <td>1.0</td>\n",
       "      <td>11.0</td>\n",
       "    </tr>\n",
       "    <tr>\n",
       "      <th>3</th>\n",
       "      <td>19.390000</td>\n",
       "      <td>20.890000</td>\n",
       "      <td>13</td>\n",
       "      <td>I toiled as a hard</td>\n",
       "      <td>5.0</td>\n",
       "      <td>1.0</td>\n",
       "      <td>12.0</td>\n",
       "    </tr>\n",
       "    <tr>\n",
       "      <th>4</th>\n",
       "      <td>20.890000</td>\n",
       "      <td>22.360000</td>\n",
       "      <td>14</td>\n",
       "      <td>boiled reporter for the</td>\n",
       "      <td>4.0</td>\n",
       "      <td>1.0</td>\n",
       "      <td>13.0</td>\n",
       "    </tr>\n",
       "  </tbody>\n",
       "</table>\n",
       "</div>"
      ],
      "text/plain": [
       "    start_ts     end_ts  tr                   tokens  n_tokens  tr_shift  \\\n",
       "0  15.089999  16.310000  10   I began my illustrious       4.0       NaN   \n",
       "1  16.330000  17.929999  11     career in journalism       3.0       1.0   \n",
       "2  18.469999  19.390000  12       in the Bronx where       4.0       1.0   \n",
       "3  19.390000  20.890000  13       I toiled as a hard       5.0       1.0   \n",
       "4  20.890000  22.360000  14  boiled reporter for the       4.0       1.0   \n",
       "\n",
       "   prev_tr  \n",
       "0      NaN  \n",
       "1     10.0  \n",
       "2     11.0  \n",
       "3     12.0  \n",
       "4     13.0  "
      ]
     },
     "execution_count": 448,
     "metadata": {},
     "output_type": "execute_result"
    }
   ],
   "source": [
    "def generate_missing_trs(row):\n",
    "    \n",
    "    if row[\"tr_shift\"] > 1:\n",
    "        return [{\"tokens\": \"\", \"tr\": int(row[\"prev_tr\"] + i + 1)} for i in range(0, int(row[\"tr_shift\"] - 1))]\n",
    "\n",
    "def pad_missing_trs(df):\n",
    "    \n",
    "    missing = df.apply(lambda x: generate_missing_trs(x), axis=1)\n",
    "    missing = missing[missing.values != None].values\n",
    "\n",
    "    missing_tr_df = pd.DataFrame.from_records(itertools.chain.from_iterable(missing))\n",
    "    \n",
    "    return missing_tr_df\n",
    "\n",
    "final_df = pd.concat([df, pad_missing_trs(df)])\n",
    "\n",
    "final_df.sort_values(\"tr\").head()"
   ]
  },
  {
   "cell_type": "code",
   "execution_count": 449,
   "metadata": {},
   "outputs": [
    {
     "data": {
      "text/plain": [
       "286    1\n",
       "103    1\n",
       "97     1\n",
       "98     1\n",
       "99     1\n",
       "      ..\n",
       "188    1\n",
       "187    1\n",
       "186    1\n",
       "185    1\n",
       "10     1\n",
       "Name: tr, Length: 277, dtype: int64"
      ]
     },
     "execution_count": 449,
     "metadata": {},
     "output_type": "execute_result"
    }
   ],
   "source": [
    "# Set index to TR\n",
    "final_df.index = final_df.tr\n",
    "\n",
    "# Make sure no duplicates\n",
    "final_df.tr.value_counts()"
   ]
  },
  {
   "cell_type": "code",
   "execution_count": 452,
   "metadata": {},
   "outputs": [],
   "source": [
    "final_df.to_csv(\"data/stimuli/{}/tr_tokens.csv\".format(STORY))"
   ]
  },
  {
   "cell_type": "code",
   "execution_count": 453,
   "metadata": {},
   "outputs": [
    {
     "data": {
      "text/plain": [
       "286"
      ]
     },
     "execution_count": 453,
     "metadata": {},
     "output_type": "execute_result"
    }
   ],
   "source": [
    "final_df.tr.max()"
   ]
  },
  {
   "cell_type": "code",
   "execution_count": null,
   "metadata": {},
   "outputs": [],
   "source": []
  }
 ],
 "metadata": {
  "kernelspec": {
   "display_name": "Python 3",
   "language": "python",
   "name": "python3"
  },
  "language_info": {
   "codemirror_mode": {
    "name": "ipython",
    "version": 3
   },
   "file_extension": ".py",
   "mimetype": "text/x-python",
   "name": "python",
   "nbconvert_exporter": "python",
   "pygments_lexer": "ipython3",
   "version": "3.8.5"
  }
 },
 "nbformat": 4,
 "nbformat_minor": 4
}
