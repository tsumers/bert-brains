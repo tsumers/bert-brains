{
 "cells": [
  {
   "cell_type": "code",
   "execution_count": 1,
   "metadata": {},
   "outputs": [],
   "source": [
    "import numpy as np \n",
    "import nibabel as nib \n",
    "import matplotlib.pyplot as plt \n",
    "import nilearn.plotting as niplt\n",
    "%matplotlib inline \n",
    "import os \n",
    "import seaborn as sns \n",
    "from scipy.special import softmax \n",
    "from scipy.stats import ttest_rel\n",
    "import pandas as pd "
   ]
  },
  {
   "cell_type": "code",
   "execution_count": 2,
   "metadata": {},
   "outputs": [],
   "source": [
    "black_subs=['sub-300', 'sub-304', 'sub-293', 'sub-273', 'sub-265', 'sub-307', 'sub-283', 'sub-275', \n",
    "'sub-291', 'sub-297', 'sub-303', 'sub-294', 'sub-286', 'sub-282', 'sub-310', 'sub-302', 'sub-312', \n",
    "'sub-301', 'sub-287', 'sub-298', 'sub-313', 'sub-285', 'sub-290', 'sub-288', 'sub-281', 'sub-276', 'sub-277', 'sub-299', 'sub-308',\n",
    "'sub-272', 'sub-284', 'sub-289', 'sub-280', 'sub-309', 'sub-306', 'sub-127', 'sub-279', \n",
    "'sub-315', 'sub-314','sub-292', 'sub-311', 'sub-267', 'sub-295', 'sub-305', 'sub-274'] \n",
    "slumlordreach_subs=['sub-145', 'sub-143', 'sub-016', 'sub-142', 'sub-141', 'sub-133', 'sub-140', 'sub-136', \n",
    "'sub-084', 'sub-135', 'sub-137', 'sub-138', 'sub-111', 'sub-106', 'sub-134', 'sub-132', 'sub-144']\n",
    "rois=['PostTemp','AntTemp','AngG','IFG','IFGorb','MFG','vmPFC','dmPFC','PMC','HG','V1']"
   ]
  },
  {
   "cell_type": "code",
   "execution_count": 3,
   "metadata": {},
   "outputs": [],
   "source": [
    "def get_results(dir_name,postfix):\n",
    "    results=[]\n",
    "    for story in ['black','slumlordreach']:\n",
    "        results_story=[]\n",
    "        if story=='black':\n",
    "            subs=black_subs\n",
    "        if story=='slumlordreach':\n",
    "            subs=slumlordreach_subs\n",
    "        result_dir='/jukebox/griffiths/bert-brains/results/'+story+\"/\"+dir_name+\"/\"\n",
    "        roi_mapping=np.load('/jukebox/griffiths/bert-brains/'+story+'_data/Parcel2ROI.npy')\n",
    "        for sub in subs:\n",
    "            \n",
    "            #results_sub_parcels=np.load(result_dir+sub+\"_parcelwise_results.npy\")\n",
    "            #noise_ceiling_parcels=np.load('/jukebox/griffiths/bert-brains/'+story+\"_data/isc/\"+sub+'.npy')\n",
    "            results_sub_parcels=np.arctanh(np.load(result_dir+sub+\"_parcelwise_results_banded_ridge_\"+postfix+\".npy\"))\n",
    "            \n",
    "            #print(results_sub_parcels.shape)\n",
    "            noise_ceiling_parcels=np.arctanh(np.load('/jukebox/griffiths/bert-brains/'+story+\"_data/isc/\"+sub+'.npy'))\n",
    "            results_sub=np.zeros((20,results_sub_parcels.shape[1]))\n",
    "            print(results_sub_parcels.shape,noise_ceiling_parcels.shape)\n",
    "            for roi in range(20):\n",
    "                #results_sub[roi]=(results_sub_parcels[np.where(roi_mapping==roi+1)].mean(axis=0)/noise_ceiling_parcels[np.where(roi_mapping==roi+1)].mean())\n",
    "                #results_sub[roi]=results_sub[roi]*100.0\n",
    "                #print(results_sub_parcels[np.where(roi_mapping==roi+1)].shape)\n",
    "                results_sub[roi]=results_sub_parcels[np.where(roi_mapping==roi+1)].mean(axis=0)\n",
    "            #results_story.append(-1*np.log(results_sub/noise_sub))\n",
    "            results_story.append(results_sub)\n",
    "        results_story=np.asarray(results_story)\n",
    "        results.append(results_story)\n",
    "    results=np.concatenate(results,axis=0)\n",
    "    results[np.isnan(results)]=0.0\n",
    "    return results "
   ]
  },
  {
   "cell_type": "code",
   "execution_count": 4,
   "metadata": {},
   "outputs": [
    {
     "name": "stdout",
     "output_type": "stream",
     "text": [
      "(1000, 12) (1000,)\n",
      "(1000, 12) (1000,)\n",
      "(1000, 12) (1000,)\n",
      "(1000, 12) (1000,)\n",
      "(1000, 12) (1000,)\n",
      "(1000, 12) (1000,)\n",
      "(1000, 12) (1000,)\n",
      "(1000, 12) (1000,)\n",
      "(1000, 12) (1000,)\n",
      "(1000, 12) (1000,)\n",
      "(1000, 12) (1000,)\n",
      "(1000, 12) (1000,)\n",
      "(1000, 12) (1000,)\n",
      "(1000, 12) (1000,)\n",
      "(1000, 12) (1000,)\n",
      "(1000, 12) (1000,)\n",
      "(1000, 12) (1000,)\n",
      "(1000, 12) (1000,)\n",
      "(1000, 12) (1000,)\n",
      "(1000, 12) (1000,)\n",
      "(1000, 12) (1000,)\n",
      "(1000, 12) (1000,)\n",
      "(1000, 12) (1000,)\n",
      "(1000, 12) (1000,)\n",
      "(1000, 12) (1000,)\n",
      "(1000, 12) (1000,)\n",
      "(1000, 12) (1000,)\n",
      "(1000, 12) (1000,)\n",
      "(1000, 12) (1000,)\n",
      "(1000, 12) (1000,)\n",
      "(1000, 12) (1000,)\n",
      "(1000, 12) (1000,)\n",
      "(1000, 12) (1000,)\n",
      "(1000, 12) (1000,)\n",
      "(1000, 12) (1000,)\n",
      "(1000, 12) (1000,)\n",
      "(1000, 12) (1000,)\n",
      "(1000, 12) (1000,)\n",
      "(1000, 12) (1000,)\n",
      "(1000, 12) (1000,)\n",
      "(1000, 12) (1000,)\n",
      "(1000, 12) (1000,)\n",
      "(1000, 12) (1000,)\n",
      "(1000, 12) (1000,)\n",
      "(1000, 12) (1000,)\n",
      "(1000, 12) (1000,)\n",
      "(1000, 12) (1000,)\n",
      "(1000, 12) (1000,)\n",
      "(1000, 12) (1000,)\n",
      "(1000, 12) (1000,)\n",
      "(1000, 12) (1000,)\n",
      "(1000, 12) (1000,)\n",
      "(1000, 12) (1000,)\n",
      "(1000, 12) (1000,)\n",
      "(1000, 12) (1000,)\n",
      "(1000, 12) (1000,)\n",
      "(1000, 12) (1000,)\n",
      "(1000, 12) (1000,)\n",
      "(1000, 12) (1000,)\n",
      "(1000, 12) (1000,)\n",
      "(1000, 12) (1000,)\n",
      "(1000, 12) (1000,)\n"
     ]
    }
   ],
   "source": [
    "layer_bands=get_results('encoding_layerbands','layerbands')"
   ]
  },
  {
   "cell_type": "code",
   "execution_count": null,
   "metadata": {},
   "outputs": [],
   "source": []
  },
  {
   "cell_type": "code",
   "execution_count": 5,
   "metadata": {},
   "outputs": [
    {
     "data": {
      "text/plain": [
       "(array([ 2.,  3.,  8.,  7.,  6., 11.,  7., 11.,  5.,  2.]),\n",
       " array([-0.0300546 , -0.01346508,  0.00312444,  0.01971397,  0.03630349,\n",
       "         0.05289301,  0.06948253,  0.08607206,  0.10266158,  0.1192511 ,\n",
       "         0.13584062]),\n",
       " <a list of 10 Patch objects>)"
      ]
     },
     "execution_count": 5,
     "metadata": {},
     "output_type": "execute_result"
    },
    {
     "data": {
      "image/png": "[encoded data removed]",
      "text/plain": [
       "<Figure size 432x288 with 1 Axes>"
      ]
     },
     "metadata": {
      "needs_background": "light"
     },
     "output_type": "display_data"
    }
   ],
   "source": [
    "plt.hist(layer_bands[:,10,5])"
   ]
  },
  {
   "cell_type": "code",
   "execution_count": 6,
   "metadata": {},
   "outputs": [
    {
     "data": {
      "image/png": "[encoded data removed]",
      "text/plain": [
       "<Figure size 432x288 with 1 Axes>"
      ]
     },
     "metadata": {},
     "output_type": "display_data"
    }
   ],
   "source": [
    "#layer_bands=get_results('encoding_layerbands','layerbands')\n",
    "\n",
    "l_idx=1\n",
    "roi=[]\n",
    "performance=[]\n",
    "example_layer=layer_bands[:,:,l_idx]\n",
    "for i in range(example_layer.shape[0]):\n",
    "    for j in range(20):\n",
    "        roi.append(rois[j%11])\n",
    "        r=example_layer[i,j]\n",
    "        if r<-800:\n",
    "            r=0\n",
    "        performance.append(r)\n",
    "roi=np.asarray(roi)\n",
    "performance=np.asarray(performance)\n",
    "df=pd.DataFrame(dict(performance=performance,roi=roi))\n",
    "#plt.figure(figsize=(10,10))\n",
    "plt.figure()\n",
    "plt.title(\"Layer \"+str(l_idx+1))\n",
    "sns.pointplot(data=df.sort_values('performance'),x='roi',y='performance',dodge=0.5,join=False,ci=95,n_boot=10000,zorder=2,alpha=0.5,order=['HG','PostTemp','AntTemp','AngG','IFG',\n",
    "'IFGorb','MFG','vmPFC','dmPFC','PMC','V1'],capsize=0,estimator=np.mean)\n",
    "#sns.despine(top=True,right=True,left=False,bottom=False)\n",
    "my_colors=['C'+str(i) for i in range(10)]\n",
    "for ticklabel, tickcolor in zip(plt.gca().get_xticklabels(), my_colors):\n",
    "    ticklabel.set_color(tickcolor)\n",
    "plt.xlabel(\"\")\n",
    "plt.ylabel(\"\")\n",
    "#plt.ylim(-5,35)\n",
    "for i in range(11):\n",
    "    plt.axvline(x=i+0.5,color='black',linestyle='--')\n"
   ]
  },
  {
   "cell_type": "code",
   "execution_count": 7,
   "metadata": {},
   "outputs": [
    {
     "data": {
      "text/plain": [
       "(62, 20, 12)"
      ]
     },
     "execution_count": 7,
     "metadata": {},
     "output_type": "execute_result"
    }
   ],
   "source": [
    "layer_bands.shape"
   ]
  },
  {
   "cell_type": "code",
   "execution_count": 9,
   "metadata": {},
   "outputs": [
    {
     "data": {
      "text/plain": [
       "7.572499464337159"
      ]
     },
     "execution_count": 9,
     "metadata": {},
     "output_type": "execute_result"
    }
   ],
   "source": [
    "layer_bands[:,10,0].mean()"
   ]
  },
  {
   "cell_type": "code",
   "execution_count": 9,
   "metadata": {},
   "outputs": [
    {
     "data": {
      "text/plain": [
       "(0,)"
      ]
     },
     "execution_count": 9,
     "metadata": {},
     "output_type": "execute_result"
    }
   ],
   "source": [
    "layer_bands=get_results('encoding_zbands','zbands')\n",
    "\n",
    "for i in range(12):\n",
    "    roi=[]\n",
    "    performance=[]\n",
    "    example_layer=layer_bands[:,:,0]\n",
    "    for i in range(example_layer.shape[0]):\n",
    "        for j in range(20):\n",
    "            roi.append(rois[j%11])\n",
    "            r=example_layer[i,j]\n",
    "            if r<-800:\n",
    "                r=0\n",
    "            performance.append(r)\n",
    "    roi=np.asarray(roi)\n",
    "    performance=np.asarray(performance)\n",
    "    df=pd.DataFrame(dict(performance=performance,roi=roi))\n",
    "    #plt.figure(figsize=(10,10))\n",
    "    plt.figure()\n",
    "    plt.title(\"Layer \"+str(i+1))\n",
    "    sns.pointplot(data=df.sort_values('performance'),x='roi',y='performance',dodge=0.5,join=False,ci=95,n_boot=10000,zorder=2,alpha=0.5,order=['HG','PostTemp','AntTemp','AngG','IFG',\n",
    "    'IFGorb','MFG','vmPFC','dmPFC','PMC','V1'],capsize=0,estimator=np.median)\n",
    "    #sns.despine(top=True,right=True,left=False,bottom=False)\n",
    "    my_colors=['C'+str(i) for i in range(10)]\n",
    "    for ticklabel, tickcolor in zip(plt.gca().get_xticklabels(), my_colors):\n",
    "        ticklabel.set_color(tickcolor)\n",
    "    plt.xlabel(\"\")\n",
    "    plt.ylabel(\"\")\n",
    "    plt.ylim(-5,35)\n",
    "    for i in range(11):\n",
    "        plt.axvline(x=i+0.5,color='black',linestyle='--')\n"
   ]
  },
  {
   "cell_type": "code",
   "execution_count": null,
   "metadata": {},
   "outputs": [],
   "source": []
  }
 ],
 "metadata": {
  "interpreter": {
   "hash": "955b2acae79c1d849ae190a1194ad702c2079e5a92984e875c87cc3ca011a3e2"
  },
  "kernelspec": {
   "display_name": "Python 3.7.9 64-bit ('fmri': conda)",
   "language": "python",
   "name": "python3"
  },
  "language_info": {
   "codemirror_mode": {
    "name": "ipython",
    "version": 3
   },
   "file_extension": ".py",
   "mimetype": "text/x-python",
   "name": "python",
   "nbconvert_exporter": "python",
   "pygments_lexer": "ipython3",
   "version": "3.7.9"
  },
  "orig_nbformat": 4
 },
 "nbformat": 4,
 "nbformat_minor": 2
}
